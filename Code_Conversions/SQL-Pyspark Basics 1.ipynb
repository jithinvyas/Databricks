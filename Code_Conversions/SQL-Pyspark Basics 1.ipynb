{
 "cells": [
  {
   "cell_type": "markdown",
   "metadata": {
    "application/vnd.databricks.v1+cell": {
     "cellMetadata": {},
     "inputWidgets": {},
     "nuid": "8cb264ed-90e5-4ac8-bc65-6cd4661ce0ae",
     "showTitle": false,
     "title": ""
    }
   },
   "source": [
    "# Read Data"
   ]
  },
  {
   "cell_type": "code",
   "execution_count": 0,
   "metadata": {
    "application/vnd.databricks.v1+cell": {
     "cellMetadata": {
      "byteLimit": 2048000,
      "rowLimit": 10000
     },
     "inputWidgets": {},
     "nuid": "3caf7fbc-1b9a-4777-9e92-0f9be0adac17",
     "showTitle": false,
     "title": ""
    }
   },
   "outputs": [],
   "source": [
    "path = 'dbfs:/FileStore/employee_data.csv'"
   ]
  },
  {
   "cell_type": "code",
   "execution_count": 0,
   "metadata": {
    "application/vnd.databricks.v1+cell": {
     "cellMetadata": {
      "byteLimit": 2048000,
      "rowLimit": 10000
     },
     "inputWidgets": {},
     "nuid": "320bab4b-93d2-4876-987f-9020c66c7706",
     "showTitle": false,
     "title": ""
    }
   },
   "outputs": [],
   "source": [
    "df = spark.read.format('csv').option('header','true').option('inferSchema','true').load(path)"
   ]
  },
  {
   "cell_type": "code",
   "execution_count": 0,
   "metadata": {
    "application/vnd.databricks.v1+cell": {
     "cellMetadata": {
      "byteLimit": 2048000,
      "rowLimit": 10000
     },
     "inputWidgets": {},
     "nuid": "9f757db2-e7cc-41bf-9311-5b5af3a29b8d",
     "showTitle": false,
     "title": ""
    }
   },
   "outputs": [
    {
     "output_type": "display_data",
     "data": {
      "text/html": [
       "<style scoped>\n",
       "  .table-result-container {\n",
       "    max-height: 300px;\n",
       "    overflow: auto;\n",
       "  }\n",
       "  table, th, td {\n",
       "    border: 1px solid black;\n",
       "    border-collapse: collapse;\n",
       "  }\n",
       "  th, td {\n",
       "    padding: 5px;\n",
       "  }\n",
       "  th {\n",
       "    text-align: left;\n",
       "  }\n",
       "</style><div class='table-result-container'><table class='table-result'><thead style='background-color: white'><tr><th>10</th><th>295847284</th><th>adventure-works\\ken0</th><th>NULL3</th><th>NULL4</th><th>Chief Executive Officer</th><th>1969-01-29</th><th>S</th><th>M</th><th>2009-01-14</th><th>110</th><th>99</th><th>69</th><th>113</th><th>F01251E5-96A3-448D-981E-0F99D789110D</th><th>2014-06-30 00:00:00.000</th></tr></thead><tbody><tr><td>2</td><td>245797967</td><td>adventure-works\\terri0</td><td>0x58</td><td>1</td><td>Vice President of Engineering</td><td>1971-08-01</td><td>S</td><td>F</td><td>2008-01-31</td><td>1</td><td>1</td><td>20</td><td>1</td><td>45E8F437-670D-4409-93CB-F9424A40D6EE</td><td>2014-06-30T00:00:00.000+0000</td></tr><tr><td>3</td><td>509647174</td><td>adventure-works\\roberto0</td><td>0x5AC0</td><td>2</td><td>Engineering Manager</td><td>1974-11-12</td><td>M</td><td>M</td><td>2007-11-11</td><td>1</td><td>2</td><td>21</td><td>1</td><td>9BBBFB2C-EFBB-4217-9AB7-F97689328841</td><td>2014-06-30T00:00:00.000+0000</td></tr><tr><td>4</td><td>112457891</td><td>adventure-works\\rob0</td><td>0x5AD6</td><td>3</td><td>Senior Tool Designer</td><td>1974-12-23</td><td>S</td><td>M</td><td>2007-12-05</td><td>0</td><td>48</td><td>80</td><td>1</td><td>59747955-87B8-443F-8ED4-F8AD3AFDF3A9</td><td>2014-06-30T00:00:00.000+0000</td></tr><tr><td>5</td><td>695256908</td><td>adventure-works\\gail0</td><td>0x5ADA</td><td>3</td><td>Design Engineer</td><td>1952-09-27</td><td>M</td><td>F</td><td>2008-01-06</td><td>1</td><td>5</td><td>22</td><td>1</td><td>EC84AE09-F9B8-4A15-B4A9-6CCBAB919B08</td><td>2014-06-30T00:00:00.000+0000</td></tr><tr><td>6</td><td>998320692</td><td>adventure-works\\jossef0</td><td>0x5ADE</td><td>3</td><td>Design Engineer</td><td>1959-03-11</td><td>M</td><td>M</td><td>2008-01-24</td><td>1</td><td>6</td><td>23</td><td>1</td><td>E39056F1-9CD5-478D-8945-14ACA7FBDCDD</td><td>2014-06-30T00:00:00.000+0000</td></tr></tbody></table></div>"
      ]
     },
     "metadata": {
      "application/vnd.databricks.v1+output": {
       "addedWidgets": {},
       "aggData": [],
       "aggError": "",
       "aggOverflow": false,
       "aggSchema": [],
       "aggSeriesLimitReached": false,
       "aggType": "",
       "arguments": {},
       "columnCustomDisplayInfos": {},
       "data": [
        [
         2,
         245797967,
         "adventure-works\\terri0",
         "0x58",
         1,
         "Vice President of Engineering",
         "1971-08-01",
         "S",
         "F",
         "2008-01-31",
         1,
         1,
         20,
         1,
         "45E8F437-670D-4409-93CB-F9424A40D6EE",
         "2014-06-30T00:00:00.000+0000"
        ],
        [
         3,
         509647174,
         "adventure-works\\roberto0",
         "0x5AC0",
         2,
         "Engineering Manager",
         "1974-11-12",
         "M",
         "M",
         "2007-11-11",
         1,
         2,
         21,
         1,
         "9BBBFB2C-EFBB-4217-9AB7-F97689328841",
         "2014-06-30T00:00:00.000+0000"
        ],
        [
         4,
         112457891,
         "adventure-works\\rob0",
         "0x5AD6",
         3,
         "Senior Tool Designer",
         "1974-12-23",
         "S",
         "M",
         "2007-12-05",
         0,
         48,
         80,
         1,
         "59747955-87B8-443F-8ED4-F8AD3AFDF3A9",
         "2014-06-30T00:00:00.000+0000"
        ],
        [
         5,
         695256908,
         "adventure-works\\gail0",
         "0x5ADA",
         3,
         "Design Engineer",
         "1952-09-27",
         "M",
         "F",
         "2008-01-06",
         1,
         5,
         22,
         1,
         "EC84AE09-F9B8-4A15-B4A9-6CCBAB919B08",
         "2014-06-30T00:00:00.000+0000"
        ],
        [
         6,
         998320692,
         "adventure-works\\jossef0",
         "0x5ADE",
         3,
         "Design Engineer",
         "1959-03-11",
         "M",
         "M",
         "2008-01-24",
         1,
         6,
         23,
         1,
         "E39056F1-9CD5-478D-8945-14ACA7FBDCDD",
         "2014-06-30T00:00:00.000+0000"
        ]
       ],
       "datasetInfos": [],
       "dbfsResultPath": null,
       "isJsonSchema": true,
       "metadata": {},
       "overflow": false,
       "plotOptions": {
        "customPlotOptions": {},
        "displayType": "table",
        "pivotAggregation": null,
        "pivotColumns": null,
        "xColumns": null,
        "yColumns": null
       },
       "removedWidgets": [],
       "schema": [
        {
         "metadata": "{}",
         "name": "10",
         "type": "\"integer\""
        },
        {
         "metadata": "{}",
         "name": "295847284",
         "type": "\"integer\""
        },
        {
         "metadata": "{}",
         "name": "adventure-works\\ken0",
         "type": "\"string\""
        },
        {
         "metadata": "{}",
         "name": "NULL3",
         "type": "\"string\""
        },
        {
         "metadata": "{}",
         "name": "NULL4",
         "type": "\"integer\""
        },
        {
         "metadata": "{}",
         "name": "Chief Executive Officer",
         "type": "\"string\""
        },
        {
         "metadata": "{\"__detected_date_formats\":\"yyyy-M-d\"}",
         "name": "1969-01-29",
         "type": "\"date\""
        },
        {
         "metadata": "{}",
         "name": "S",
         "type": "\"string\""
        },
        {
         "metadata": "{}",
         "name": "M",
         "type": "\"string\""
        },
        {
         "metadata": "{\"__detected_date_formats\":\"yyyy-M-d\"}",
         "name": "2009-01-14",
         "type": "\"date\""
        },
        {
         "metadata": "{}",
         "name": "110",
         "type": "\"integer\""
        },
        {
         "metadata": "{}",
         "name": "99",
         "type": "\"integer\""
        },
        {
         "metadata": "{}",
         "name": "69",
         "type": "\"integer\""
        },
        {
         "metadata": "{}",
         "name": "113",
         "type": "\"integer\""
        },
        {
         "metadata": "{}",
         "name": "F01251E5-96A3-448D-981E-0F99D789110D",
         "type": "\"string\""
        },
        {
         "metadata": "{}",
         "name": "2014-06-30 00:00:00.000",
         "type": "\"timestamp\""
        }
       ],
       "type": "table"
      }
     },
     "output_type": "display_data"
    }
   ],
   "source": [
    "display(df.limit(5))"
   ]
  },
  {
   "cell_type": "markdown",
   "metadata": {
    "application/vnd.databricks.v1+cell": {
     "cellMetadata": {},
     "inputWidgets": {},
     "nuid": "ed4600fd-2386-45f9-a687-837bfc2b764d",
     "showTitle": false,
     "title": ""
    }
   },
   "source": [
    "# Read Data by adding Headers"
   ]
  },
  {
   "cell_type": "code",
   "execution_count": 0,
   "metadata": {
    "application/vnd.databricks.v1+cell": {
     "cellMetadata": {
      "byteLimit": 2048000,
      "rowLimit": 10000
     },
     "inputWidgets": {},
     "nuid": "eec0ef82-4cf9-4ef6-b32d-c58ffdd73a9b",
     "showTitle": false,
     "title": ""
    }
   },
   "outputs": [],
   "source": [
    "from pyspark.sql.functions import *\n",
    "from pyspark.sql.types import *\n",
    "from pyspark.sql.window import Window"
   ]
  },
  {
   "cell_type": "code",
   "execution_count": 0,
   "metadata": {
    "application/vnd.databricks.v1+cell": {
     "cellMetadata": {
      "byteLimit": 2048000,
      "rowLimit": 10000
     },
     "inputWidgets": {},
     "nuid": "83ccc196-5eed-43c0-b044-2c96d699883e",
     "showTitle": false,
     "title": ""
    }
   },
   "outputs": [],
   "source": [
    "\n",
    "columns=StructType((\n",
    "                StructField('BusinessEntityID',IntegerType(),True),\n",
    "                StructField('NationalIDNumber',IntegerType(),True),\n",
    "                StructField('LoginID',StringType(),True),\n",
    "                StructField('OrganizationNode',StringType(),True),\n",
    "                StructField('OrganizationLevel',IntegerType(),True),\n",
    "                StructField('JobTitle',StringType(),True),\n",
    "                StructField('BirthDate',DateType(),True),\n",
    "                StructField('MaritalStatus',StringType(),True),\n",
    "                StructField('Gender',StringType(),True),\n",
    "                StructField('HireDate',TimestampType(),True),\n",
    "                StructField('SalariedFlag',IntegerType(),True),\n",
    "                StructField('VacationHours',IntegerType(),True),\n",
    "                StructField('SickLeaveHours',IntegerType(),True),\n",
    "                StructField('CurrentFlag',IntegerType(),True),\n",
    "                StructField('rowguid',StringType(),True),\n",
    "                StructField('ModifiedDate',TimestampType(),True)\n",
    "            ))\n"
   ]
  },
  {
   "cell_type": "code",
   "execution_count": 0,
   "metadata": {
    "application/vnd.databricks.v1+cell": {
     "cellMetadata": {
      "byteLimit": 2048000,
      "rowLimit": 10000
     },
     "inputWidgets": {},
     "nuid": "6a9d2f3a-5b01-47df-82f1-9524efc4593b",
     "showTitle": false,
     "title": ""
    }
   },
   "outputs": [
    {
     "output_type": "display_data",
     "data": {
      "text/html": [
       "<style scoped>\n",
       "  .table-result-container {\n",
       "    max-height: 300px;\n",
       "    overflow: auto;\n",
       "  }\n",
       "  table, th, td {\n",
       "    border: 1px solid black;\n",
       "    border-collapse: collapse;\n",
       "  }\n",
       "  th, td {\n",
       "    padding: 5px;\n",
       "  }\n",
       "  th {\n",
       "    text-align: left;\n",
       "  }\n",
       "</style><div class='table-result-container'><table class='table-result'><thead style='background-color: white'><tr><th>BusinessEntityID</th><th>NationalIDNumber</th><th>LoginID</th><th>OrganizationNode</th><th>OrganizationLevel</th><th>JobTitle</th><th>BirthDate</th><th>MaritalStatus</th><th>Gender</th><th>HireDate</th><th>SalariedFlag</th><th>VacationHours</th><th>SickLeaveHours</th><th>CurrentFlag</th><th>rowguid</th><th>ModifiedDate</th></tr></thead><tbody><tr><td>1</td><td>295847284</td><td>adventure-works\\ken0</td><td>NULL</td><td>null</td><td>Chief Executive Officer</td><td>1969-01-29</td><td>S</td><td>M</td><td>2009-01-14T00:00:00.000+0000</td><td>1</td><td>99</td><td>69</td><td>1</td><td>F01251E5-96A3-448D-981E-0F99D789110D</td><td>2014-06-30T00:00:00.000+0000</td></tr><tr><td>2</td><td>245797967</td><td>adventure-works\\terri0</td><td>0x58</td><td>1</td><td>Vice President of Engineering</td><td>1971-08-01</td><td>S</td><td>F</td><td>2008-01-31T00:00:00.000+0000</td><td>1</td><td>1</td><td>20</td><td>1</td><td>45E8F437-670D-4409-93CB-F9424A40D6EE</td><td>2014-06-30T00:00:00.000+0000</td></tr><tr><td>3</td><td>509647174</td><td>adventure-works\\roberto0</td><td>0x5AC0</td><td>2</td><td>Engineering Manager</td><td>1974-11-12</td><td>M</td><td>M</td><td>2007-11-11T00:00:00.000+0000</td><td>1</td><td>2</td><td>21</td><td>1</td><td>9BBBFB2C-EFBB-4217-9AB7-F97689328841</td><td>2014-06-30T00:00:00.000+0000</td></tr><tr><td>4</td><td>112457891</td><td>adventure-works\\rob0</td><td>0x5AD6</td><td>3</td><td>Senior Tool Designer</td><td>1974-12-23</td><td>S</td><td>M</td><td>2007-12-05T00:00:00.000+0000</td><td>0</td><td>48</td><td>80</td><td>1</td><td>59747955-87B8-443F-8ED4-F8AD3AFDF3A9</td><td>2014-06-30T00:00:00.000+0000</td></tr><tr><td>5</td><td>695256908</td><td>adventure-works\\gail0</td><td>0x5ADA</td><td>3</td><td>Design Engineer</td><td>1952-09-27</td><td>M</td><td>F</td><td>2008-01-06T00:00:00.000+0000</td><td>1</td><td>5</td><td>22</td><td>1</td><td>EC84AE09-F9B8-4A15-B4A9-6CCBAB919B08</td><td>2014-06-30T00:00:00.000+0000</td></tr></tbody></table></div>"
      ]
     },
     "metadata": {
      "application/vnd.databricks.v1+output": {
       "addedWidgets": {},
       "aggData": [],
       "aggError": "",
       "aggOverflow": false,
       "aggSchema": [],
       "aggSeriesLimitReached": false,
       "aggType": "",
       "arguments": {},
       "columnCustomDisplayInfos": {},
       "data": [
        [
         1,
         295847284,
         "adventure-works\\ken0",
         "NULL",
         null,
         "Chief Executive Officer",
         "1969-01-29",
         "S",
         "M",
         "2009-01-14T00:00:00.000+0000",
         1,
         99,
         69,
         1,
         "F01251E5-96A3-448D-981E-0F99D789110D",
         "2014-06-30T00:00:00.000+0000"
        ],
        [
         2,
         245797967,
         "adventure-works\\terri0",
         "0x58",
         1,
         "Vice President of Engineering",
         "1971-08-01",
         "S",
         "F",
         "2008-01-31T00:00:00.000+0000",
         1,
         1,
         20,
         1,
         "45E8F437-670D-4409-93CB-F9424A40D6EE",
         "2014-06-30T00:00:00.000+0000"
        ],
        [
         3,
         509647174,
         "adventure-works\\roberto0",
         "0x5AC0",
         2,
         "Engineering Manager",
         "1974-11-12",
         "M",
         "M",
         "2007-11-11T00:00:00.000+0000",
         1,
         2,
         21,
         1,
         "9BBBFB2C-EFBB-4217-9AB7-F97689328841",
         "2014-06-30T00:00:00.000+0000"
        ],
        [
         4,
         112457891,
         "adventure-works\\rob0",
         "0x5AD6",
         3,
         "Senior Tool Designer",
         "1974-12-23",
         "S",
         "M",
         "2007-12-05T00:00:00.000+0000",
         0,
         48,
         80,
         1,
         "59747955-87B8-443F-8ED4-F8AD3AFDF3A9",
         "2014-06-30T00:00:00.000+0000"
        ],
        [
         5,
         695256908,
         "adventure-works\\gail0",
         "0x5ADA",
         3,
         "Design Engineer",
         "1952-09-27",
         "M",
         "F",
         "2008-01-06T00:00:00.000+0000",
         1,
         5,
         22,
         1,
         "EC84AE09-F9B8-4A15-B4A9-6CCBAB919B08",
         "2014-06-30T00:00:00.000+0000"
        ]
       ],
       "datasetInfos": [],
       "dbfsResultPath": null,
       "isJsonSchema": true,
       "metadata": {},
       "overflow": false,
       "plotOptions": {
        "customPlotOptions": {},
        "displayType": "table",
        "pivotAggregation": null,
        "pivotColumns": null,
        "xColumns": null,
        "yColumns": null
       },
       "removedWidgets": [],
       "schema": [
        {
         "metadata": "{}",
         "name": "BusinessEntityID",
         "type": "\"integer\""
        },
        {
         "metadata": "{}",
         "name": "NationalIDNumber",
         "type": "\"integer\""
        },
        {
         "metadata": "{}",
         "name": "LoginID",
         "type": "\"string\""
        },
        {
         "metadata": "{}",
         "name": "OrganizationNode",
         "type": "\"string\""
        },
        {
         "metadata": "{}",
         "name": "OrganizationLevel",
         "type": "\"integer\""
        },
        {
         "metadata": "{}",
         "name": "JobTitle",
         "type": "\"string\""
        },
        {
         "metadata": "{}",
         "name": "BirthDate",
         "type": "\"date\""
        },
        {
         "metadata": "{}",
         "name": "MaritalStatus",
         "type": "\"string\""
        },
        {
         "metadata": "{}",
         "name": "Gender",
         "type": "\"string\""
        },
        {
         "metadata": "{}",
         "name": "HireDate",
         "type": "\"timestamp\""
        },
        {
         "metadata": "{}",
         "name": "SalariedFlag",
         "type": "\"integer\""
        },
        {
         "metadata": "{}",
         "name": "VacationHours",
         "type": "\"integer\""
        },
        {
         "metadata": "{}",
         "name": "SickLeaveHours",
         "type": "\"integer\""
        },
        {
         "metadata": "{}",
         "name": "CurrentFlag",
         "type": "\"integer\""
        },
        {
         "metadata": "{}",
         "name": "rowguid",
         "type": "\"string\""
        },
        {
         "metadata": "{}",
         "name": "ModifiedDate",
         "type": "\"timestamp\""
        }
       ],
       "type": "table"
      }
     },
     "output_type": "display_data"
    }
   ],
   "source": [
    "df1 = spark.read.csv(path,schema=columns)\n",
    "display(df1.limit(5))"
   ]
  },
  {
   "cell_type": "code",
   "execution_count": 0,
   "metadata": {
    "application/vnd.databricks.v1+cell": {
     "cellMetadata": {
      "byteLimit": 2048000,
      "rowLimit": 10000
     },
     "inputWidgets": {},
     "nuid": "b4220997-2d56-482a-819f-59c3beac31cd",
     "showTitle": false,
     "title": ""
    }
   },
   "outputs": [
    {
     "output_type": "stream",
     "name": "stdout",
     "output_type": "stream",
     "text": [
      "root\n |-- BusinessEntityID: integer (nullable = true)\n |-- NationalIDNumber: integer (nullable = true)\n |-- LoginID: string (nullable = true)\n |-- OrganizationNode: string (nullable = true)\n |-- OrganizationLevel: integer (nullable = true)\n |-- JobTitle: string (nullable = true)\n |-- BirthDate: date (nullable = true)\n |-- MaritalStatus: string (nullable = true)\n |-- Gender: string (nullable = true)\n |-- HireDate: timestamp (nullable = true)\n |-- SalariedFlag: integer (nullable = true)\n |-- VacationHours: integer (nullable = true)\n |-- SickLeaveHours: integer (nullable = true)\n |-- CurrentFlag: integer (nullable = true)\n |-- rowguid: string (nullable = true)\n |-- ModifiedDate: timestamp (nullable = true)\n\n"
     ]
    }
   ],
   "source": [
    "df1.printSchema()"
   ]
  },
  {
   "cell_type": "markdown",
   "metadata": {
    "application/vnd.databricks.v1+cell": {
     "cellMetadata": {},
     "inputWidgets": {},
     "nuid": "c887264d-1692-4e37-a2fa-e760364d98c6",
     "showTitle": false,
     "title": ""
    }
   },
   "source": [
    "## Save Dataframe as a Table and use SQL to query the data"
   ]
  },
  {
   "cell_type": "markdown",
   "metadata": {
    "application/vnd.databricks.v1+cell": {
     "cellMetadata": {},
     "inputWidgets": {},
     "nuid": "886cadf1-a02a-4454-ba08-e666db4cb1aa",
     "showTitle": false,
     "title": ""
    }
   },
   "source": [
    "### How many male and female employees under each Job"
   ]
  },
  {
   "cell_type": "code",
   "execution_count": 0,
   "metadata": {
    "application/vnd.databricks.v1+cell": {
     "cellMetadata": {
      "byteLimit": 2048000,
      "rowLimit": 10000
     },
     "inputWidgets": {},
     "nuid": "b7f8974f-9bea-483c-ab2f-65ac556e0668",
     "showTitle": false,
     "title": ""
    }
   },
   "outputs": [],
   "source": [
    "df1.createTempView('emp')"
   ]
  },
  {
   "cell_type": "code",
   "execution_count": 0,
   "metadata": {
    "application/vnd.databricks.v1+cell": {
     "cellMetadata": {
      "byteLimit": 2048000,
      "implicitDf": true,
      "rowLimit": 10000
     },
     "inputWidgets": {},
     "nuid": "ee91a678-c9c2-4637-85f4-87474be26185",
     "showTitle": false,
     "title": ""
    }
   },
   "outputs": [
    {
     "output_type": "display_data",
     "data": {
      "text/html": [
       "<style scoped>\n",
       "  .table-result-container {\n",
       "    max-height: 300px;\n",
       "    overflow: auto;\n",
       "  }\n",
       "  table, th, td {\n",
       "    border: 1px solid black;\n",
       "    border-collapse: collapse;\n",
       "  }\n",
       "  th, td {\n",
       "    padding: 5px;\n",
       "  }\n",
       "  th {\n",
       "    text-align: left;\n",
       "  }\n",
       "</style><div class='table-result-container'><table class='table-result'><thead style='background-color: white'><tr><th>JobTitle</th><th>Total_Employees</th><th>Males</th><th>Females</th></tr></thead><tbody><tr><td>Research and Development Manager</td><td>2</td><td>2</td><td>0</td></tr><tr><td>Finance Manager</td><td>1</td><td>0</td><td>1</td></tr><tr><td>Document Control Manager</td><td>1</td><td>1</td><td>0</td></tr><tr><td>Production Supervisor - WC45</td><td>3</td><td>2</td><td>1</td></tr><tr><td>Senior Design Engineer</td><td>1</td><td>1</td><td>0</td></tr><tr><td>Production Control Manager</td><td>1</td><td>1</td><td>0</td></tr><tr><td>Vice President of Production</td><td>1</td><td>1</td><td>0</td></tr><tr><td>Production Supervisor - WC30</td><td>3</td><td>2</td><td>1</td></tr><tr><td>Marketing Manager</td><td>1</td><td>1</td><td>0</td></tr><tr><td>Quality Assurance Manager</td><td>1</td><td>1</td><td>0</td></tr><tr><td>Purchasing Assistant</td><td>2</td><td>1</td><td>1</td></tr><tr><td>Quality Assurance Supervisor</td><td>1</td><td>1</td><td>0</td></tr><tr><td>Production Technician - WC30</td><td>25</td><td>20</td><td>5</td></tr><tr><td>Scheduling Assistant</td><td>4</td><td>4</td><td>0</td></tr><tr><td>Buyer</td><td>9</td><td>7</td><td>2</td></tr><tr><td>Human Resources Administrative Assistant</td><td>2</td><td>2</td><td>0</td></tr><tr><td>Marketing Specialist</td><td>5</td><td>3</td><td>2</td></tr><tr><td>Production Supervisor - WC10</td><td>3</td><td>3</td><td>0</td></tr><tr><td>Production Technician - WC50</td><td>26</td><td>19</td><td>7</td></tr><tr><td>Accounts Payable Specialist</td><td>2</td><td>1</td><td>1</td></tr><tr><td>Production Supervisor - WC20</td><td>3</td><td>2</td><td>1</td></tr><tr><td>Sales Representative</td><td>14</td><td>8</td><td>6</td></tr><tr><td>Marketing Assistant</td><td>3</td><td>1</td><td>2</td></tr><tr><td>Production Supervisor - WC50</td><td>3</td><td>3</td><td>0</td></tr><tr><td>Tool Designer</td><td>2</td><td>1</td><td>1</td></tr><tr><td>Accounts Receivable Specialist</td><td>3</td><td>1</td><td>2</td></tr><tr><td>Network Manager</td><td>1</td><td>0</td><td>1</td></tr><tr><td>Application Specialist</td><td>4</td><td>2</td><td>2</td></tr><tr><td>Recruiter</td><td>2</td><td>2</td><td>0</td></tr><tr><td>Vice President of Engineering</td><td>1</td><td>0</td><td>1</td></tr><tr><td>Janitor</td><td>4</td><td>2</td><td>2</td></tr><tr><td>European Sales Manager</td><td>1</td><td>0</td><td>1</td></tr><tr><td>Design Engineer</td><td>3</td><td>1</td><td>2</td></tr><tr><td>Senior Tool Designer</td><td>2</td><td>2</td><td>0</td></tr><tr><td>Stocker</td><td>3</td><td>1</td><td>2</td></tr><tr><td>Database Administrator</td><td>2</td><td>2</td><td>0</td></tr><tr><td>Vice President of Sales</td><td>1</td><td>1</td><td>0</td></tr><tr><td>Master Scheduler</td><td>1</td><td>1</td><td>0</td></tr><tr><td>Chief Financial Officer</td><td>1</td><td>0</td><td>1</td></tr><tr><td>Purchasing Manager</td><td>1</td><td>0</td><td>1</td></tr><tr><td>Pacific Sales Manager</td><td>1</td><td>1</td><td>0</td></tr><tr><td>Quality Assurance Technician</td><td>4</td><td>4</td><td>0</td></tr><tr><td>Information Services Manager</td><td>1</td><td>0</td><td>1</td></tr><tr><td>Engineering Manager</td><td>1</td><td>1</td><td>0</td></tr><tr><td>Control Specialist</td><td>2</td><td>2</td><td>0</td></tr><tr><td>Network Administrator</td><td>2</td><td>2</td><td>0</td></tr><tr><td>Production Supervisor - WC60</td><td>3</td><td>1</td><td>2</td></tr><tr><td>Accountant</td><td>2</td><td>1</td><td>1</td></tr><tr><td>Shipping and Receiving Clerk</td><td>2</td><td>2</td><td>0</td></tr><tr><td>Research and Development Engineer</td><td>2</td><td>0</td><td>2</td></tr><tr><td>Maintenance Supervisor</td><td>1</td><td>1</td><td>0</td></tr><tr><td>Benefits Specialist</td><td>1</td><td>0</td><td>1</td></tr><tr><td>Production Technician - WC60</td><td>26</td><td>20</td><td>6</td></tr><tr><td>Production Technician - WC45</td><td>15</td><td>10</td><td>5</td></tr><tr><td>North American Sales Manager</td><td>1</td><td>1</td><td>0</td></tr><tr><td>Shipping and Receiving Supervisor</td><td>1</td><td>1</td><td>0</td></tr><tr><td>Chief Executive Officer</td><td>1</td><td>1</td><td>0</td></tr><tr><td>Production Technician - WC10</td><td>17</td><td>9</td><td>8</td></tr><tr><td>Facilities Administrative Assistant</td><td>1</td><td>1</td><td>0</td></tr><tr><td>Human Resources Manager</td><td>1</td><td>0</td><td>1</td></tr><tr><td>Production Technician - WC20</td><td>22</td><td>16</td><td>6</td></tr><tr><td>Production Supervisor - WC40</td><td>3</td><td>2</td><td>1</td></tr><tr><td>Assistant to the Chief Financial Officer</td><td>1</td><td>1</td><td>0</td></tr><tr><td>Facilities Manager</td><td>1</td><td>1</td><td>0</td></tr><tr><td>Document Control Assistant</td><td>2</td><td>1</td><td>1</td></tr><tr><td>Accounts Manager</td><td>1</td><td>1</td><td>0</td></tr><tr><td>Production Technician - WC40</td><td>26</td><td>23</td><td>3</td></tr></tbody></table></div>"
      ]
     },
     "metadata": {
      "application/vnd.databricks.v1+output": {
       "addedWidgets": {},
       "aggData": [],
       "aggError": "",
       "aggOverflow": false,
       "aggSchema": [],
       "aggSeriesLimitReached": false,
       "aggType": "",
       "arguments": {},
       "columnCustomDisplayInfos": {},
       "data": [
        [
         "Research and Development Manager",
         2,
         2,
         0
        ],
        [
         "Finance Manager",
         1,
         0,
         1
        ],
        [
         "Document Control Manager",
         1,
         1,
         0
        ],
        [
         "Production Supervisor - WC45",
         3,
         2,
         1
        ],
        [
         "Senior Design Engineer",
         1,
         1,
         0
        ],
        [
         "Production Control Manager",
         1,
         1,
         0
        ],
        [
         "Vice President of Production",
         1,
         1,
         0
        ],
        [
         "Production Supervisor - WC30",
         3,
         2,
         1
        ],
        [
         "Marketing Manager",
         1,
         1,
         0
        ],
        [
         "Quality Assurance Manager",
         1,
         1,
         0
        ],
        [
         "Purchasing Assistant",
         2,
         1,
         1
        ],
        [
         "Quality Assurance Supervisor",
         1,
         1,
         0
        ],
        [
         "Production Technician - WC30",
         25,
         20,
         5
        ],
        [
         "Scheduling Assistant",
         4,
         4,
         0
        ],
        [
         "Buyer",
         9,
         7,
         2
        ],
        [
         "Human Resources Administrative Assistant",
         2,
         2,
         0
        ],
        [
         "Marketing Specialist",
         5,
         3,
         2
        ],
        [
         "Production Supervisor - WC10",
         3,
         3,
         0
        ],
        [
         "Production Technician - WC50",
         26,
         19,
         7
        ],
        [
         "Accounts Payable Specialist",
         2,
         1,
         1
        ],
        [
         "Production Supervisor - WC20",
         3,
         2,
         1
        ],
        [
         "Sales Representative",
         14,
         8,
         6
        ],
        [
         "Marketing Assistant",
         3,
         1,
         2
        ],
        [
         "Production Supervisor - WC50",
         3,
         3,
         0
        ],
        [
         "Tool Designer",
         2,
         1,
         1
        ],
        [
         "Accounts Receivable Specialist",
         3,
         1,
         2
        ],
        [
         "Network Manager",
         1,
         0,
         1
        ],
        [
         "Application Specialist",
         4,
         2,
         2
        ],
        [
         "Recruiter",
         2,
         2,
         0
        ],
        [
         "Vice President of Engineering",
         1,
         0,
         1
        ],
        [
         "Janitor",
         4,
         2,
         2
        ],
        [
         "European Sales Manager",
         1,
         0,
         1
        ],
        [
         "Design Engineer",
         3,
         1,
         2
        ],
        [
         "Senior Tool Designer",
         2,
         2,
         0
        ],
        [
         "Stocker",
         3,
         1,
         2
        ],
        [
         "Database Administrator",
         2,
         2,
         0
        ],
        [
         "Vice President of Sales",
         1,
         1,
         0
        ],
        [
         "Master Scheduler",
         1,
         1,
         0
        ],
        [
         "Chief Financial Officer",
         1,
         0,
         1
        ],
        [
         "Purchasing Manager",
         1,
         0,
         1
        ],
        [
         "Pacific Sales Manager",
         1,
         1,
         0
        ],
        [
         "Quality Assurance Technician",
         4,
         4,
         0
        ],
        [
         "Information Services Manager",
         1,
         0,
         1
        ],
        [
         "Engineering Manager",
         1,
         1,
         0
        ],
        [
         "Control Specialist",
         2,
         2,
         0
        ],
        [
         "Network Administrator",
         2,
         2,
         0
        ],
        [
         "Production Supervisor - WC60",
         3,
         1,
         2
        ],
        [
         "Accountant",
         2,
         1,
         1
        ],
        [
         "Shipping and Receiving Clerk",
         2,
         2,
         0
        ],
        [
         "Research and Development Engineer",
         2,
         0,
         2
        ],
        [
         "Maintenance Supervisor",
         1,
         1,
         0
        ],
        [
         "Benefits Specialist",
         1,
         0,
         1
        ],
        [
         "Production Technician - WC60",
         26,
         20,
         6
        ],
        [
         "Production Technician - WC45",
         15,
         10,
         5
        ],
        [
         "North American Sales Manager",
         1,
         1,
         0
        ],
        [
         "Shipping and Receiving Supervisor",
         1,
         1,
         0
        ],
        [
         "Chief Executive Officer",
         1,
         1,
         0
        ],
        [
         "Production Technician - WC10",
         17,
         9,
         8
        ],
        [
         "Facilities Administrative Assistant",
         1,
         1,
         0
        ],
        [
         "Human Resources Manager",
         1,
         0,
         1
        ],
        [
         "Production Technician - WC20",
         22,
         16,
         6
        ],
        [
         "Production Supervisor - WC40",
         3,
         2,
         1
        ],
        [
         "Assistant to the Chief Financial Officer",
         1,
         1,
         0
        ],
        [
         "Facilities Manager",
         1,
         1,
         0
        ],
        [
         "Document Control Assistant",
         2,
         1,
         1
        ],
        [
         "Accounts Manager",
         1,
         1,
         0
        ],
        [
         "Production Technician - WC40",
         26,
         23,
         3
        ]
       ],
       "datasetInfos": [],
       "dbfsResultPath": null,
       "isJsonSchema": true,
       "metadata": {},
       "overflow": false,
       "plotOptions": {
        "customPlotOptions": {},
        "displayType": "table",
        "pivotAggregation": null,
        "pivotColumns": null,
        "xColumns": null,
        "yColumns": null
       },
       "removedWidgets": [],
       "schema": [
        {
         "metadata": "{}",
         "name": "JobTitle",
         "type": "\"string\""
        },
        {
         "metadata": "{}",
         "name": "Total_Employees",
         "type": "\"long\""
        },
        {
         "metadata": "{}",
         "name": "Males",
         "type": "\"long\""
        },
        {
         "metadata": "{}",
         "name": "Females",
         "type": "\"long\""
        }
       ],
       "type": "table"
      }
     },
     "output_type": "display_data"
    }
   ],
   "source": [
    "%sql\n",
    "select JobTitle, count(BusinessEntityID) as Total_Employees,\n",
    "count(case Gender When 'M' then 1 end) as Males,\n",
    "count(case Gender When 'F' then 1 end) as Females\n",
    "from emp\n",
    "group by JobTitle "
   ]
  },
  {
   "cell_type": "code",
   "execution_count": 0,
   "metadata": {
    "application/vnd.databricks.v1+cell": {
     "cellMetadata": {
      "byteLimit": 2048000,
      "rowLimit": 10000
     },
     "inputWidgets": {},
     "nuid": "5b524c97-d99c-4a11-ae1f-b5628e9b0695",
     "showTitle": false,
     "title": ""
    }
   },
   "outputs": [
    {
     "output_type": "display_data",
     "data": {
      "text/html": [
       "<style scoped>\n",
       "  .table-result-container {\n",
       "    max-height: 300px;\n",
       "    overflow: auto;\n",
       "  }\n",
       "  table, th, td {\n",
       "    border: 1px solid black;\n",
       "    border-collapse: collapse;\n",
       "  }\n",
       "  th, td {\n",
       "    padding: 5px;\n",
       "  }\n",
       "  th {\n",
       "    text-align: left;\n",
       "  }\n",
       "</style><div class='table-result-container'><table class='table-result'><thead style='background-color: white'><tr><th>JobTitle</th><th>Total_Employees</th><th>Male_employees</th><th>Female_employees</th></tr></thead><tbody><tr><td>Research and Development Manager</td><td>2</td><td>2</td><td>0</td></tr><tr><td>Finance Manager</td><td>1</td><td>0</td><td>1</td></tr><tr><td>Document Control Manager</td><td>1</td><td>1</td><td>0</td></tr><tr><td>Production Supervisor - WC45</td><td>3</td><td>2</td><td>1</td></tr><tr><td>Senior Design Engineer</td><td>1</td><td>1</td><td>0</td></tr></tbody></table></div>"
      ]
     },
     "metadata": {
      "application/vnd.databricks.v1+output": {
       "addedWidgets": {},
       "aggData": [],
       "aggError": "",
       "aggOverflow": false,
       "aggSchema": [],
       "aggSeriesLimitReached": false,
       "aggType": "",
       "arguments": {},
       "columnCustomDisplayInfos": {},
       "data": [
        [
         "Research and Development Manager",
         2,
         2,
         0
        ],
        [
         "Finance Manager",
         1,
         0,
         1
        ],
        [
         "Document Control Manager",
         1,
         1,
         0
        ],
        [
         "Production Supervisor - WC45",
         3,
         2,
         1
        ],
        [
         "Senior Design Engineer",
         1,
         1,
         0
        ]
       ],
       "datasetInfos": [],
       "dbfsResultPath": null,
       "isJsonSchema": true,
       "metadata": {},
       "overflow": false,
       "plotOptions": {
        "customPlotOptions": {},
        "displayType": "table",
        "pivotAggregation": null,
        "pivotColumns": null,
        "xColumns": null,
        "yColumns": null
       },
       "removedWidgets": [],
       "schema": [
        {
         "metadata": "{}",
         "name": "JobTitle",
         "type": "\"string\""
        },
        {
         "metadata": "{}",
         "name": "Total_Employees",
         "type": "\"long\""
        },
        {
         "metadata": "{}",
         "name": "Male_employees",
         "type": "\"long\""
        },
        {
         "metadata": "{}",
         "name": "Female_employees",
         "type": "\"long\""
        }
       ],
       "type": "table"
      }
     },
     "output_type": "display_data"
    }
   ],
   "source": [
    "gender_dist = df1.groupBy('JobTitle').agg(\n",
    "    count('BusinessEntityID').alias('Total_Employees'),\n",
    "    count(when(col('Gender') == 'M', 1)).alias('Male_employees'),\n",
    "    count(when(col('Gender') == 'F', 1)).alias('Female_employees')\n",
    ")\n",
    "display(gender_dist.limit(5))"
   ]
  },
  {
   "cell_type": "markdown",
   "metadata": {
    "application/vnd.databricks.v1+cell": {
     "cellMetadata": {},
     "inputWidgets": {},
     "nuid": "38632afc-26d1-49a2-9af1-722e6f177049",
     "showTitle": false,
     "title": ""
    }
   },
   "source": [
    "### How many employees were hired in each year ?"
   ]
  },
  {
   "cell_type": "code",
   "execution_count": 0,
   "metadata": {
    "application/vnd.databricks.v1+cell": {
     "cellMetadata": {
      "byteLimit": 2048000,
      "implicitDf": true,
      "rowLimit": 10000
     },
     "inputWidgets": {},
     "nuid": "160f9397-7655-41f4-bf54-b83cc247e1a8",
     "showTitle": false,
     "title": ""
    }
   },
   "outputs": [
    {
     "output_type": "display_data",
     "data": {
      "text/html": [
       "<style scoped>\n",
       "  .table-result-container {\n",
       "    max-height: 300px;\n",
       "    overflow: auto;\n",
       "  }\n",
       "  table, th, td {\n",
       "    border: 1px solid black;\n",
       "    border-collapse: collapse;\n",
       "  }\n",
       "  th, td {\n",
       "    padding: 5px;\n",
       "  }\n",
       "  th {\n",
       "    text-align: left;\n",
       "  }\n",
       "</style><div class='table-result-container'><table class='table-result'><thead style='background-color: white'><tr><th>YOJ</th><th>total_employees</th></tr></thead><tbody><tr><td>2009</td><td>148</td></tr><tr><td>2008</td><td>74</td></tr><tr><td>2010</td><td>38</td></tr><tr><td>2011</td><td>16</td></tr><tr><td>2007</td><td>6</td></tr><tr><td>2012</td><td>4</td></tr><tr><td>2013</td><td>3</td></tr><tr><td>2006</td><td>1</td></tr></tbody></table></div>"
      ]
     },
     "metadata": {
      "application/vnd.databricks.v1+output": {
       "addedWidgets": {},
       "aggData": [],
       "aggError": "",
       "aggOverflow": false,
       "aggSchema": [],
       "aggSeriesLimitReached": false,
       "aggType": "",
       "arguments": {},
       "columnCustomDisplayInfos": {},
       "data": [
        [
         2009,
         148
        ],
        [
         2008,
         74
        ],
        [
         2010,
         38
        ],
        [
         2011,
         16
        ],
        [
         2007,
         6
        ],
        [
         2012,
         4
        ],
        [
         2013,
         3
        ],
        [
         2006,
         1
        ]
       ],
       "datasetInfos": [],
       "dbfsResultPath": null,
       "isJsonSchema": true,
       "metadata": {},
       "overflow": false,
       "plotOptions": {
        "customPlotOptions": {},
        "displayType": "table",
        "pivotAggregation": null,
        "pivotColumns": null,
        "xColumns": null,
        "yColumns": null
       },
       "removedWidgets": [],
       "schema": [
        {
         "metadata": "{}",
         "name": "YOJ",
         "type": "\"integer\""
        },
        {
         "metadata": "{}",
         "name": "total_employees",
         "type": "\"long\""
        }
       ],
       "type": "table"
      }
     },
     "output_type": "display_data"
    }
   ],
   "source": [
    "%sql\n",
    "select year(HireDate) as YOJ, count(BusinessEntityID) as total_employees from emp\n",
    "group by year(HireDate)\n",
    "order by total_employees DESC"
   ]
  },
  {
   "cell_type": "code",
   "execution_count": 0,
   "metadata": {
    "application/vnd.databricks.v1+cell": {
     "cellMetadata": {
      "byteLimit": 2048000,
      "rowLimit": 10000
     },
     "inputWidgets": {},
     "nuid": "d08fffbf-e0c9-4946-b34b-036fc2c714fd",
     "showTitle": false,
     "title": ""
    }
   },
   "outputs": [
    {
     "output_type": "display_data",
     "data": {
      "text/html": [
       "<style scoped>\n",
       "  .table-result-container {\n",
       "    max-height: 300px;\n",
       "    overflow: auto;\n",
       "  }\n",
       "  table, th, td {\n",
       "    border: 1px solid black;\n",
       "    border-collapse: collapse;\n",
       "  }\n",
       "  th, td {\n",
       "    padding: 5px;\n",
       "  }\n",
       "  th {\n",
       "    text-align: left;\n",
       "  }\n",
       "</style><div class='table-result-container'><table class='table-result'><thead style='background-color: white'><tr><th>YOJ</th><th>Total_Employees</th></tr></thead><tbody><tr><td>2009</td><td>148</td></tr><tr><td>2008</td><td>74</td></tr><tr><td>2010</td><td>38</td></tr><tr><td>2011</td><td>16</td></tr><tr><td>2007</td><td>6</td></tr><tr><td>2012</td><td>4</td></tr><tr><td>2013</td><td>3</td></tr><tr><td>2006</td><td>1</td></tr></tbody></table></div>"
      ]
     },
     "metadata": {
      "application/vnd.databricks.v1+output": {
       "addedWidgets": {},
       "aggData": [],
       "aggError": "",
       "aggOverflow": false,
       "aggSchema": [],
       "aggSeriesLimitReached": false,
       "aggType": "",
       "arguments": {},
       "columnCustomDisplayInfos": {},
       "data": [
        [
         2009,
         148
        ],
        [
         2008,
         74
        ],
        [
         2010,
         38
        ],
        [
         2011,
         16
        ],
        [
         2007,
         6
        ],
        [
         2012,
         4
        ],
        [
         2013,
         3
        ],
        [
         2006,
         1
        ]
       ],
       "datasetInfos": [],
       "dbfsResultPath": null,
       "isJsonSchema": true,
       "metadata": {},
       "overflow": false,
       "plotOptions": {
        "customPlotOptions": {},
        "displayType": "table",
        "pivotAggregation": null,
        "pivotColumns": null,
        "xColumns": null,
        "yColumns": null
       },
       "removedWidgets": [],
       "schema": [
        {
         "metadata": "{}",
         "name": "YOJ",
         "type": "\"integer\""
        },
        {
         "metadata": "{}",
         "name": "Total_Employees",
         "type": "\"long\""
        }
       ],
       "type": "table"
      }
     },
     "output_type": "display_data"
    },
    {
     "output_type": "display_data",
     "data": {
      "text/plain": [
       "Databricks visualization. Run in Databricks to view."
      ]
     },
     "metadata": {
      "application/vnd.databricks.v1.subcommand+json": {
       "baseErrorDetails": null,
       "bindings": {},
       "collapsed": false,
       "command": "%python\n__backend_agg_display_orig = display\n__backend_agg_dfs = []\ndef __backend_agg_display_new(df):\n    __backend_agg_df_modules = [\"pandas.core.frame\", \"databricks.koalas.frame\", \"pyspark.sql.dataframe\", \"pyspark.pandas.frame\", \"pyspark.sql.connect.dataframe\"]\n    if (type(df).__module__ in __backend_agg_df_modules and type(df).__name__ == 'DataFrame') or isinstance(df, list):\n        __backend_agg_dfs.append(df)\n\ndisplay = __backend_agg_display_new\n\ndef __backend_agg_user_code_fn():\n    import base64\n    exec(base64.standard_b64decode(\"WWVhcmx5X0hpcmluZ19EaXN0ID0gZGYxLndpdGhDb2x1bW4oJ1lPSicsIHllYXIoJ0hpcmVEYXRlJykpXAogICAgICAgICAgICAgICAgICAgICAgICAuZ3JvdXBCeSgnWU9KJylcCiAgICAgICAgICAgICAgICAgICAgICAgIC5hZ2coY291bnQoJ0J1c2luZXNzRW50aXR5SUQnKS5hbGlhcygnVG90YWxfRW1wbG95ZWVzJykpXAogICAgICAgICAgICAgICAgICAgICAgICAub3JkZXJCeSgnVG90YWxfRW1wbG95ZWVzJyxhc2NlbmRpbmc9RmFsc2UpCgpkaXNwbGF5KFllYXJseV9IaXJpbmdfRGlzdCk=\").decode())\n\ntry:\n    # run user code\n    __backend_agg_user_code_fn()\n\n    #reset display function\n    display = __backend_agg_display_orig\n\n    if len(__backend_agg_dfs) > 0:\n        # create a temp view\n        if type(__backend_agg_dfs[0]).__module__ == \"databricks.koalas.frame\":\n            # koalas dataframe\n            __backend_agg_dfs[0].to_spark().createOrReplaceTempView(\"DatabricksView1604bdd\")\n        elif type(__backend_agg_dfs[0]).__module__ == \"pandas.core.frame\" or isinstance(__backend_agg_dfs[0], list):\n            # pandas dataframe\n            spark.createDataFrame(__backend_agg_dfs[0]).createOrReplaceTempView(\"DatabricksView1604bdd\")\n        else:\n            __backend_agg_dfs[0].createOrReplaceTempView(\"DatabricksView1604bdd\")\n        #run backend agg\n        display(spark.sql(\"\"\"WITH q AS (select * from DatabricksView1604bdd) SELECT `YOJ`,SUM(`Total_Employees`) `column_2a65cfef2` FROM q GROUP BY `YOJ`\"\"\"))\n    else:\n        displayHTML(\"dataframe no longer exists. If you're using dataframe.display(), use display(dataframe) instead.\")\n\n\nfinally:\n    spark.sql(\"drop view if exists DatabricksView1604bdd\")\n    display = __backend_agg_display_orig\n    del __backend_agg_display_new\n    del __backend_agg_display_orig\n    del __backend_agg_dfs\n    del __backend_agg_user_code_fn\n\n",
       "commandTitle": "Yearly_Hiring_Distribution",
       "commandType": "auto",
       "commandVersion": 0,
       "commentThread": [],
       "commentsVisible": false,
       "contentSha256Hex": null,
       "customPlotOptions": {
        "redashChart": [
         {
          "key": "type",
          "value": "CHART"
         },
         {
          "key": "options",
          "value": {
           "alignYAxesAtZero": true,
           "coefficient": 1,
           "columnConfigurationMap": {
            "x": {
             "column": "YOJ",
             "id": "column_2a65cfef1"
            },
            "y": [
             {
              "column": "Total_Employees",
              "id": "column_2a65cfef2",
              "transform": "SUM"
             }
            ]
           },
           "dateTimeFormat": "DD/MM/YYYY HH:mm",
           "direction": {
            "type": "counterclockwise"
           },
           "error_y": {
            "type": "data",
            "visible": true
           },
           "globalSeriesType": "column",
           "isAggregationOn": true,
           "legend": {
            "traceorder": "normal"
           },
           "missingValuesAsZero": true,
           "numberFormat": "0,0.[00000]",
           "percentFormat": "0[.]00%",
           "series": {
            "error_y": {
             "type": "data",
             "visible": true
            },
            "percentValues": false,
            "stacking": null
           },
           "seriesOptions": {
            "column_2a65cfef2": {
             "name": "Total_Employees",
             "type": "column",
             "yAxis": 0
            }
           },
           "showDataLabels": false,
           "sizemode": "diameter",
           "sortX": true,
           "sortY": true,
           "swappedAxes": false,
           "textFormat": "",
           "useAggregationsUi": true,
           "valuesOptions": {},
           "version": 2,
           "xAxis": {
            "labels": {
             "enabled": true
            },
            "type": "-"
           },
           "yAxis": [
            {
             "type": "-"
            },
            {
             "opposite": true,
             "type": "-"
            }
           ]
          }
         }
        ]
       },
       "datasetPreviewNameToCmdIdMap": {},
       "diffDeletes": [],
       "diffInserts": [],
       "displayType": "redashChart",
       "error": null,
       "errorDetails": null,
       "errorSummary": null,
       "errorTraceType": null,
       "finishTime": 0,
       "globalVars": {},
       "guid": "",
       "height": "auto",
       "hideCommandCode": false,
       "hideCommandResult": false,
       "iPythonMetadata": null,
       "inputWidgets": {},
       "isLockedInExamMode": false,
       "latestUser": "a user",
       "latestUserId": null,
       "listResultMetadata": null,
       "metadata": {},
       "nuid": "3e4b8355-1201-47de-baec-fa89b7c89d7b",
       "origId": 0,
       "parentHierarchy": [],
       "pivotAggregation": null,
       "pivotColumns": null,
       "position": 18.0,
       "resultDbfsErrorMessage": null,
       "resultDbfsStatus": "INLINED_IN_TREE",
       "results": null,
       "showCommandTitle": false,
       "startTime": 0,
       "state": "input",
       "streamStates": {},
       "subcommandOptions": {
        "queryPlan": {
         "groups": [
          {
           "column": "YOJ",
           "type": "column"
          }
         ],
         "selects": [
          {
           "column": "YOJ",
           "type": "column"
          },
          {
           "alias": "column_2a65cfef2",
           "args": [
            {
             "column": "Total_Employees",
             "type": "column"
            }
           ],
           "function": "SUM",
           "type": "function"
          }
         ]
        }
       },
       "submitTime": 0,
       "subtype": "tableResultSubCmd.visualization",
       "tableResultIndex": 0,
       "useConsistentColors": false,
       "version": "CommandV1",
       "width": "auto",
       "workflows": [],
       "xColumns": null,
       "yColumns": null
      }
     },
     "output_type": "display_data"
    }
   ],
   "source": [
    "Yearly_Hiring_Dist = df1.withColumn('YOJ', year('HireDate'))\\\n",
    "                        .groupBy('YOJ')\\\n",
    "                        .agg(count('BusinessEntityID').alias('Total_Employees'))\\\n",
    "                        .orderBy('Total_Employees',ascending=False)\n",
    "\n",
    "display(Yearly_Hiring_Dist)"
   ]
  },
  {
   "cell_type": "markdown",
   "metadata": {
    "application/vnd.databricks.v1+cell": {
     "cellMetadata": {},
     "inputWidgets": {},
     "nuid": "a2c7d623-5c2a-4e44-93e4-edb37147537d",
     "showTitle": false,
     "title": ""
    }
   },
   "source": [
    "### Display top 5 employees with High SickLeaveHours"
   ]
  },
  {
   "cell_type": "code",
   "execution_count": 0,
   "metadata": {
    "application/vnd.databricks.v1+cell": {
     "cellMetadata": {
      "byteLimit": 2048000,
      "implicitDf": true,
      "rowLimit": 10000
     },
     "inputWidgets": {},
     "nuid": "4aa05ea4-c547-49c1-b0db-904422255820",
     "showTitle": false,
     "title": ""
    }
   },
   "outputs": [
    {
     "output_type": "display_data",
     "data": {
      "text/html": [
       "<style scoped>\n",
       "  .table-result-container {\n",
       "    max-height: 300px;\n",
       "    overflow: auto;\n",
       "  }\n",
       "  table, th, td {\n",
       "    border: 1px solid black;\n",
       "    border-collapse: collapse;\n",
       "  }\n",
       "  th, td {\n",
       "    padding: 5px;\n",
       "  }\n",
       "  th {\n",
       "    text-align: left;\n",
       "  }\n",
       "</style><div class='table-result-container'><table class='table-result'><thead style='background-color: white'><tr><th>BusinessEntityID</th><th>SickLeaveHours</th><th>rn</th></tr></thead><tbody><tr><td>4</td><td>80</td><td>1</td></tr><tr><td>1</td><td>69</td><td>2</td></tr><tr><td>88</td><td>69</td><td>2</td></tr><tr><td>92</td><td>69</td><td>2</td></tr><tr><td>116</td><td>69</td><td>2</td></tr><tr><td>117</td><td>69</td><td>2</td></tr><tr><td>124</td><td>69</td><td>2</td></tr><tr><td>89</td><td>68</td><td>3</td></tr><tr><td>90</td><td>68</td><td>3</td></tr><tr><td>113</td><td>68</td><td>3</td></tr><tr><td>114</td><td>68</td><td>3</td></tr><tr><td>122</td><td>68</td><td>3</td></tr><tr><td>126</td><td>68</td><td>3</td></tr><tr><td>91</td><td>67</td><td>4</td></tr><tr><td>104</td><td>67</td><td>4</td></tr><tr><td>109</td><td>67</td><td>4</td></tr><tr><td>119</td><td>67</td><td>4</td></tr><tr><td>123</td><td>67</td><td>4</td></tr><tr><td>125</td><td>67</td><td>4</td></tr><tr><td>103</td><td>66</td><td>5</td></tr><tr><td>106</td><td>66</td><td>5</td></tr><tr><td>111</td><td>66</td><td>5</td></tr><tr><td>115</td><td>66</td><td>5</td></tr><tr><td>121</td><td>66</td><td>5</td></tr><tr><td>228</td><td>66</td><td>5</td></tr></tbody></table></div>"
      ]
     },
     "metadata": {
      "application/vnd.databricks.v1+output": {
       "addedWidgets": {},
       "aggData": [],
       "aggError": "",
       "aggOverflow": false,
       "aggSchema": [],
       "aggSeriesLimitReached": false,
       "aggType": "",
       "arguments": {},
       "columnCustomDisplayInfos": {},
       "data": [
        [
         4,
         80,
         1
        ],
        [
         1,
         69,
         2
        ],
        [
         88,
         69,
         2
        ],
        [
         92,
         69,
         2
        ],
        [
         116,
         69,
         2
        ],
        [
         117,
         69,
         2
        ],
        [
         124,
         69,
         2
        ],
        [
         89,
         68,
         3
        ],
        [
         90,
         68,
         3
        ],
        [
         113,
         68,
         3
        ],
        [
         114,
         68,
         3
        ],
        [
         122,
         68,
         3
        ],
        [
         126,
         68,
         3
        ],
        [
         91,
         67,
         4
        ],
        [
         104,
         67,
         4
        ],
        [
         109,
         67,
         4
        ],
        [
         119,
         67,
         4
        ],
        [
         123,
         67,
         4
        ],
        [
         125,
         67,
         4
        ],
        [
         103,
         66,
         5
        ],
        [
         106,
         66,
         5
        ],
        [
         111,
         66,
         5
        ],
        [
         115,
         66,
         5
        ],
        [
         121,
         66,
         5
        ],
        [
         228,
         66,
         5
        ]
       ],
       "datasetInfos": [],
       "dbfsResultPath": null,
       "isJsonSchema": true,
       "metadata": {},
       "overflow": false,
       "plotOptions": {
        "customPlotOptions": {},
        "displayType": "table",
        "pivotAggregation": null,
        "pivotColumns": null,
        "xColumns": null,
        "yColumns": null
       },
       "removedWidgets": [],
       "schema": [
        {
         "metadata": "{}",
         "name": "BusinessEntityID",
         "type": "\"integer\""
        },
        {
         "metadata": "{}",
         "name": "SickLeaveHours",
         "type": "\"integer\""
        },
        {
         "metadata": "{}",
         "name": "rn",
         "type": "\"integer\""
        }
       ],
       "type": "table"
      }
     },
     "output_type": "display_data"
    }
   ],
   "source": [
    "%sql\n",
    "select * from\n",
    "(select BusinessEntityID, SickLeaveHours, dense_rank() over(order by (SickLeaveHours) desc) as rn from emp) x\n",
    "where x.rn <= 5"
   ]
  },
  {
   "cell_type": "code",
   "execution_count": 0,
   "metadata": {
    "application/vnd.databricks.v1+cell": {
     "cellMetadata": {
      "byteLimit": 2048000,
      "rowLimit": 10000
     },
     "inputWidgets": {},
     "nuid": "06017af9-93cd-4033-aee1-2ce526e17197",
     "showTitle": false,
     "title": ""
    }
   },
   "outputs": [
    {
     "output_type": "display_data",
     "data": {
      "text/html": [
       "<style scoped>\n",
       "  .table-result-container {\n",
       "    max-height: 300px;\n",
       "    overflow: auto;\n",
       "  }\n",
       "  table, th, td {\n",
       "    border: 1px solid black;\n",
       "    border-collapse: collapse;\n",
       "  }\n",
       "  th, td {\n",
       "    padding: 5px;\n",
       "  }\n",
       "  th {\n",
       "    text-align: left;\n",
       "  }\n",
       "</style><div class='table-result-container'><table class='table-result'><thead style='background-color: white'><tr><th>BusinessEntityID</th><th>SickLeaveHours</th><th>rnk</th></tr></thead><tbody><tr><td>4</td><td>80</td><td>1</td></tr><tr><td>1</td><td>69</td><td>2</td></tr><tr><td>88</td><td>69</td><td>2</td></tr><tr><td>92</td><td>69</td><td>2</td></tr><tr><td>116</td><td>69</td><td>2</td></tr><tr><td>117</td><td>69</td><td>2</td></tr><tr><td>124</td><td>69</td><td>2</td></tr><tr><td>89</td><td>68</td><td>3</td></tr><tr><td>90</td><td>68</td><td>3</td></tr><tr><td>113</td><td>68</td><td>3</td></tr><tr><td>114</td><td>68</td><td>3</td></tr><tr><td>122</td><td>68</td><td>3</td></tr><tr><td>126</td><td>68</td><td>3</td></tr><tr><td>91</td><td>67</td><td>4</td></tr><tr><td>104</td><td>67</td><td>4</td></tr><tr><td>109</td><td>67</td><td>4</td></tr><tr><td>119</td><td>67</td><td>4</td></tr><tr><td>123</td><td>67</td><td>4</td></tr><tr><td>125</td><td>67</td><td>4</td></tr><tr><td>103</td><td>66</td><td>5</td></tr><tr><td>106</td><td>66</td><td>5</td></tr><tr><td>111</td><td>66</td><td>5</td></tr><tr><td>115</td><td>66</td><td>5</td></tr><tr><td>121</td><td>66</td><td>5</td></tr><tr><td>228</td><td>66</td><td>5</td></tr><tr><td>105</td><td>65</td><td>6</td></tr><tr><td>107</td><td>65</td><td>6</td></tr><tr><td>110</td><td>65</td><td>6</td></tr><tr><td>112</td><td>65</td><td>6</td></tr><tr><td>229</td><td>65</td><td>6</td></tr><tr><td>231</td><td>65</td><td>6</td></tr><tr><td>10</td><td>64</td><td>7</td></tr><tr><td>49</td><td>64</td><td>7</td></tr><tr><td>54</td><td>64</td><td>7</td></tr><tr><td>118</td><td>64</td><td>7</td></tr><tr><td>120</td><td>64</td><td>7</td></tr><tr><td>230</td><td>64</td><td>7</td></tr><tr><td>232</td><td>64</td><td>7</td></tr><tr><td>52</td><td>63</td><td>8</td></tr><tr><td>53</td><td>63</td><td>8</td></tr><tr><td>208</td><td>63</td><td>8</td></tr><tr><td>209</td><td>63</td><td>8</td></tr><tr><td>227</td><td>63</td><td>8</td></tr><tr><td>233</td><td>63</td><td>8</td></tr><tr><td>50</td><td>62</td><td>9</td></tr><tr><td>51</td><td>62</td><td>9</td></tr><tr><td>206</td><td>62</td><td>9</td></tr><tr><td>207</td><td>62</td><td>9</td></tr><tr><td>213</td><td>62</td><td>9</td></tr><tr><td>214</td><td>62</td><td>9</td></tr><tr><td>40</td><td>61</td><td>10</td></tr><tr><td>48</td><td>61</td><td>10</td></tr><tr><td>190</td><td>61</td><td>10</td></tr><tr><td>210</td><td>61</td><td>10</td></tr><tr><td>215</td><td>61</td><td>10</td></tr><tr><td>216</td><td>61</td><td>10</td></tr><tr><td>27</td><td>60</td><td>11</td></tr><tr><td>62</td><td>60</td><td>11</td></tr><tr><td>188</td><td>60</td><td>11</td></tr><tr><td>189</td><td>60</td><td>11</td></tr><tr><td>211</td><td>60</td><td>11</td></tr><tr><td>212</td><td>60</td><td>11</td></tr><tr><td>55</td><td>59</td><td>12</td></tr><tr><td>93</td><td>59</td><td>12</td></tr><tr><td>187</td><td>59</td><td>12</td></tr><tr><td>191</td><td>59</td><td>12</td></tr><tr><td>219</td><td>59</td><td>12</td></tr><tr><td>220</td><td>59</td><td>12</td></tr><tr><td>108</td><td>58</td><td>13</td></tr><tr><td>163</td><td>58</td><td>13</td></tr><tr><td>165</td><td>58</td><td>13</td></tr><tr><td>205</td><td>58</td><td>13</td></tr><tr><td>217</td><td>58</td><td>13</td></tr><tr><td>218</td><td>58</td><td>13</td></tr><tr><td>160</td><td>57</td><td>14</td></tr><tr><td>161</td><td>57</td><td>14</td></tr><tr><td>162</td><td>57</td><td>14</td></tr><tr><td>186</td><td>57</td><td>14</td></tr><tr><td>221</td><td>57</td><td>14</td></tr><tr><td>267</td><td>57</td><td>14</td></tr><tr><td>78</td><td>56</td><td>15</td></tr><tr><td>127</td><td>56</td><td>15</td></tr><tr><td>131</td><td>56</td><td>15</td></tr><tr><td>164</td><td>56</td><td>15</td></tr><tr><td>268</td><td>56</td><td>15</td></tr><tr><td>269</td><td>56</td><td>15</td></tr><tr><td>71</td><td>55</td><td>16</td></tr><tr><td>130</td><td>55</td><td>16</td></tr><tr><td>133</td><td>55</td><td>16</td></tr><tr><td>192</td><td>55</td><td>16</td></tr><tr><td>265</td><td>55</td><td>16</td></tr><tr><td>272</td><td>55</td><td>16</td></tr><tr><td>128</td><td>54</td><td>17</td></tr><tr><td>129</td><td>54</td><td>17</td></tr><tr><td>145</td><td>54</td><td>17</td></tr><tr><td>166</td><td>54</td><td>17</td></tr><tr><td>264</td><td>54</td><td>17</td></tr><tr><td>266</td><td>54</td><td>17</td></tr><tr><td>84</td><td>53</td><td>18</td></tr><tr><td>87</td><td>53</td><td>18</td></tr><tr><td>102</td><td>53</td><td>18</td></tr><tr><td>132</td><td>53</td><td>18</td></tr><tr><td>270</td><td>53</td><td>18</td></tr><tr><td>271</td><td>53</td><td>18</td></tr><tr><td>25</td><td>52</td><td>19</td></tr><tr><td>47</td><td>52</td><td>19</td></tr><tr><td>80</td><td>52</td><td>19</td></tr><tr><td>81</td><td>52</td><td>19</td></tr><tr><td>247</td><td>52</td><td>19</td></tr><tr><td>263</td><td>52</td><td>19</td></tr><tr><td>8</td><td>51</td><td>20</td></tr><tr><td>9</td><td>51</td><td>20</td></tr><tr><td>82</td><td>51</td><td>20</td></tr><tr><td>85</td><td>51</td><td>20</td></tr><tr><td>244</td><td>51</td><td>20</td></tr><tr><td>246</td><td>51</td><td>20</td></tr><tr><td>7</td><td>50</td><td>21</td></tr><tr><td>79</td><td>50</td><td>21</td></tr><tr><td>83</td><td>50</td><td>21</td></tr><tr><td>242</td><td>50</td><td>21</td></tr><tr><td>243</td><td>50</td><td>21</td></tr><tr><td>252</td><td>50</td><td>21</td></tr><tr><td>86</td><td>49</td><td>22</td></tr><tr><td>195</td><td>49</td><td>22</td></tr><tr><td>245</td><td>49</td><td>22</td></tr><tr><td>248</td><td>49</td><td>22</td></tr><tr><td>251</td><td>49</td><td>22</td></tr><tr><td>256</td><td>49</td><td>22</td></tr><tr><td>200</td><td>48</td><td>23</td></tr><tr><td>204</td><td>48</td><td>23</td></tr><tr><td>241</td><td>48</td><td>23</td></tr><tr><td>253</td><td>48</td><td>23</td></tr><tr><td>254</td><td>48</td><td>23</td></tr><tr><td>262</td><td>48</td><td>23</td></tr><tr><td>199</td><td>47</td><td>24</td></tr><tr><td>201</td><td>47</td><td>24</td></tr><tr><td>235</td><td>47</td><td>24</td></tr><tr><td>249</td><td>47</td><td>24</td></tr><tr><td>257</td><td>47</td><td>24</td></tr><tr><td>259</td><td>47</td><td>24</td></tr><tr><td>193</td><td>46</td><td>25</td></tr><tr><td>196</td><td>46</td><td>25</td></tr><tr><td>236</td><td>46</td><td>25</td></tr><tr><td>237</td><td>46</td><td>25</td></tr><tr><td>255</td><td>46</td><td>25</td></tr><tr><td>258</td><td>46</td><td>25</td></tr><tr><td>202</td><td>45</td><td>26</td></tr><tr><td>203</td><td>45</td><td>26</td></tr><tr><td>238</td><td>45</td><td>26</td></tr><tr><td>239</td><td>45</td><td>26</td></tr><tr><td>260</td><td>45</td><td>26</td></tr><tr><td>261</td><td>45</td><td>26</td></tr><tr><td>18</td><td>44</td><td>27</td></tr><tr><td>197</td><td>44</td><td>27</td></tr><tr><td>198</td><td>44</td><td>27</td></tr><tr><td>226</td><td>44</td><td>27</td></tr><tr><td>240</td><td>44</td><td>27</td></tr><tr><td>250</td><td>44</td><td>27</td></tr><tr><td>23</td><td>43</td><td>28</td></tr><tr><td>24</td><td>43</td><td>28</td></tr><tr><td>77</td><td>43</td><td>28</td></tr><tr><td>194</td><td>43</td><td>28</td></tr><tr><td>223</td><td>43</td><td>28</td></tr><tr><td>225</td><td>43</td><td>28</td></tr><tr><td>21</td><td>42</td><td>29</td></tr><tr><td>22</td><td>42</td><td>29</td></tr><tr><td>75</td><td>42</td><td>29</td></tr><tr><td>76</td><td>42</td><td>29</td></tr><tr><td>222</td><td>42</td><td>29</td></tr><tr><td>224</td><td>42</td><td>29</td></tr><tr><td>17</td><td>41</td><td>30</td></tr><tr><td>19</td><td>41</td><td>30</td></tr><tr><td>26</td><td>41</td><td>30</td></tr><tr><td>73</td><td>41</td><td>30</td></tr><tr><td>74</td><td>41</td><td>30</td></tr><tr><td>180</td><td>41</td><td>30</td></tr><tr><td>16</td><td>40</td><td>31</td></tr><tr><td>20</td><td>40</td><td>31</td></tr><tr><td>72</td><td>40</td><td>31</td></tr><tr><td>134</td><td>40</td><td>31</td></tr><tr><td>151</td><td>40</td><td>31</td></tr><tr><td>152</td><td>40</td><td>31</td></tr><tr><td>42</td><td>39</td><td>32</td></tr><tr><td>44</td><td>39</td><td>32</td></tr><tr><td>148</td><td>39</td><td>32</td></tr><tr><td>149</td><td>39</td><td>32</td></tr><tr><td>275</td><td>39</td><td>32</td></tr><tr><td>284</td><td>39</td><td>32</td></tr><tr><td>45</td><td>38</td><td>33</td></tr><tr><td>46</td><td>38</td><td>33</td></tr><tr><td>146</td><td>38</td><td>33</td></tr><tr><td>147</td><td>38</td><td>33</td></tr><tr><td>286</td><td>38</td><td>33</td></tr><tr><td>289</td><td>38</td><td>33</td></tr><tr><td>41</td><td>37</td><td>34</td></tr><tr><td>43</td><td>37</td><td>34</td></tr><tr><td>150</td><td>37</td><td>34</td></tr><tr><td>168</td><td>37</td><td>34</td></tr><tr><td>288</td><td>37</td><td>34</td></tr><tr><td>290</td><td>37</td><td>34</td></tr><tr><td>67</td><td>36</td><td>35</td></tr><tr><td>70</td><td>36</td><td>35</td></tr><tr><td>171</td><td>36</td><td>35</td></tr><tr><td>173</td><td>36</td><td>35</td></tr><tr><td>278</td><td>36</td><td>35</td></tr><tr><td>63</td><td>35</td><td>36</td></tr><tr><td>69</td><td>35</td><td>36</td></tr><tr><td>169</td><td>35</td><td>36</td></tr><tr><td>179</td><td>35</td><td>36</td></tr><tr><td>282</td><td>35</td><td>36</td></tr><tr><td>65</td><td>34</td><td>37</td></tr><tr><td>66</td><td>34</td><td>37</td></tr><tr><td>174</td><td>34</td><td>37</td></tr><tr><td>176</td><td>34</td><td>37</td></tr><tr><td>279</td><td>34</td><td>37</td></tr><tr><td>64</td><td>33</td><td>38</td></tr><tr><td>68</td><td>33</td><td>38</td></tr><tr><td>170</td><td>33</td><td>38</td></tr><tr><td>178</td><td>33</td><td>38</td></tr><tr><td>276</td><td>33</td><td>38</td></tr><tr><td>281</td><td>33</td><td>38</td></tr><tr><td>38</td><td>32</td><td>39</td></tr><tr><td>39</td><td>32</td><td>39</td></tr><tr><td>167</td><td>32</td><td>39</td></tr><tr><td>177</td><td>32</td><td>39</td></tr><tr><td>277</td><td>32</td><td>39</td></tr><tr><td>32</td><td>31</td><td>40</td></tr><tr><td>35</td><td>31</td><td>40</td></tr><tr><td>172</td><td>31</td><td>40</td></tr><tr><td>175</td><td>31</td><td>40</td></tr><tr><td>280</td><td>31</td><td>40</td></tr><tr><td>283</td><td>31</td><td>40</td></tr><tr><td>28</td><td>30</td><td>41</td></tr><tr><td>36</td><td>30</td><td>41</td></tr><tr><td>181</td><td>30</td><td>41</td></tr><tr><td>182</td><td>30</td><td>41</td></tr><tr><td>285</td><td>30</td><td>41</td></tr><tr><td>287</td><td>30</td><td>41</td></tr><tr><td>29</td><td>29</td><td>42</td></tr><tr><td>31</td><td>29</td><td>42</td></tr><tr><td>184</td><td>29</td><td>42</td></tr><tr><td>185</td><td>29</td><td>42</td></tr><tr><td>33</td><td>28</td><td>43</td></tr><tr><td>37</td><td>28</td><td>43</td></tr><tr><td>155</td><td>28</td><td>43</td></tr><tr><td>183</td><td>28</td><td>43</td></tr><tr><td>30</td><td>27</td><td>44</td></tr><tr><td>34</td><td>27</td><td>44</td></tr><tr><td>153</td><td>27</td><td>44</td></tr><tr><td>158</td><td>27</td><td>44</td></tr><tr><td>274</td><td>27</td><td>44</td></tr><tr><td>59</td><td>26</td><td>45</td></tr><tr><td>60</td><td>26</td><td>45</td></tr><tr><td>157</td><td>26</td><td>45</td></tr><tr><td>159</td><td>26</td><td>45</td></tr><tr><td>57</td><td>25</td><td>46</td></tr><tr><td>58</td><td>25</td><td>46</td></tr><tr><td>154</td><td>25</td><td>46</td></tr><tr><td>156</td><td>25</td><td>46</td></tr><tr><td>273</td><td>25</td><td>46</td></tr><tr><td>12</td><td>24</td><td>47</td></tr><tr><td>13</td><td>24</td><td>47</td></tr><tr><td>56</td><td>24</td><td>47</td></tr><tr><td>61</td><td>24</td><td>47</td></tr><tr><td>135</td><td>24</td><td>47</td></tr><tr><td>137</td><td>24</td><td>47</td></tr><tr><td>6</td><td>23</td><td>48</td></tr><tr><td>11</td><td>23</td><td>48</td></tr><tr><td>94</td><td>23</td><td>48</td></tr><tr><td>100</td><td>23</td><td>48</td></tr><tr><td>138</td><td>23</td><td>48</td></tr><tr><td>144</td><td>23</td><td>48</td></tr><tr><td>5</td><td>22</td><td>49</td></tr><tr><td>15</td><td>22</td><td>49</td></tr><tr><td>96</td><td>22</td><td>49</td></tr><tr><td>98</td><td>22</td><td>49</td></tr><tr><td>136</td><td>22</td><td>49</td></tr><tr><td>140</td><td>22</td><td>49</td></tr><tr><td>3</td><td>21</td><td>50</td></tr><tr><td>14</td><td>21</td><td>50</td></tr><tr><td>99</td><td>21</td><td>50</td></tr><tr><td>101</td><td>21</td><td>50</td></tr><tr><td>142</td><td>21</td><td>50</td></tr><tr><td>143</td><td>21</td><td>50</td></tr><tr><td>2</td><td>20</td><td>51</td></tr><tr><td>95</td><td>20</td><td>51</td></tr><tr><td>97</td><td>20</td><td>51</td></tr><tr><td>139</td><td>20</td><td>51</td></tr><tr><td>141</td><td>20</td><td>51</td></tr><tr><td>234</td><td>20</td><td>51</td></tr></tbody></table></div>"
      ]
     },
     "metadata": {
      "application/vnd.databricks.v1+output": {
       "addedWidgets": {},
       "aggData": [],
       "aggError": "",
       "aggOverflow": false,
       "aggSchema": [],
       "aggSeriesLimitReached": false,
       "aggType": "",
       "arguments": {},
       "columnCustomDisplayInfos": {},
       "data": [
        [
         4,
         80,
         1
        ],
        [
         1,
         69,
         2
        ],
        [
         88,
         69,
         2
        ],
        [
         92,
         69,
         2
        ],
        [
         116,
         69,
         2
        ],
        [
         117,
         69,
         2
        ],
        [
         124,
         69,
         2
        ],
        [
         89,
         68,
         3
        ],
        [
         90,
         68,
         3
        ],
        [
         113,
         68,
         3
        ],
        [
         114,
         68,
         3
        ],
        [
         122,
         68,
         3
        ],
        [
         126,
         68,
         3
        ],
        [
         91,
         67,
         4
        ],
        [
         104,
         67,
         4
        ],
        [
         109,
         67,
         4
        ],
        [
         119,
         67,
         4
        ],
        [
         123,
         67,
         4
        ],
        [
         125,
         67,
         4
        ],
        [
         103,
         66,
         5
        ],
        [
         106,
         66,
         5
        ],
        [
         111,
         66,
         5
        ],
        [
         115,
         66,
         5
        ],
        [
         121,
         66,
         5
        ],
        [
         228,
         66,
         5
        ],
        [
         105,
         65,
         6
        ],
        [
         107,
         65,
         6
        ],
        [
         110,
         65,
         6
        ],
        [
         112,
         65,
         6
        ],
        [
         229,
         65,
         6
        ],
        [
         231,
         65,
         6
        ],
        [
         10,
         64,
         7
        ],
        [
         49,
         64,
         7
        ],
        [
         54,
         64,
         7
        ],
        [
         118,
         64,
         7
        ],
        [
         120,
         64,
         7
        ],
        [
         230,
         64,
         7
        ],
        [
         232,
         64,
         7
        ],
        [
         52,
         63,
         8
        ],
        [
         53,
         63,
         8
        ],
        [
         208,
         63,
         8
        ],
        [
         209,
         63,
         8
        ],
        [
         227,
         63,
         8
        ],
        [
         233,
         63,
         8
        ],
        [
         50,
         62,
         9
        ],
        [
         51,
         62,
         9
        ],
        [
         206,
         62,
         9
        ],
        [
         207,
         62,
         9
        ],
        [
         213,
         62,
         9
        ],
        [
         214,
         62,
         9
        ],
        [
         40,
         61,
         10
        ],
        [
         48,
         61,
         10
        ],
        [
         190,
         61,
         10
        ],
        [
         210,
         61,
         10
        ],
        [
         215,
         61,
         10
        ],
        [
         216,
         61,
         10
        ],
        [
         27,
         60,
         11
        ],
        [
         62,
         60,
         11
        ],
        [
         188,
         60,
         11
        ],
        [
         189,
         60,
         11
        ],
        [
         211,
         60,
         11
        ],
        [
         212,
         60,
         11
        ],
        [
         55,
         59,
         12
        ],
        [
         93,
         59,
         12
        ],
        [
         187,
         59,
         12
        ],
        [
         191,
         59,
         12
        ],
        [
         219,
         59,
         12
        ],
        [
         220,
         59,
         12
        ],
        [
         108,
         58,
         13
        ],
        [
         163,
         58,
         13
        ],
        [
         165,
         58,
         13
        ],
        [
         205,
         58,
         13
        ],
        [
         217,
         58,
         13
        ],
        [
         218,
         58,
         13
        ],
        [
         160,
         57,
         14
        ],
        [
         161,
         57,
         14
        ],
        [
         162,
         57,
         14
        ],
        [
         186,
         57,
         14
        ],
        [
         221,
         57,
         14
        ],
        [
         267,
         57,
         14
        ],
        [
         78,
         56,
         15
        ],
        [
         127,
         56,
         15
        ],
        [
         131,
         56,
         15
        ],
        [
         164,
         56,
         15
        ],
        [
         268,
         56,
         15
        ],
        [
         269,
         56,
         15
        ],
        [
         71,
         55,
         16
        ],
        [
         130,
         55,
         16
        ],
        [
         133,
         55,
         16
        ],
        [
         192,
         55,
         16
        ],
        [
         265,
         55,
         16
        ],
        [
         272,
         55,
         16
        ],
        [
         128,
         54,
         17
        ],
        [
         129,
         54,
         17
        ],
        [
         145,
         54,
         17
        ],
        [
         166,
         54,
         17
        ],
        [
         264,
         54,
         17
        ],
        [
         266,
         54,
         17
        ],
        [
         84,
         53,
         18
        ],
        [
         87,
         53,
         18
        ],
        [
         102,
         53,
         18
        ],
        [
         132,
         53,
         18
        ],
        [
         270,
         53,
         18
        ],
        [
         271,
         53,
         18
        ],
        [
         25,
         52,
         19
        ],
        [
         47,
         52,
         19
        ],
        [
         80,
         52,
         19
        ],
        [
         81,
         52,
         19
        ],
        [
         247,
         52,
         19
        ],
        [
         263,
         52,
         19
        ],
        [
         8,
         51,
         20
        ],
        [
         9,
         51,
         20
        ],
        [
         82,
         51,
         20
        ],
        [
         85,
         51,
         20
        ],
        [
         244,
         51,
         20
        ],
        [
         246,
         51,
         20
        ],
        [
         7,
         50,
         21
        ],
        [
         79,
         50,
         21
        ],
        [
         83,
         50,
         21
        ],
        [
         242,
         50,
         21
        ],
        [
         243,
         50,
         21
        ],
        [
         252,
         50,
         21
        ],
        [
         86,
         49,
         22
        ],
        [
         195,
         49,
         22
        ],
        [
         245,
         49,
         22
        ],
        [
         248,
         49,
         22
        ],
        [
         251,
         49,
         22
        ],
        [
         256,
         49,
         22
        ],
        [
         200,
         48,
         23
        ],
        [
         204,
         48,
         23
        ],
        [
         241,
         48,
         23
        ],
        [
         253,
         48,
         23
        ],
        [
         254,
         48,
         23
        ],
        [
         262,
         48,
         23
        ],
        [
         199,
         47,
         24
        ],
        [
         201,
         47,
         24
        ],
        [
         235,
         47,
         24
        ],
        [
         249,
         47,
         24
        ],
        [
         257,
         47,
         24
        ],
        [
         259,
         47,
         24
        ],
        [
         193,
         46,
         25
        ],
        [
         196,
         46,
         25
        ],
        [
         236,
         46,
         25
        ],
        [
         237,
         46,
         25
        ],
        [
         255,
         46,
         25
        ],
        [
         258,
         46,
         25
        ],
        [
         202,
         45,
         26
        ],
        [
         203,
         45,
         26
        ],
        [
         238,
         45,
         26
        ],
        [
         239,
         45,
         26
        ],
        [
         260,
         45,
         26
        ],
        [
         261,
         45,
         26
        ],
        [
         18,
         44,
         27
        ],
        [
         197,
         44,
         27
        ],
        [
         198,
         44,
         27
        ],
        [
         226,
         44,
         27
        ],
        [
         240,
         44,
         27
        ],
        [
         250,
         44,
         27
        ],
        [
         23,
         43,
         28
        ],
        [
         24,
         43,
         28
        ],
        [
         77,
         43,
         28
        ],
        [
         194,
         43,
         28
        ],
        [
         223,
         43,
         28
        ],
        [
         225,
         43,
         28
        ],
        [
         21,
         42,
         29
        ],
        [
         22,
         42,
         29
        ],
        [
         75,
         42,
         29
        ],
        [
         76,
         42,
         29
        ],
        [
         222,
         42,
         29
        ],
        [
         224,
         42,
         29
        ],
        [
         17,
         41,
         30
        ],
        [
         19,
         41,
         30
        ],
        [
         26,
         41,
         30
        ],
        [
         73,
         41,
         30
        ],
        [
         74,
         41,
         30
        ],
        [
         180,
         41,
         30
        ],
        [
         16,
         40,
         31
        ],
        [
         20,
         40,
         31
        ],
        [
         72,
         40,
         31
        ],
        [
         134,
         40,
         31
        ],
        [
         151,
         40,
         31
        ],
        [
         152,
         40,
         31
        ],
        [
         42,
         39,
         32
        ],
        [
         44,
         39,
         32
        ],
        [
         148,
         39,
         32
        ],
        [
         149,
         39,
         32
        ],
        [
         275,
         39,
         32
        ],
        [
         284,
         39,
         32
        ],
        [
         45,
         38,
         33
        ],
        [
         46,
         38,
         33
        ],
        [
         146,
         38,
         33
        ],
        [
         147,
         38,
         33
        ],
        [
         286,
         38,
         33
        ],
        [
         289,
         38,
         33
        ],
        [
         41,
         37,
         34
        ],
        [
         43,
         37,
         34
        ],
        [
         150,
         37,
         34
        ],
        [
         168,
         37,
         34
        ],
        [
         288,
         37,
         34
        ],
        [
         290,
         37,
         34
        ],
        [
         67,
         36,
         35
        ],
        [
         70,
         36,
         35
        ],
        [
         171,
         36,
         35
        ],
        [
         173,
         36,
         35
        ],
        [
         278,
         36,
         35
        ],
        [
         63,
         35,
         36
        ],
        [
         69,
         35,
         36
        ],
        [
         169,
         35,
         36
        ],
        [
         179,
         35,
         36
        ],
        [
         282,
         35,
         36
        ],
        [
         65,
         34,
         37
        ],
        [
         66,
         34,
         37
        ],
        [
         174,
         34,
         37
        ],
        [
         176,
         34,
         37
        ],
        [
         279,
         34,
         37
        ],
        [
         64,
         33,
         38
        ],
        [
         68,
         33,
         38
        ],
        [
         170,
         33,
         38
        ],
        [
         178,
         33,
         38
        ],
        [
         276,
         33,
         38
        ],
        [
         281,
         33,
         38
        ],
        [
         38,
         32,
         39
        ],
        [
         39,
         32,
         39
        ],
        [
         167,
         32,
         39
        ],
        [
         177,
         32,
         39
        ],
        [
         277,
         32,
         39
        ],
        [
         32,
         31,
         40
        ],
        [
         35,
         31,
         40
        ],
        [
         172,
         31,
         40
        ],
        [
         175,
         31,
         40
        ],
        [
         280,
         31,
         40
        ],
        [
         283,
         31,
         40
        ],
        [
         28,
         30,
         41
        ],
        [
         36,
         30,
         41
        ],
        [
         181,
         30,
         41
        ],
        [
         182,
         30,
         41
        ],
        [
         285,
         30,
         41
        ],
        [
         287,
         30,
         41
        ],
        [
         29,
         29,
         42
        ],
        [
         31,
         29,
         42
        ],
        [
         184,
         29,
         42
        ],
        [
         185,
         29,
         42
        ],
        [
         33,
         28,
         43
        ],
        [
         37,
         28,
         43
        ],
        [
         155,
         28,
         43
        ],
        [
         183,
         28,
         43
        ],
        [
         30,
         27,
         44
        ],
        [
         34,
         27,
         44
        ],
        [
         153,
         27,
         44
        ],
        [
         158,
         27,
         44
        ],
        [
         274,
         27,
         44
        ],
        [
         59,
         26,
         45
        ],
        [
         60,
         26,
         45
        ],
        [
         157,
         26,
         45
        ],
        [
         159,
         26,
         45
        ],
        [
         57,
         25,
         46
        ],
        [
         58,
         25,
         46
        ],
        [
         154,
         25,
         46
        ],
        [
         156,
         25,
         46
        ],
        [
         273,
         25,
         46
        ],
        [
         12,
         24,
         47
        ],
        [
         13,
         24,
         47
        ],
        [
         56,
         24,
         47
        ],
        [
         61,
         24,
         47
        ],
        [
         135,
         24,
         47
        ],
        [
         137,
         24,
         47
        ],
        [
         6,
         23,
         48
        ],
        [
         11,
         23,
         48
        ],
        [
         94,
         23,
         48
        ],
        [
         100,
         23,
         48
        ],
        [
         138,
         23,
         48
        ],
        [
         144,
         23,
         48
        ],
        [
         5,
         22,
         49
        ],
        [
         15,
         22,
         49
        ],
        [
         96,
         22,
         49
        ],
        [
         98,
         22,
         49
        ],
        [
         136,
         22,
         49
        ],
        [
         140,
         22,
         49
        ],
        [
         3,
         21,
         50
        ],
        [
         14,
         21,
         50
        ],
        [
         99,
         21,
         50
        ],
        [
         101,
         21,
         50
        ],
        [
         142,
         21,
         50
        ],
        [
         143,
         21,
         50
        ],
        [
         2,
         20,
         51
        ],
        [
         95,
         20,
         51
        ],
        [
         97,
         20,
         51
        ],
        [
         139,
         20,
         51
        ],
        [
         141,
         20,
         51
        ],
        [
         234,
         20,
         51
        ]
       ],
       "datasetInfos": [],
       "dbfsResultPath": null,
       "isJsonSchema": true,
       "metadata": {},
       "overflow": false,
       "plotOptions": {
        "customPlotOptions": {},
        "displayType": "table",
        "pivotAggregation": null,
        "pivotColumns": null,
        "xColumns": null,
        "yColumns": null
       },
       "removedWidgets": [],
       "schema": [
        {
         "metadata": "{}",
         "name": "BusinessEntityID",
         "type": "\"integer\""
        },
        {
         "metadata": "{}",
         "name": "SickLeaveHours",
         "type": "\"integer\""
        },
        {
         "metadata": "{}",
         "name": "rnk",
         "type": "\"integer\""
        }
       ],
       "type": "table"
      }
     },
     "output_type": "display_data"
    }
   ],
   "source": [
    "wind_fn = Window.orderBy(col('SickLeaveHours').desc())\n",
    "max_SLH = df1.select('BusinessEntityID', 'SickLeaveHours', dense_rank().over(wind_fn).alias('rnk'))\n",
    "max_SLH.display()"
   ]
  },
  {
   "cell_type": "code",
   "execution_count": 0,
   "metadata": {
    "application/vnd.databricks.v1+cell": {
     "cellMetadata": {
      "byteLimit": 2048000,
      "implicitDf": true,
      "rowLimit": 10000
     },
     "inputWidgets": {},
     "nuid": "5e693296-126d-41a4-a7c1-c63f694a62c1",
     "showTitle": false,
     "title": ""
    }
   },
   "outputs": [
    {
     "output_type": "display_data",
     "data": {
      "text/html": [
       "<style scoped>\n",
       "  .table-result-container {\n",
       "    max-height: 300px;\n",
       "    overflow: auto;\n",
       "  }\n",
       "  table, th, td {\n",
       "    border: 1px solid black;\n",
       "    border-collapse: collapse;\n",
       "  }\n",
       "  th, td {\n",
       "    padding: 5px;\n",
       "  }\n",
       "  th {\n",
       "    text-align: left;\n",
       "  }\n",
       "</style><div class='table-result-container'><table class='table-result'><thead style='background-color: white'><tr><th>SickLeaveHours</th><th>total_employees</th></tr></thead><tbody><tr><td>34</td><td>5</td></tr><tr><td>27</td><td>5</td></tr><tr><td>35</td><td>5</td></tr><tr><td>25</td><td>5</td></tr><tr><td>32</td><td>5</td></tr><tr><td>36</td><td>5</td></tr></tbody></table></div>"
      ]
     },
     "metadata": {
      "application/vnd.databricks.v1+output": {
       "addedWidgets": {},
       "aggData": [],
       "aggError": "",
       "aggOverflow": false,
       "aggSchema": [],
       "aggSeriesLimitReached": false,
       "aggType": "",
       "arguments": {},
       "columnCustomDisplayInfos": {},
       "data": [
        [
         34,
         5
        ],
        [
         27,
         5
        ],
        [
         35,
         5
        ],
        [
         25,
         5
        ],
        [
         32,
         5
        ],
        [
         36,
         5
        ]
       ],
       "datasetInfos": [],
       "dbfsResultPath": null,
       "isJsonSchema": true,
       "metadata": {},
       "overflow": false,
       "plotOptions": {
        "customPlotOptions": {},
        "displayType": "table",
        "pivotAggregation": null,
        "pivotColumns": null,
        "xColumns": null,
        "yColumns": null
       },
       "removedWidgets": [],
       "schema": [
        {
         "metadata": "{}",
         "name": "SickLeaveHours",
         "type": "\"integer\""
        },
        {
         "metadata": "{}",
         "name": "total_employees",
         "type": "\"long\""
        }
       ],
       "type": "table"
      }
     },
     "output_type": "display_data"
    }
   ],
   "source": [
    "%sql\n",
    "select SickLeaveHours,count(BusinessEntityID) as total_employees from emp\n",
    "group by SickLeaveHours\n",
    "having total_employees = 5"
   ]
  },
  {
   "cell_type": "markdown",
   "metadata": {
    "application/vnd.databricks.v1+cell": {
     "cellMetadata": {},
     "inputWidgets": {},
     "nuid": "5ecf13f7-7ac6-402f-b2f2-3f35b0515431",
     "showTitle": false,
     "title": ""
    }
   },
   "source": [
    "### Filter Job Titles with some pattern"
   ]
  },
  {
   "cell_type": "code",
   "execution_count": 0,
   "metadata": {
    "application/vnd.databricks.v1+cell": {
     "cellMetadata": {
      "byteLimit": 2048000,
      "rowLimit": 10000
     },
     "inputWidgets": {},
     "nuid": "9e584a78-0f90-47a3-a756-1e620c3874ee",
     "showTitle": false,
     "title": ""
    }
   },
   "outputs": [
    {
     "output_type": "display_data",
     "data": {
      "text/html": [
       "<style scoped>\n",
       "  .table-result-container {\n",
       "    max-height: 300px;\n",
       "    overflow: auto;\n",
       "  }\n",
       "  table, th, td {\n",
       "    border: 1px solid black;\n",
       "    border-collapse: collapse;\n",
       "  }\n",
       "  th, td {\n",
       "    padding: 5px;\n",
       "  }\n",
       "  th {\n",
       "    text-align: left;\n",
       "  }\n",
       "</style><div class='table-result-container'><table class='table-result'><thead style='background-color: white'><tr><th>JobTitle</th></tr></thead><tbody><tr><td>Chief Executive Officer</td></tr><tr><td>Vice President of Engineering</td></tr><tr><td>Engineering Manager</td></tr><tr><td>Senior Tool Designer</td></tr><tr><td>Design Engineer</td></tr></tbody></table></div>"
      ]
     },
     "metadata": {
      "application/vnd.databricks.v1+output": {
       "addedWidgets": {},
       "aggData": [],
       "aggError": "",
       "aggOverflow": false,
       "aggSchema": [],
       "aggSeriesLimitReached": false,
       "aggType": "",
       "arguments": {},
       "columnCustomDisplayInfos": {},
       "data": [
        [
         "Chief Executive Officer"
        ],
        [
         "Vice President of Engineering"
        ],
        [
         "Engineering Manager"
        ],
        [
         "Senior Tool Designer"
        ],
        [
         "Design Engineer"
        ]
       ],
       "datasetInfos": [],
       "dbfsResultPath": null,
       "isJsonSchema": true,
       "metadata": {},
       "overflow": false,
       "plotOptions": {
        "customPlotOptions": {},
        "displayType": "table",
        "pivotAggregation": null,
        "pivotColumns": null,
        "xColumns": null,
        "yColumns": null
       },
       "removedWidgets": [],
       "schema": [
        {
         "metadata": "{}",
         "name": "JobTitle",
         "type": "\"string\""
        }
       ],
       "type": "table"
      }
     },
     "output_type": "display_data"
    }
   ],
   "source": [
    "display(spark.sql(\"select JobTitle from emp\").limit(5))"
   ]
  },
  {
   "cell_type": "markdown",
   "metadata": {
    "application/vnd.databricks.v1+cell": {
     "cellMetadata": {},
     "inputWidgets": {},
     "nuid": "087d40fb-8d15-4c8b-96f3-101c54b143f6",
     "showTitle": false,
     "title": ""
    }
   },
   "source": [
    "### Display Maximum Vacation Hours"
   ]
  },
  {
   "cell_type": "code",
   "execution_count": 0,
   "metadata": {
    "application/vnd.databricks.v1+cell": {
     "cellMetadata": {
      "byteLimit": 2048000,
      "implicitDf": true,
      "rowLimit": 10000
     },
     "inputWidgets": {},
     "nuid": "95b92e88-0ca7-40f5-95fc-b2621650a26f",
     "showTitle": false,
     "title": ""
    }
   },
   "outputs": [
    {
     "output_type": "display_data",
     "data": {
      "text/html": [
       "<style scoped>\n",
       "  .table-result-container {\n",
       "    max-height: 300px;\n",
       "    overflow: auto;\n",
       "  }\n",
       "  table, th, td {\n",
       "    border: 1px solid black;\n",
       "    border-collapse: collapse;\n",
       "  }\n",
       "  th, td {\n",
       "    padding: 5px;\n",
       "  }\n",
       "  th {\n",
       "    text-align: left;\n",
       "  }\n",
       "</style><div class='table-result-container'><table class='table-result'><thead style='background-color: white'><tr><th>JobTitle</th><th>YOJ</th><th>VacationHours</th></tr></thead><tbody><tr><td>Chief Executive Officer</td><td>2009</td><td>99</td></tr><tr><td>Production Technician - WC10</td><td>2009</td><td>99</td></tr><tr><td>Production Technician - WC10</td><td>2010</td><td>96</td></tr><tr><td>Production Technician - WC10</td><td>2010</td><td>97</td></tr><tr><td>Production Technician - WC10</td><td>2010</td><td>95</td></tr><tr><td>Production Technician - WC10</td><td>2010</td><td>98</td></tr><tr><td>Production Technician - WC10</td><td>2009</td><td>93</td></tr><tr><td>Production Technician - WC10</td><td>2009</td><td>94</td></tr><tr><td>Production Technician - WC10</td><td>2010</td><td>92</td></tr><tr><td>Production Technician - WC10</td><td>2010</td><td>91</td></tr><tr><td>Production Technician - WC50</td><td>2008</td><td>95</td></tr><tr><td>Production Technician - WC50</td><td>2008</td><td>93</td></tr><tr><td>Production Technician - WC50</td><td>2009</td><td>91</td></tr><tr><td>Production Technician - WC50</td><td>2008</td><td>96</td></tr><tr><td>Production Technician - WC50</td><td>2009</td><td>97</td></tr><tr><td>Production Technician - WC50</td><td>2009</td><td>92</td></tr><tr><td>Production Technician - WC50</td><td>2009</td><td>98</td></tr><tr><td>Production Technician - WC50</td><td>2009</td><td>99</td></tr><tr><td>Production Technician - WC50</td><td>2009</td><td>94</td></tr><tr><td>Shipping and Receiving Supervisor</td><td>2009</td><td>93</td></tr><tr><td>Stocker</td><td>2008</td><td>97</td></tr><tr><td>Shipping and Receiving Clerk</td><td>2008</td><td>95</td></tr><tr><td>Stocker</td><td>2008</td><td>98</td></tr><tr><td>Shipping and Receiving Clerk</td><td>2009</td><td>94</td></tr><tr><td>Stocker</td><td>2009</td><td>96</td></tr><tr><td>Maintenance Supervisor</td><td>2008</td><td>92</td></tr><tr><td>Janitor</td><td>2010</td><td>91</td></tr></tbody></table></div>"
      ]
     },
     "metadata": {
      "application/vnd.databricks.v1+output": {
       "addedWidgets": {},
       "aggData": [],
       "aggError": "",
       "aggOverflow": false,
       "aggSchema": [],
       "aggSeriesLimitReached": false,
       "aggType": "",
       "arguments": {},
       "columnCustomDisplayInfos": {},
       "data": [
        [
         "Chief Executive Officer",
         2009,
         99
        ],
        [
         "Production Technician - WC10",
         2009,
         99
        ],
        [
         "Production Technician - WC10",
         2010,
         96
        ],
        [
         "Production Technician - WC10",
         2010,
         97
        ],
        [
         "Production Technician - WC10",
         2010,
         95
        ],
        [
         "Production Technician - WC10",
         2010,
         98
        ],
        [
         "Production Technician - WC10",
         2009,
         93
        ],
        [
         "Production Technician - WC10",
         2009,
         94
        ],
        [
         "Production Technician - WC10",
         2010,
         92
        ],
        [
         "Production Technician - WC10",
         2010,
         91
        ],
        [
         "Production Technician - WC50",
         2008,
         95
        ],
        [
         "Production Technician - WC50",
         2008,
         93
        ],
        [
         "Production Technician - WC50",
         2009,
         91
        ],
        [
         "Production Technician - WC50",
         2008,
         96
        ],
        [
         "Production Technician - WC50",
         2009,
         97
        ],
        [
         "Production Technician - WC50",
         2009,
         92
        ],
        [
         "Production Technician - WC50",
         2009,
         98
        ],
        [
         "Production Technician - WC50",
         2009,
         99
        ],
        [
         "Production Technician - WC50",
         2009,
         94
        ],
        [
         "Shipping and Receiving Supervisor",
         2009,
         93
        ],
        [
         "Stocker",
         2008,
         97
        ],
        [
         "Shipping and Receiving Clerk",
         2008,
         95
        ],
        [
         "Stocker",
         2008,
         98
        ],
        [
         "Shipping and Receiving Clerk",
         2009,
         94
        ],
        [
         "Stocker",
         2009,
         96
        ],
        [
         "Maintenance Supervisor",
         2008,
         92
        ],
        [
         "Janitor",
         2010,
         91
        ]
       ],
       "datasetInfos": [],
       "dbfsResultPath": null,
       "isJsonSchema": true,
       "metadata": {},
       "overflow": false,
       "plotOptions": {
        "customPlotOptions": {},
        "displayType": "table",
        "pivotAggregation": null,
        "pivotColumns": null,
        "xColumns": null,
        "yColumns": null
       },
       "removedWidgets": [],
       "schema": [
        {
         "metadata": "{}",
         "name": "JobTitle",
         "type": "\"string\""
        },
        {
         "metadata": "{}",
         "name": "YOJ",
         "type": "\"integer\""
        },
        {
         "metadata": "{}",
         "name": "VacationHours",
         "type": "\"integer\""
        }
       ],
       "type": "table"
      }
     },
     "output_type": "display_data"
    }
   ],
   "source": [
    "%sql\n",
    "select JobTitle,year(HireDate) as YOJ,VacationHours from emp\n",
    "where vacationHours > 90"
   ]
  },
  {
   "cell_type": "code",
   "execution_count": 0,
   "metadata": {
    "application/vnd.databricks.v1+cell": {
     "cellMetadata": {
      "byteLimit": 2048000,
      "rowLimit": 10000
     },
     "inputWidgets": {},
     "nuid": "028617f7-2d65-4ec0-9d32-c172e0e7c0c7",
     "showTitle": false,
     "title": ""
    }
   },
   "outputs": [
    {
     "output_type": "display_data",
     "data": {
      "text/html": [
       "<style scoped>\n",
       "  .table-result-container {\n",
       "    max-height: 300px;\n",
       "    overflow: auto;\n",
       "  }\n",
       "  table, th, td {\n",
       "    border: 1px solid black;\n",
       "    border-collapse: collapse;\n",
       "  }\n",
       "  th, td {\n",
       "    padding: 5px;\n",
       "  }\n",
       "  th {\n",
       "    text-align: left;\n",
       "  }\n",
       "</style><div class='table-result-container'><table class='table-result'><thead style='background-color: white'><tr><th>JobTitle</th><th>YOJ</th><th>vacationHours</th></tr></thead><tbody><tr><td>Chief Executive Officer</td><td>2009</td><td>99</td></tr><tr><td>Production Technician - WC10</td><td>2009</td><td>99</td></tr><tr><td>Production Technician - WC10</td><td>2010</td><td>96</td></tr><tr><td>Production Technician - WC10</td><td>2010</td><td>97</td></tr><tr><td>Production Technician - WC10</td><td>2010</td><td>95</td></tr><tr><td>Production Technician - WC10</td><td>2010</td><td>98</td></tr><tr><td>Production Technician - WC10</td><td>2009</td><td>93</td></tr><tr><td>Production Technician - WC10</td><td>2009</td><td>94</td></tr><tr><td>Production Technician - WC10</td><td>2010</td><td>92</td></tr><tr><td>Production Technician - WC10</td><td>2010</td><td>91</td></tr><tr><td>Production Technician - WC50</td><td>2008</td><td>95</td></tr><tr><td>Production Technician - WC50</td><td>2008</td><td>93</td></tr><tr><td>Production Technician - WC50</td><td>2009</td><td>91</td></tr><tr><td>Production Technician - WC50</td><td>2008</td><td>96</td></tr><tr><td>Production Technician - WC50</td><td>2009</td><td>97</td></tr><tr><td>Production Technician - WC50</td><td>2009</td><td>92</td></tr><tr><td>Production Technician - WC50</td><td>2009</td><td>98</td></tr><tr><td>Production Technician - WC50</td><td>2009</td><td>99</td></tr><tr><td>Production Technician - WC50</td><td>2009</td><td>94</td></tr><tr><td>Shipping and Receiving Supervisor</td><td>2009</td><td>93</td></tr><tr><td>Stocker</td><td>2008</td><td>97</td></tr><tr><td>Shipping and Receiving Clerk</td><td>2008</td><td>95</td></tr><tr><td>Stocker</td><td>2008</td><td>98</td></tr><tr><td>Shipping and Receiving Clerk</td><td>2009</td><td>94</td></tr><tr><td>Stocker</td><td>2009</td><td>96</td></tr><tr><td>Maintenance Supervisor</td><td>2008</td><td>92</td></tr><tr><td>Janitor</td><td>2010</td><td>91</td></tr></tbody></table></div>"
      ]
     },
     "metadata": {
      "application/vnd.databricks.v1+output": {
       "addedWidgets": {},
       "aggData": [],
       "aggError": "",
       "aggOverflow": false,
       "aggSchema": [],
       "aggSeriesLimitReached": false,
       "aggType": "",
       "arguments": {},
       "columnCustomDisplayInfos": {},
       "data": [
        [
         "Chief Executive Officer",
         2009,
         99
        ],
        [
         "Production Technician - WC10",
         2009,
         99
        ],
        [
         "Production Technician - WC10",
         2010,
         96
        ],
        [
         "Production Technician - WC10",
         2010,
         97
        ],
        [
         "Production Technician - WC10",
         2010,
         95
        ],
        [
         "Production Technician - WC10",
         2010,
         98
        ],
        [
         "Production Technician - WC10",
         2009,
         93
        ],
        [
         "Production Technician - WC10",
         2009,
         94
        ],
        [
         "Production Technician - WC10",
         2010,
         92
        ],
        [
         "Production Technician - WC10",
         2010,
         91
        ],
        [
         "Production Technician - WC50",
         2008,
         95
        ],
        [
         "Production Technician - WC50",
         2008,
         93
        ],
        [
         "Production Technician - WC50",
         2009,
         91
        ],
        [
         "Production Technician - WC50",
         2008,
         96
        ],
        [
         "Production Technician - WC50",
         2009,
         97
        ],
        [
         "Production Technician - WC50",
         2009,
         92
        ],
        [
         "Production Technician - WC50",
         2009,
         98
        ],
        [
         "Production Technician - WC50",
         2009,
         99
        ],
        [
         "Production Technician - WC50",
         2009,
         94
        ],
        [
         "Shipping and Receiving Supervisor",
         2009,
         93
        ],
        [
         "Stocker",
         2008,
         97
        ],
        [
         "Shipping and Receiving Clerk",
         2008,
         95
        ],
        [
         "Stocker",
         2008,
         98
        ],
        [
         "Shipping and Receiving Clerk",
         2009,
         94
        ],
        [
         "Stocker",
         2009,
         96
        ],
        [
         "Maintenance Supervisor",
         2008,
         92
        ],
        [
         "Janitor",
         2010,
         91
        ]
       ],
       "datasetInfos": [],
       "dbfsResultPath": null,
       "isJsonSchema": true,
       "metadata": {},
       "overflow": false,
       "plotOptions": {
        "customPlotOptions": {},
        "displayType": "table",
        "pivotAggregation": null,
        "pivotColumns": null,
        "xColumns": null,
        "yColumns": null
       },
       "removedWidgets": [],
       "schema": [
        {
         "metadata": "{}",
         "name": "JobTitle",
         "type": "\"string\""
        },
        {
         "metadata": "{}",
         "name": "YOJ",
         "type": "\"integer\""
        },
        {
         "metadata": "{}",
         "name": "vacationHours",
         "type": "\"integer\""
        }
       ],
       "type": "table"
      }
     },
     "output_type": "display_data"
    }
   ],
   "source": [
    "Max_Vac_hrs = df1.select('JobTitle',year('HireDate').alias('YOJ'),'vacationHours')\\\n",
    "    .filter( col('VacationHourS') > 90)\n",
    "Max_Vac_hrs.display()"
   ]
  },
  {
   "cell_type": "markdown",
   "metadata": {
    "application/vnd.databricks.v1+cell": {
     "cellMetadata": {},
     "inputWidgets": {},
     "nuid": "df52da7f-85fe-407a-b53e-e6fb0382147e",
     "showTitle": false,
     "title": ""
    }
   },
   "source": [
    "### Where and Having in SQL"
   ]
  },
  {
   "cell_type": "code",
   "execution_count": 0,
   "metadata": {
    "application/vnd.databricks.v1+cell": {
     "cellMetadata": {
      "byteLimit": 2048000,
      "rowLimit": 10000
     },
     "inputWidgets": {},
     "nuid": "75dbcc5c-17f1-432b-8977-da9bc20edcf5",
     "showTitle": false,
     "title": ""
    }
   },
   "outputs": [
    {
     "output_type": "display_data",
     "data": {
      "text/html": [
       "<style scoped>\n",
       "  .table-result-container {\n",
       "    max-height: 300px;\n",
       "    overflow: auto;\n",
       "  }\n",
       "  table, th, td {\n",
       "    border: 1px solid black;\n",
       "    border-collapse: collapse;\n",
       "  }\n",
       "  th, td {\n",
       "    padding: 5px;\n",
       "  }\n",
       "  th {\n",
       "    text-align: left;\n",
       "  }\n",
       "</style><div class='table-result-container'><table class='table-result'><thead style='background-color: white'><tr><th>JobTitle</th><th>Total_Employees</th></tr></thead><tbody><tr><td>Buyer</td><td>6</td></tr><tr><td>Sales Representative</td><td>14</td></tr><tr><td>Production Technician - WC10</td><td>7</td></tr></tbody></table></div>"
      ]
     },
     "metadata": {
      "application/vnd.databricks.v1+output": {
       "addedWidgets": {},
       "aggData": [],
       "aggError": "",
       "aggOverflow": false,
       "aggSchema": [],
       "aggSeriesLimitReached": false,
       "aggType": "",
       "arguments": {},
       "columnCustomDisplayInfos": {},
       "data": [
        [
         "Buyer",
         6
        ],
        [
         "Sales Representative",
         14
        ],
        [
         "Production Technician - WC10",
         7
        ]
       ],
       "datasetInfos": [],
       "dbfsResultPath": null,
       "isJsonSchema": true,
       "metadata": {},
       "overflow": false,
       "plotOptions": {
        "customPlotOptions": {},
        "displayType": "table",
        "pivotAggregation": null,
        "pivotColumns": null,
        "xColumns": null,
        "yColumns": null
       },
       "removedWidgets": [],
       "schema": [
        {
         "metadata": "{}",
         "name": "JobTitle",
         "type": "\"string\""
        },
        {
         "metadata": "{}",
         "name": "Total_Employees",
         "type": "\"long\""
        }
       ],
       "type": "table"
      }
     },
     "output_type": "display_data"
    }
   ],
   "source": [
    "spark.sql(\"\"\"select JobTitle, count(BusinessEntityID) as Total_Employees from emp\n",
    "where HireDate > '2009-12-31'\n",
    "group by JobTitle\n",
    "having count(BusinessEntityID) > 5\"\"\").display()"
   ]
  },
  {
   "cell_type": "code",
   "execution_count": 0,
   "metadata": {
    "application/vnd.databricks.v1+cell": {
     "cellMetadata": {
      "byteLimit": 2048000,
      "rowLimit": 10000
     },
     "inputWidgets": {},
     "nuid": "d2fc0405-0f92-4a22-a227-75d51b5356f9",
     "showTitle": false,
     "title": ""
    }
   },
   "outputs": [
    {
     "output_type": "display_data",
     "data": {
      "text/html": [
       "<style scoped>\n",
       "  .table-result-container {\n",
       "    max-height: 300px;\n",
       "    overflow: auto;\n",
       "  }\n",
       "  table, th, td {\n",
       "    border: 1px solid black;\n",
       "    border-collapse: collapse;\n",
       "  }\n",
       "  th, td {\n",
       "    padding: 5px;\n",
       "  }\n",
       "  th {\n",
       "    text-align: left;\n",
       "  }\n",
       "</style><div class='table-result-container'><table class='table-result'><thead style='background-color: white'><tr><th>JobTitle</th><th>TotalEmployees</th></tr></thead><tbody><tr><td>Buyer</td><td>6</td></tr><tr><td>Sales Representative</td><td>14</td></tr><tr><td>Production Technician - WC10</td><td>7</td></tr></tbody></table></div>"
      ]
     },
     "metadata": {
      "application/vnd.databricks.v1+output": {
       "addedWidgets": {},
       "aggData": [],
       "aggError": "",
       "aggOverflow": false,
       "aggSchema": [],
       "aggSeriesLimitReached": false,
       "aggType": "",
       "arguments": {},
       "columnCustomDisplayInfos": {},
       "data": [
        [
         "Buyer",
         6
        ],
        [
         "Sales Representative",
         14
        ],
        [
         "Production Technician - WC10",
         7
        ]
       ],
       "datasetInfos": [],
       "dbfsResultPath": null,
       "isJsonSchema": true,
       "metadata": {},
       "overflow": false,
       "plotOptions": {
        "customPlotOptions": {},
        "displayType": "table",
        "pivotAggregation": null,
        "pivotColumns": null,
        "xColumns": null,
        "yColumns": null
       },
       "removedWidgets": [],
       "schema": [
        {
         "metadata": "{}",
         "name": "JobTitle",
         "type": "\"string\""
        },
        {
         "metadata": "{}",
         "name": "TotalEmployees",
         "type": "\"long\""
        }
       ],
       "type": "table"
      }
     },
     "output_type": "display_data"
    }
   ],
   "source": [
    "emp_count = df1.filter( col('HireDate') > '2009-12-31')\\\n",
    "    .groupBy(\"JobTitle\")\\\n",
    "    .agg( count(col('BusinessEntityID') ).alias(\"TotalEmployees\"))\\\n",
    "    .filter(col('TotalEmployees') > 5)\n",
    "emp_count.display()"
   ]
  },
  {
   "cell_type": "markdown",
   "metadata": {
    "application/vnd.databricks.v1+cell": {
     "cellMetadata": {},
     "inputWidgets": {},
     "nuid": "5f0c89ee-8116-4415-9e1f-b502be9858fe",
     "showTitle": false,
     "title": ""
    }
   },
   "source": [
    "### SaveAsTable"
   ]
  },
  {
   "cell_type": "code",
   "execution_count": 0,
   "metadata": {
    "application/vnd.databricks.v1+cell": {
     "cellMetadata": {
      "byteLimit": 2048000,
      "rowLimit": 10000
     },
     "inputWidgets": {},
     "nuid": "c7d1ee74-2d50-43c0-b721-6a9d40ebc59f",
     "showTitle": false,
     "title": ""
    }
   },
   "outputs": [
    {
     "output_type": "stream",
     "name": "stdout",
     "output_type": "stream",
     "text": [
      "Out[122]: 61"
     ]
    }
   ],
   "source": [
    "df2 = df1.filter( col('HireDate') > '2009-12-31')\n",
    "df2.count()"
   ]
  },
  {
   "cell_type": "code",
   "execution_count": 0,
   "metadata": {
    "application/vnd.databricks.v1+cell": {
     "cellMetadata": {
      "byteLimit": 2048000,
      "rowLimit": 10000
     },
     "inputWidgets": {},
     "nuid": "04cd3630-3b67-4793-a276-687e4eb0fe18",
     "showTitle": false,
     "title": ""
    }
   },
   "outputs": [
    {
     "output_type": "display_data",
     "data": {
      "text/html": [
       "<style scoped>\n",
       "  .table-result-container {\n",
       "    max-height: 300px;\n",
       "    overflow: auto;\n",
       "  }\n",
       "  table, th, td {\n",
       "    border: 1px solid black;\n",
       "    border-collapse: collapse;\n",
       "  }\n",
       "  th, td {\n",
       "    padding: 5px;\n",
       "  }\n",
       "  th {\n",
       "    text-align: left;\n",
       "  }\n",
       "</style><div class='table-result-container'><table class='table-result'><thead style='background-color: white'><tr><th>BusinessEntityID</th><th>NationalIDNumber</th><th>LoginID</th><th>OrganizationNode</th><th>OrganizationLevel</th><th>JobTitle</th><th>BirthDate</th><th>MaritalStatus</th><th>Gender</th><th>HireDate</th><th>SalariedFlag</th><th>VacationHours</th><th>SickLeaveHours</th><th>CurrentFlag</th><th>rowguid</th><th>ModifiedDate</th></tr></thead><tbody><tr><td>11</td><td>974026903</td><td>adventure-works\\ovidiu0</td><td>0x5AE3</td><td>3</td><td>Senior Tool Designer</td><td>1978-01-17</td><td>S</td><td>M</td><td>2010-12-05T00:00:00.000+0000</td><td>0</td><td>7</td><td>23</td><td>1</td><td>F68C7C19-FAC1-438C-9BB7-AC33FCC341C3</td><td>2014-06-30T00:00:00.000+0000</td></tr><tr><td>13</td><td>486228782</td><td>adventure-works\\janice0</td><td>0x5AE368</td><td>4</td><td>Tool Designer</td><td>1989-05-28</td><td>M</td><td>F</td><td>2010-12-23T00:00:00.000+0000</td><td>0</td><td>8</td><td>24</td><td>1</td><td>954B91B6-5AA7-48C2-8685-6E11C6E5C49A</td><td>2014-06-30T00:00:00.000+0000</td></tr><tr><td>14</td><td>42487730</td><td>adventure-works\\michael8</td><td>0x5AE5</td><td>3</td><td>Senior Design Engineer</td><td>1979-06-16</td><td>S</td><td>M</td><td>2010-12-30T00:00:00.000+0000</td><td>1</td><td>3</td><td>21</td><td>1</td><td>46286CA4-46DD-4DDB-9128-85B67E98D1A9</td><td>2014-06-30T00:00:00.000+0000</td></tr><tr><td>15</td><td>56920285</td><td>adventure-works\\sharon0</td><td>0x5AE7</td><td>3</td><td>Design Engineer</td><td>1961-05-02</td><td>M</td><td>F</td><td>2011-01-18T00:00:00.000+0000</td><td>1</td><td>4</td><td>22</td><td>1</td><td>54F2FDC0-87C4-4065-A7A8-9AC8EA624235</td><td>2014-06-30T00:00:00.000+0000</td></tr><tr><td>18</td><td>222969461</td><td>adventure-works\\john5</td><td>0x6B40</td><td>2</td><td>Marketing Specialist</td><td>1978-03-06</td><td>S</td><td>M</td><td>2011-02-07T00:00:00.000+0000</td><td>0</td><td>48</td><td>44</td><td>1</td><td>64730415-1F58-4E5B-8FA8-5E4DAEBA53B4</td><td>2014-06-30T00:00:00.000+0000</td></tr></tbody></table></div>"
      ]
     },
     "metadata": {
      "application/vnd.databricks.v1+output": {
       "addedWidgets": {},
       "aggData": [],
       "aggError": "",
       "aggOverflow": false,
       "aggSchema": [],
       "aggSeriesLimitReached": false,
       "aggType": "",
       "arguments": {},
       "columnCustomDisplayInfos": {},
       "data": [
        [
         11,
         974026903,
         "adventure-works\\ovidiu0",
         "0x5AE3",
         3,
         "Senior Tool Designer",
         "1978-01-17",
         "S",
         "M",
         "2010-12-05T00:00:00.000+0000",
         0,
         7,
         23,
         1,
         "F68C7C19-FAC1-438C-9BB7-AC33FCC341C3",
         "2014-06-30T00:00:00.000+0000"
        ],
        [
         13,
         486228782,
         "adventure-works\\janice0",
         "0x5AE368",
         4,
         "Tool Designer",
         "1989-05-28",
         "M",
         "F",
         "2010-12-23T00:00:00.000+0000",
         0,
         8,
         24,
         1,
         "954B91B6-5AA7-48C2-8685-6E11C6E5C49A",
         "2014-06-30T00:00:00.000+0000"
        ],
        [
         14,
         42487730,
         "adventure-works\\michael8",
         "0x5AE5",
         3,
         "Senior Design Engineer",
         "1979-06-16",
         "S",
         "M",
         "2010-12-30T00:00:00.000+0000",
         1,
         3,
         21,
         1,
         "46286CA4-46DD-4DDB-9128-85B67E98D1A9",
         "2014-06-30T00:00:00.000+0000"
        ],
        [
         15,
         56920285,
         "adventure-works\\sharon0",
         "0x5AE7",
         3,
         "Design Engineer",
         "1961-05-02",
         "M",
         "F",
         "2011-01-18T00:00:00.000+0000",
         1,
         4,
         22,
         1,
         "54F2FDC0-87C4-4065-A7A8-9AC8EA624235",
         "2014-06-30T00:00:00.000+0000"
        ],
        [
         18,
         222969461,
         "adventure-works\\john5",
         "0x6B40",
         2,
         "Marketing Specialist",
         "1978-03-06",
         "S",
         "M",
         "2011-02-07T00:00:00.000+0000",
         0,
         48,
         44,
         1,
         "64730415-1F58-4E5B-8FA8-5E4DAEBA53B4",
         "2014-06-30T00:00:00.000+0000"
        ]
       ],
       "datasetInfos": [],
       "dbfsResultPath": null,
       "isJsonSchema": true,
       "metadata": {},
       "overflow": false,
       "plotOptions": {
        "customPlotOptions": {},
        "displayType": "table",
        "pivotAggregation": null,
        "pivotColumns": null,
        "xColumns": null,
        "yColumns": null
       },
       "removedWidgets": [],
       "schema": [
        {
         "metadata": "{}",
         "name": "BusinessEntityID",
         "type": "\"integer\""
        },
        {
         "metadata": "{}",
         "name": "NationalIDNumber",
         "type": "\"integer\""
        },
        {
         "metadata": "{}",
         "name": "LoginID",
         "type": "\"string\""
        },
        {
         "metadata": "{}",
         "name": "OrganizationNode",
         "type": "\"string\""
        },
        {
         "metadata": "{}",
         "name": "OrganizationLevel",
         "type": "\"integer\""
        },
        {
         "metadata": "{}",
         "name": "JobTitle",
         "type": "\"string\""
        },
        {
         "metadata": "{}",
         "name": "BirthDate",
         "type": "\"date\""
        },
        {
         "metadata": "{}",
         "name": "MaritalStatus",
         "type": "\"string\""
        },
        {
         "metadata": "{}",
         "name": "Gender",
         "type": "\"string\""
        },
        {
         "metadata": "{}",
         "name": "HireDate",
         "type": "\"timestamp\""
        },
        {
         "metadata": "{}",
         "name": "SalariedFlag",
         "type": "\"integer\""
        },
        {
         "metadata": "{}",
         "name": "VacationHours",
         "type": "\"integer\""
        },
        {
         "metadata": "{}",
         "name": "SickLeaveHours",
         "type": "\"integer\""
        },
        {
         "metadata": "{}",
         "name": "CurrentFlag",
         "type": "\"integer\""
        },
        {
         "metadata": "{}",
         "name": "rowguid",
         "type": "\"string\""
        },
        {
         "metadata": "{}",
         "name": "ModifiedDate",
         "type": "\"timestamp\""
        }
       ],
       "type": "table"
      }
     },
     "output_type": "display_data"
    }
   ],
   "source": [
    "display(df2.limit(5))"
   ]
  },
  {
   "cell_type": "code",
   "execution_count": 0,
   "metadata": {
    "application/vnd.databricks.v1+cell": {
     "cellMetadata": {
      "byteLimit": 2048000,
      "rowLimit": 10000
     },
     "inputWidgets": {},
     "nuid": "696710b6-ef02-4a46-b3a9-411e1569ff8c",
     "showTitle": false,
     "title": ""
    }
   },
   "outputs": [],
   "source": [
    "df2.write.option('header','true').option('inferSchema','true').mode('overwrite').saveAsTable('tbl_employee')"
   ]
  },
  {
   "cell_type": "code",
   "execution_count": 0,
   "metadata": {
    "application/vnd.databricks.v1+cell": {
     "cellMetadata": {
      "byteLimit": 2048000,
      "implicitDf": true,
      "rowLimit": 10000
     },
     "inputWidgets": {},
     "nuid": "0bff3c80-f359-4ed7-9af2-f15230155a8e",
     "showTitle": false,
     "title": ""
    }
   },
   "outputs": [
    {
     "output_type": "display_data",
     "data": {
      "text/html": [
       "<style scoped>\n",
       "  .table-result-container {\n",
       "    max-height: 300px;\n",
       "    overflow: auto;\n",
       "  }\n",
       "  table, th, td {\n",
       "    border: 1px solid black;\n",
       "    border-collapse: collapse;\n",
       "  }\n",
       "  th, td {\n",
       "    padding: 5px;\n",
       "  }\n",
       "  th {\n",
       "    text-align: left;\n",
       "  }\n",
       "</style><div class='table-result-container'><table class='table-result'><thead style='background-color: white'><tr><th>total_records</th></tr></thead><tbody><tr><td>61</td></tr></tbody></table></div>"
      ]
     },
     "metadata": {
      "application/vnd.databricks.v1+output": {
       "addedWidgets": {},
       "aggData": [],
       "aggError": "",
       "aggOverflow": false,
       "aggSchema": [],
       "aggSeriesLimitReached": false,
       "aggType": "",
       "arguments": {},
       "columnCustomDisplayInfos": {},
       "data": [
        [
         61
        ]
       ],
       "datasetInfos": [],
       "dbfsResultPath": null,
       "isJsonSchema": true,
       "metadata": {},
       "overflow": false,
       "plotOptions": {
        "customPlotOptions": {},
        "displayType": "table",
        "pivotAggregation": null,
        "pivotColumns": null,
        "xColumns": null,
        "yColumns": null
       },
       "removedWidgets": [],
       "schema": [
        {
         "metadata": "{}",
         "name": "total_records",
         "type": "\"long\""
        }
       ],
       "type": "table"
      }
     },
     "output_type": "display_data"
    }
   ],
   "source": [
    "%sql\n",
    "select count(*) as total_records from tbl_employee"
   ]
  },
  {
   "cell_type": "code",
   "execution_count": 0,
   "metadata": {
    "application/vnd.databricks.v1+cell": {
     "cellMetadata": {},
     "inputWidgets": {},
     "nuid": "b13bf76c-2c06-4e83-bfed-ca39c30e4113",
     "showTitle": false,
     "title": ""
    }
   },
   "outputs": [],
   "source": []
  }
 ],
 "metadata": {
  "application/vnd.databricks.v1+notebook": {
   "dashboards": [],
   "language": "python",
   "notebookMetadata": {
    "mostRecentlyExecutedCommandWithImplicitDF": {
     "commandId": 4310742710910023,
     "dataframes": [
      "_sqldf"
     ]
    },
    "pythonIndentUnit": 4
   },
   "notebookName": "SQL_Pyspark",
   "widgets": {}
  }
 },
 "nbformat": 4,
 "nbformat_minor": 0
}
