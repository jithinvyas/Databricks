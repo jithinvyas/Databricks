{
 "cells": [
  {
   "cell_type": "markdown",
   "metadata": {
    "application/vnd.databricks.v1+cell": {
     "cellMetadata": {},
     "inputWidgets": {},
     "nuid": "283893b4-9362-40e9-962c-ff47c64bfaa0",
     "showTitle": false,
     "title": ""
    }
   },
   "source": [
    "## Data Transformation\n",
    "##### Datetime Format to Date Format"
   ]
  },
  {
   "cell_type": "code",
   "execution_count": 0,
   "metadata": {
    "application/vnd.databricks.v1+cell": {
     "cellMetadata": {
      "byteLimit": 2048000,
      "rowLimit": 10000
     },
     "inputWidgets": {},
     "nuid": "929cb091-73cf-4406-8c7f-efb9b9b31b88",
     "showTitle": false,
     "title": ""
    }
   },
   "outputs": [],
   "source": [
    "table_names = []\n",
    "\n",
    "for files in dbutils.fs.ls('mnt/bronze/Sales/'):\n",
    "    table_names.append(files.name.split('/')[0])"
   ]
  },
  {
   "cell_type": "code",
   "execution_count": 0,
   "metadata": {
    "application/vnd.databricks.v1+cell": {
     "cellMetadata": {
      "byteLimit": 2048000,
      "rowLimit": 10000
     },
     "inputWidgets": {},
     "nuid": "2b4283ec-e36b-4116-a01f-a6b4aa742844",
     "showTitle": false,
     "title": ""
    }
   },
   "outputs": [
    {
     "output_type": "execute_result",
     "data": {
      "text/plain": [
       "['PersonCreditCard',\n",
       " 'SalesOrderHeaderSalesReason',\n",
       " 'SalesPerson',\n",
       " 'SalesPersonQuotaHistory',\n",
       " 'SalesReason',\n",
       " 'SalesTaxRate',\n",
       " 'SalesTerritory']"
      ]
     },
     "execution_count": 12,
     "metadata": {},
     "output_type": "execute_result"
    }
   ],
   "source": [
    "table_names"
   ]
  },
  {
   "cell_type": "code",
   "execution_count": 0,
   "metadata": {
    "application/vnd.databricks.v1+cell": {
     "cellMetadata": {
      "byteLimit": 2048000,
      "rowLimit": 10000
     },
     "inputWidgets": {},
     "nuid": "65b482b8-2951-411c-9e1b-4c224743244a",
     "showTitle": false,
     "title": ""
    }
   },
   "outputs": [],
   "source": [
    "from pyspark.sql.functions import from_utc_timestamp, date_format\n",
    "from pyspark.sql.types import TimestampType"
   ]
  },
  {
   "cell_type": "code",
   "execution_count": 0,
   "metadata": {
    "application/vnd.databricks.v1+cell": {
     "cellMetadata": {
      "byteLimit": 2048000,
      "rowLimit": 10000
     },
     "inputWidgets": {},
     "nuid": "8b83c0ae-ebb9-4d83-91d9-d48662707f21",
     "showTitle": false,
     "title": ""
    }
   },
   "outputs": [],
   "source": [
    "for i in table_names:\n",
    "    path = 'dbfs:/mnt/bronze/Sales/' + i + '/' + i + '.parquet'\n",
    "    df = spark.read.format('parquet').load(path)\n",
    "    column = df.columns\n",
    "\n",
    "    for col in column:\n",
    "        if \"Date\" in col or \"date\" in col:\n",
    "            df = df.withColumn(col, date_format(from_utc_timestamp(df[col].cast(TimestampType()), \"UTC\"), \"yyyy-MM-dd\"))\n",
    "\n",
    "    output_path = 'dbfs:/mnt/silver/Sales/' + i + '/'\n",
    "    df.write.format('delta').mode(\"overwrite\").save(output_path)"
   ]
  },
  {
   "cell_type": "code",
   "execution_count": 0,
   "metadata": {
    "application/vnd.databricks.v1+cell": {
     "cellMetadata": {
      "byteLimit": 2048000,
      "rowLimit": 10000
     },
     "inputWidgets": {},
     "nuid": "e6d9bc78-97ee-496b-8d9b-6257350312b3",
     "showTitle": false,
     "title": ""
    }
   },
   "outputs": [
    {
     "output_type": "display_data",
     "data": {
      "text/html": [
       "<style scoped>\n",
       "  .table-result-container {\n",
       "    max-height: 300px;\n",
       "    overflow: auto;\n",
       "  }\n",
       "  table, th, td {\n",
       "    border: 1px solid black;\n",
       "    border-collapse: collapse;\n",
       "  }\n",
       "  th, td {\n",
       "    padding: 5px;\n",
       "  }\n",
       "  th {\n",
       "    text-align: left;\n",
       "  }\n",
       "</style><div class='table-result-container'><table class='table-result'><thead style='background-color: white'><tr><th>CostYTD</th><th>CostLastYear</th><th>rowguid</th><th>ModifiedDate</th></tr></thead><tbody><tr><td>0.0000</td><td>0.0000</td><td>43689a10-e30b-497f-b0de-11de20267ff7</td><td>2008-04-30</td></tr><tr><td>0.0000</td><td>0.0000</td><td>00fb7309-96cc-49e2-8363-0a1ba72486f2</td><td>2008-04-30</td></tr><tr><td>0.0000</td><td>0.0000</td><td>df6e7fd8-1a8d-468c-b103-ed8addb452c1</td><td>2008-04-30</td></tr><tr><td>0.0000</td><td>0.0000</td><td>dc3e9ea0-7950-4431-9428-99dbcbc33865</td><td>2008-04-30</td></tr><tr><td>0.0000</td><td>0.0000</td><td>6dc4165a-5e4c-42d2-809d-4344e0ac75e7</td><td>2008-04-30</td></tr><tr><td>0.0000</td><td>0.0000</td><td>06b4af8a-1639-476e-9266-110461d66b00</td><td>2008-04-30</td></tr><tr><td>0.0000</td><td>0.0000</td><td>bf806804-9b4c-4b07-9d19-706f2e689552</td><td>2008-04-30</td></tr><tr><td>0.0000</td><td>0.0000</td><td>6d2450db-8159-414f-a917-e73ee91c38a9</td><td>2008-04-30</td></tr><tr><td>0.0000</td><td>0.0000</td><td>602e612e-dfe9-41d9-b894-27e489747885</td><td>2008-04-30</td></tr><tr><td>0.0000</td><td>0.0000</td><td>05fc7e1f-2dea-414e-9ecd-09d150516fb5</td><td>2008-04-30</td></tr></tbody></table></div>"
      ]
     },
     "metadata": {
      "application/vnd.databricks.v1+output": {
       "addedWidgets": {},
       "aggData": [],
       "aggError": "",
       "aggOverflow": false,
       "aggSchema": [],
       "aggSeriesLimitReached": false,
       "aggType": "",
       "arguments": {},
       "columnCustomDisplayInfos": {},
       "data": [
        [
         "0.0000",
         "0.0000",
         "43689a10-e30b-497f-b0de-11de20267ff7",
         "2008-04-30"
        ],
        [
         "0.0000",
         "0.0000",
         "00fb7309-96cc-49e2-8363-0a1ba72486f2",
         "2008-04-30"
        ],
        [
         "0.0000",
         "0.0000",
         "df6e7fd8-1a8d-468c-b103-ed8addb452c1",
         "2008-04-30"
        ],
        [
         "0.0000",
         "0.0000",
         "dc3e9ea0-7950-4431-9428-99dbcbc33865",
         "2008-04-30"
        ],
        [
         "0.0000",
         "0.0000",
         "6dc4165a-5e4c-42d2-809d-4344e0ac75e7",
         "2008-04-30"
        ],
        [
         "0.0000",
         "0.0000",
         "06b4af8a-1639-476e-9266-110461d66b00",
         "2008-04-30"
        ],
        [
         "0.0000",
         "0.0000",
         "bf806804-9b4c-4b07-9d19-706f2e689552",
         "2008-04-30"
        ],
        [
         "0.0000",
         "0.0000",
         "6d2450db-8159-414f-a917-e73ee91c38a9",
         "2008-04-30"
        ],
        [
         "0.0000",
         "0.0000",
         "602e612e-dfe9-41d9-b894-27e489747885",
         "2008-04-30"
        ],
        [
         "0.0000",
         "0.0000",
         "05fc7e1f-2dea-414e-9ecd-09d150516fb5",
         "2008-04-30"
        ]
       ],
       "datasetInfos": [],
       "dbfsResultPath": null,
       "isJsonSchema": true,
       "metadata": {},
       "overflow": false,
       "plotOptions": {
        "customPlotOptions": {},
        "displayType": "table",
        "pivotAggregation": null,
        "pivotColumns": null,
        "xColumns": null,
        "yColumns": null
       },
       "removedWidgets": [],
       "schema": [
        {
         "metadata": "{}",
         "name": "CostYTD",
         "type": "\"decimal(19,4)\""
        },
        {
         "metadata": "{}",
         "name": "CostLastYear",
         "type": "\"decimal(19,4)\""
        },
        {
         "metadata": "{}",
         "name": "rowguid",
         "type": "\"string\""
        },
        {
         "metadata": "{}",
         "name": "ModifiedDate",
         "type": "\"string\""
        }
       ],
       "type": "table"
      }
     },
     "output_type": "display_data"
    }
   ],
   "source": [
    "df1=df.select(*[col_name for col_name in df.columns[-4:]])\n",
    "df1.display()"
   ]
  },
  {
   "cell_type": "code",
   "execution_count": 0,
   "metadata": {
    "application/vnd.databricks.v1+cell": {
     "cellMetadata": {},
     "inputWidgets": {},
     "nuid": "fb22c341-233b-407b-8f1c-4a64bcbe5481",
     "showTitle": false,
     "title": ""
    }
   },
   "outputs": [],
   "source": []
  }
 ],
 "metadata": {
  "application/vnd.databricks.v1+notebook": {
   "dashboards": [],
   "language": "python",
   "notebookMetadata": {
    "pythonIndentUnit": 4
   },
   "notebookName": "bronze to silver",
   "widgets": {}
  }
 },
 "nbformat": 4,
 "nbformat_minor": 0
}
