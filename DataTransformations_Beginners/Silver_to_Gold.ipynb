{
 "cells": [
  {
   "cell_type": "markdown",
   "metadata": {
    "application/vnd.databricks.v1+cell": {
     "cellMetadata": {},
     "inputWidgets": {},
     "nuid": "5969dcd8-91c2-43da-b178-ec70bb544ef0",
     "showTitle": false,
     "title": ""
    }
   },
   "source": [
    "## Data Transformation \n",
    "##### ColumnName to Column_Name"
   ]
  },
  {
   "cell_type": "code",
   "execution_count": 0,
   "metadata": {
    "application/vnd.databricks.v1+cell": {
     "cellMetadata": {
      "byteLimit": 2048000,
      "rowLimit": 10000
     },
     "inputWidgets": {},
     "nuid": "deea7f77-f0cc-4416-b834-9d7454b359be",
     "showTitle": false,
     "title": ""
    }
   },
   "outputs": [],
   "source": [
    "table_names = []\n",
    "\n",
    "for i in dbutils.fs.ls('mnt/silver/Sales'):\n",
    "    table_names.append(i.name.split('/')[0])"
   ]
  },
  {
   "cell_type": "code",
   "execution_count": 0,
   "metadata": {
    "application/vnd.databricks.v1+cell": {
     "cellMetadata": {
      "byteLimit": 2048000,
      "rowLimit": 10000
     },
     "inputWidgets": {},
     "nuid": "65158e2b-169a-41fc-b5c9-5116e41468fc",
     "showTitle": false,
     "title": ""
    }
   },
   "outputs": [
    {
     "output_type": "execute_result",
     "data": {
      "text/plain": [
       "['PersonCreditCard',\n",
       " 'SalesOrderHeaderSalesReason',\n",
       " 'SalesPerson',\n",
       " 'SalesPersonQuotaHistory',\n",
       " 'SalesReason',\n",
       " 'SalesTaxRate',\n",
       " 'SalesTerritory']"
      ]
     },
     "execution_count": 6,
     "metadata": {},
     "output_type": "execute_result"
    }
   ],
   "source": [
    "table_names"
   ]
  },
  {
   "cell_type": "code",
   "execution_count": 0,
   "metadata": {
    "application/vnd.databricks.v1+cell": {
     "cellMetadata": {
      "byteLimit": 2048000,
      "rowLimit": 10000
     },
     "inputWidgets": {},
     "nuid": "c5f743bb-07b5-42e5-b281-238d4b1a201d",
     "showTitle": false,
     "title": ""
    }
   },
   "outputs": [
    {
     "output_type": "stream",
     "name": "stdout",
     "output_type": "stream",
     "text": [
      "dbfs:/mnt/silver/Sales/PersonCreditCard\ndbfs:/mnt/silver/Sales/SalesOrderHeaderSalesReason\ndbfs:/mnt/silver/Sales/SalesPerson\ndbfs:/mnt/silver/Sales/SalesPersonQuotaHistory\ndbfs:/mnt/silver/Sales/SalesReason\ndbfs:/mnt/silver/Sales/SalesTaxRate\ndbfs:/mnt/silver/Sales/SalesTerritory\n"
     ]
    }
   ],
   "source": [
    "for name in table_names:\n",
    "    path = 'dbfs:/mnt/silver/Sales/' + name\n",
    "    print(path)\n",
    "    df = spark.read.format('delta').load(path)\n",
    "    colNames = df.columns\n",
    "\n",
    "    for oldColName in colNames:\n",
    "        newColNames = \"\".join([\"_\" + char if char.isupper() and not oldColName[i-1].isupper() else char for i, char in enumerate(oldColName)]).lstrip(\"_\")\n",
    "\n",
    "        df = df.withColumnRenamed(oldColName, newColNames)\n",
    "\n",
    "    output_path = 'dbfs:/mnt/gold/Sales/' + name + '/'\n",
    "    df.write.format('delta').mode(\"overwrite\").save(output_path)"
   ]
  },
  {
   "cell_type": "code",
   "execution_count": 0,
   "metadata": {
    "application/vnd.databricks.v1+cell": {
     "cellMetadata": {
      "byteLimit": 2048000,
      "rowLimit": 10000
     },
     "inputWidgets": {},
     "nuid": "64943cc1-6424-4106-9bf6-a1252d42e8ab",
     "showTitle": false,
     "title": ""
    }
   },
   "outputs": [
    {
     "output_type": "display_data",
     "data": {
      "text/html": [
       "<style scoped>\n",
       "  .table-result-container {\n",
       "    max-height: 300px;\n",
       "    overflow: auto;\n",
       "  }\n",
       "  table, th, td {\n",
       "    border: 1px solid black;\n",
       "    border-collapse: collapse;\n",
       "  }\n",
       "  th, td {\n",
       "    padding: 5px;\n",
       "  }\n",
       "  th {\n",
       "    text-align: left;\n",
       "  }\n",
       "</style><div class='table-result-container'><table class='table-result'><thead style='background-color: white'><tr><th>Territory_ID</th><th>Name</th><th>Country_Region_Code</th><th>Group</th><th>Sales_YTD</th><th>Sales_Last_Year</th><th>Cost_YTD</th><th>Cost_Last_Year</th><th>rowguid</th><th>Modified_Date</th></tr></thead><tbody><tr><td>1</td><td>Northwest</td><td>US</td><td>North America</td><td>7887186.7882</td><td>3298694.4938</td><td>0.0000</td><td>0.0000</td><td>43689a10-e30b-497f-b0de-11de20267ff7</td><td>2008-04-30</td></tr><tr><td>2</td><td>Northeast</td><td>US</td><td>North America</td><td>2402176.8476</td><td>3607148.9371</td><td>0.0000</td><td>0.0000</td><td>00fb7309-96cc-49e2-8363-0a1ba72486f2</td><td>2008-04-30</td></tr><tr><td>3</td><td>Central</td><td>US</td><td>North America</td><td>3072175.1180</td><td>3205014.0767</td><td>0.0000</td><td>0.0000</td><td>df6e7fd8-1a8d-468c-b103-ed8addb452c1</td><td>2008-04-30</td></tr><tr><td>4</td><td>Southwest</td><td>US</td><td>North America</td><td>10510853.8739</td><td>5366575.7098</td><td>0.0000</td><td>0.0000</td><td>dc3e9ea0-7950-4431-9428-99dbcbc33865</td><td>2008-04-30</td></tr><tr><td>5</td><td>Southeast</td><td>US</td><td>North America</td><td>2538667.2515</td><td>3925071.4318</td><td>0.0000</td><td>0.0000</td><td>6dc4165a-5e4c-42d2-809d-4344e0ac75e7</td><td>2008-04-30</td></tr><tr><td>6</td><td>Canada</td><td>CA</td><td>North America</td><td>6771829.1376</td><td>5693988.8600</td><td>0.0000</td><td>0.0000</td><td>06b4af8a-1639-476e-9266-110461d66b00</td><td>2008-04-30</td></tr><tr><td>7</td><td>France</td><td>FR</td><td>Europe</td><td>4772398.3078</td><td>2396539.7601</td><td>0.0000</td><td>0.0000</td><td>bf806804-9b4c-4b07-9d19-706f2e689552</td><td>2008-04-30</td></tr><tr><td>8</td><td>Germany</td><td>DE</td><td>Europe</td><td>3805202.3478</td><td>1307949.7917</td><td>0.0000</td><td>0.0000</td><td>6d2450db-8159-414f-a917-e73ee91c38a9</td><td>2008-04-30</td></tr><tr><td>9</td><td>Australia</td><td>AU</td><td>Pacific</td><td>5977814.9154</td><td>2278548.9776</td><td>0.0000</td><td>0.0000</td><td>602e612e-dfe9-41d9-b894-27e489747885</td><td>2008-04-30</td></tr><tr><td>10</td><td>United Kingdom</td><td>GB</td><td>Europe</td><td>5012905.3656</td><td>1635823.3967</td><td>0.0000</td><td>0.0000</td><td>05fc7e1f-2dea-414e-9ecd-09d150516fb5</td><td>2008-04-30</td></tr></tbody></table></div>"
      ]
     },
     "metadata": {
      "application/vnd.databricks.v1+output": {
       "addedWidgets": {},
       "aggData": [],
       "aggError": "",
       "aggOverflow": false,
       "aggSchema": [],
       "aggSeriesLimitReached": false,
       "aggType": "",
       "arguments": {},
       "columnCustomDisplayInfos": {},
       "data": [
        [
         1,
         "Northwest",
         "US",
         "North America",
         "7887186.7882",
         "3298694.4938",
         "0.0000",
         "0.0000",
         "43689a10-e30b-497f-b0de-11de20267ff7",
         "2008-04-30"
        ],
        [
         2,
         "Northeast",
         "US",
         "North America",
         "2402176.8476",
         "3607148.9371",
         "0.0000",
         "0.0000",
         "00fb7309-96cc-49e2-8363-0a1ba72486f2",
         "2008-04-30"
        ],
        [
         3,
         "Central",
         "US",
         "North America",
         "3072175.1180",
         "3205014.0767",
         "0.0000",
         "0.0000",
         "df6e7fd8-1a8d-468c-b103-ed8addb452c1",
         "2008-04-30"
        ],
        [
         4,
         "Southwest",
         "US",
         "North America",
         "10510853.8739",
         "5366575.7098",
         "0.0000",
         "0.0000",
         "dc3e9ea0-7950-4431-9428-99dbcbc33865",
         "2008-04-30"
        ],
        [
         5,
         "Southeast",
         "US",
         "North America",
         "2538667.2515",
         "3925071.4318",
         "0.0000",
         "0.0000",
         "6dc4165a-5e4c-42d2-809d-4344e0ac75e7",
         "2008-04-30"
        ],
        [
         6,
         "Canada",
         "CA",
         "North America",
         "6771829.1376",
         "5693988.8600",
         "0.0000",
         "0.0000",
         "06b4af8a-1639-476e-9266-110461d66b00",
         "2008-04-30"
        ],
        [
         7,
         "France",
         "FR",
         "Europe",
         "4772398.3078",
         "2396539.7601",
         "0.0000",
         "0.0000",
         "bf806804-9b4c-4b07-9d19-706f2e689552",
         "2008-04-30"
        ],
        [
         8,
         "Germany",
         "DE",
         "Europe",
         "3805202.3478",
         "1307949.7917",
         "0.0000",
         "0.0000",
         "6d2450db-8159-414f-a917-e73ee91c38a9",
         "2008-04-30"
        ],
        [
         9,
         "Australia",
         "AU",
         "Pacific",
         "5977814.9154",
         "2278548.9776",
         "0.0000",
         "0.0000",
         "602e612e-dfe9-41d9-b894-27e489747885",
         "2008-04-30"
        ],
        [
         10,
         "United Kingdom",
         "GB",
         "Europe",
         "5012905.3656",
         "1635823.3967",
         "0.0000",
         "0.0000",
         "05fc7e1f-2dea-414e-9ecd-09d150516fb5",
         "2008-04-30"
        ]
       ],
       "datasetInfos": [],
       "dbfsResultPath": null,
       "isJsonSchema": true,
       "metadata": {},
       "overflow": false,
       "plotOptions": {
        "customPlotOptions": {},
        "displayType": "table",
        "pivotAggregation": null,
        "pivotColumns": null,
        "xColumns": null,
        "yColumns": null
       },
       "removedWidgets": [],
       "schema": [
        {
         "metadata": "{}",
         "name": "Territory_ID",
         "type": "\"integer\""
        },
        {
         "metadata": "{}",
         "name": "Name",
         "type": "\"string\""
        },
        {
         "metadata": "{}",
         "name": "Country_Region_Code",
         "type": "\"string\""
        },
        {
         "metadata": "{}",
         "name": "Group",
         "type": "\"string\""
        },
        {
         "metadata": "{}",
         "name": "Sales_YTD",
         "type": "\"decimal(19,4)\""
        },
        {
         "metadata": "{}",
         "name": "Sales_Last_Year",
         "type": "\"decimal(19,4)\""
        },
        {
         "metadata": "{}",
         "name": "Cost_YTD",
         "type": "\"decimal(19,4)\""
        },
        {
         "metadata": "{}",
         "name": "Cost_Last_Year",
         "type": "\"decimal(19,4)\""
        },
        {
         "metadata": "{}",
         "name": "rowguid",
         "type": "\"string\""
        },
        {
         "metadata": "{}",
         "name": "Modified_Date",
         "type": "\"string\""
        }
       ],
       "type": "table"
      }
     },
     "output_type": "display_data"
    }
   ],
   "source": [
    "display(df)"
   ]
  },
  {
   "cell_type": "code",
   "execution_count": 0,
   "metadata": {
    "application/vnd.databricks.v1+cell": {
     "cellMetadata": {},
     "inputWidgets": {},
     "nuid": "d3135e98-3c36-4ffa-997d-e5b5719b6ae3",
     "showTitle": false,
     "title": ""
    }
   },
   "outputs": [],
   "source": []
  }
 ],
 "metadata": {
  "application/vnd.databricks.v1+notebook": {
   "dashboards": [],
   "language": "python",
   "notebookMetadata": {
    "pythonIndentUnit": 4
   },
   "notebookName": "Silver to Gold",
   "widgets": {}
  }
 },
 "nbformat": 4,
 "nbformat_minor": 0
}
