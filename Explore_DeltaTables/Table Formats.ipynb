{
 "cells": [
  {
   "cell_type": "code",
   "execution_count": 0,
   "metadata": {
    "application/vnd.databricks.v1+cell": {
     "cellMetadata": {
      "byteLimit": 2048000,
      "rowLimit": 10000
     },
     "inputWidgets": {},
     "nuid": "dfcdb639-b832-4494-a1bc-dbe6567a307b",
     "showTitle": false,
     "tableResultSettingsMap": {},
     "title": ""
    }
   },
   "outputs": [],
   "source": [
    "from delta.tables import *"
   ]
  },
  {
   "cell_type": "code",
   "execution_count": 0,
   "metadata": {
    "application/vnd.databricks.v1+cell": {
     "cellMetadata": {
      "byteLimit": 2048000,
      "rowLimit": 10000
     },
     "inputWidgets": {},
     "nuid": "ea898e2c-2eef-4907-9a51-b590167bad2d",
     "showTitle": false,
     "tableResultSettingsMap": {},
     "title": ""
    }
   },
   "outputs": [],
   "source": [
    "df = spark.read.csv(\"dbfs:/FileStore/emp_relations.csv\", header=True)"
   ]
  },
  {
   "cell_type": "markdown",
   "metadata": {
    "application/vnd.databricks.v1+cell": {
     "cellMetadata": {},
     "inputWidgets": {},
     "nuid": "7a189e03-99c7-4dc9-8eee-b505c4ed5251",
     "showTitle": false,
     "tableResultSettingsMap": {},
     "title": ""
    }
   },
   "source": [
    "## Default save format in databricks\n",
    "--> delta"
   ]
  },
  {
   "cell_type": "code",
   "execution_count": 0,
   "metadata": {
    "application/vnd.databricks.v1+cell": {
     "cellMetadata": {
      "byteLimit": 2048000,
      "implicitDf": true,
      "rowLimit": 10000
     },
     "inputWidgets": {},
     "nuid": "34881441-29af-49a8-bba0-c38efc8058cb",
     "showTitle": false,
     "tableResultSettingsMap": {},
     "title": ""
    }
   },
   "outputs": [
    {
     "output_type": "stream",
     "name": "stdout",
     "output_type": "stream",
     "text": [
      "+--------+---------+-------+\n|col_name|data_type|comment|\n+--------+---------+-------+\n|Type    |MANAGED  |       |\n|Provider|delta    |       |\n+--------+---------+-------+\n\n"
     ]
    }
   ],
   "source": [
    "df.write.saveAsTable(\"Emp_Relations_A\")\n",
    "spark.sql(\"DESCRIBE FORMATTED Emp_Relations_A\").where(\"col_name in ('Provider', 'Type')\").show(truncate=False)"
   ]
  },
  {
   "cell_type": "markdown",
   "metadata": {
    "application/vnd.databricks.v1+cell": {
     "cellMetadata": {},
     "inputWidgets": {},
     "nuid": "ed7410ab-561c-4c76-a780-4b727fb0890a",
     "showTitle": false,
     "tableResultSettingsMap": {},
     "title": ""
    }
   },
   "source": [
    "## Specify a format when writing"
   ]
  },
  {
   "cell_type": "markdown",
   "metadata": {
    "application/vnd.databricks.v1+cell": {
     "cellMetadata": {},
     "inputWidgets": {},
     "nuid": "7f41971d-39b2-4991-8f73-e4ed7fead2ad",
     "showTitle": false,
     "tableResultSettingsMap": {},
     "title": ""
    }
   },
   "source": [
    "--> PARQUET"
   ]
  },
  {
   "cell_type": "code",
   "execution_count": 0,
   "metadata": {
    "application/vnd.databricks.v1+cell": {
     "cellMetadata": {
      "byteLimit": 2048000,
      "rowLimit": 10000
     },
     "inputWidgets": {},
     "nuid": "6a7e2686-8769-4e9b-adcd-c27404f08207",
     "showTitle": false,
     "tableResultSettingsMap": {},
     "title": ""
    }
   },
   "outputs": [
    {
     "output_type": "stream",
     "name": "stdout",
     "output_type": "stream",
     "text": [
      "+--------+---------+-------+\n|col_name|data_type|comment|\n+--------+---------+-------+\n|Type    |MANAGED  |       |\n|Provider|parquet  |       |\n+--------+---------+-------+\n\n"
     ]
    }
   ],
   "source": [
    "df.write.format('parquet').saveAsTable(\"Emp_Relations_parq\")\n",
    "spark.sql(\"DESCRIBE FORMATTED Emp_Relations_parq\").where(\"col_name in ('Provider', 'Type')\").show(truncate=False)"
   ]
  },
  {
   "cell_type": "markdown",
   "metadata": {
    "application/vnd.databricks.v1+cell": {
     "cellMetadata": {},
     "inputWidgets": {},
     "nuid": "46948055-318c-4f89-89ad-7e6805cc909c",
     "showTitle": false,
     "tableResultSettingsMap": {},
     "title": ""
    }
   },
   "source": [
    "--> ORC - Optimized Row Columnar"
   ]
  },
  {
   "cell_type": "code",
   "execution_count": 0,
   "metadata": {
    "application/vnd.databricks.v1+cell": {
     "cellMetadata": {
      "byteLimit": 2048000,
      "rowLimit": 10000
     },
     "inputWidgets": {},
     "nuid": "f0c89938-dcf7-4e04-afcc-88790bf240b6",
     "showTitle": false,
     "tableResultSettingsMap": {},
     "title": ""
    }
   },
   "outputs": [
    {
     "output_type": "stream",
     "name": "stdout",
     "output_type": "stream",
     "text": [
      "+--------+---------+-------+\n|col_name|data_type|comment|\n+--------+---------+-------+\n|Type    |MANAGED  |       |\n|Provider|orc      |       |\n+--------+---------+-------+\n\n"
     ]
    }
   ],
   "source": [
    "df.write.format('orc').saveAsTable(\"Emp_Relations_orc\")\n",
    "spark.sql(\"DESCRIBE FORMATTED Emp_Relations_ORC\").where(\"col_name in ('Provider', 'Type')\").show(truncate=False)"
   ]
  }
 ],
 "metadata": {
  "application/vnd.databricks.v1+notebook": {
   "computePreferences": null,
   "dashboards": [],
   "environmentMetadata": {
    "base_environment": "",
    "environment_version": "1"
   },
   "inputWidgetPreferences": null,
   "language": "python",
   "notebookMetadata": {
    "mostRecentlyExecutedCommandWithImplicitDF": {
     "commandId": 2959953206238094,
     "dataframes": [
      "_sqldf"
     ]
    },
    "pythonIndentUnit": 4
   },
   "notebookName": "Table Formats",
   "widgets": {}
  }
 },
 "nbformat": 4,
 "nbformat_minor": 0
}