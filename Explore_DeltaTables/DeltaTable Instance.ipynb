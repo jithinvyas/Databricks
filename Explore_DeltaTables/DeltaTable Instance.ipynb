{
 "cells": [
  {
   "cell_type": "markdown",
   "metadata": {
    "application/vnd.databricks.v1+cell": {
     "cellMetadata": {},
     "inputWidgets": {},
     "nuid": "1b28a620-c52a-4a33-9d38-1febb1cf6d2d",
     "showTitle": false,
     "tableResultSettingsMap": {},
     "title": ""
    }
   },
   "source": [
    "## Make Data"
   ]
  },
  {
   "cell_type": "code",
   "execution_count": 0,
   "metadata": {
    "application/vnd.databricks.v1+cell": {
     "cellMetadata": {
      "byteLimit": 2048000,
      "rowLimit": 10000
     },
     "inputWidgets": {},
     "nuid": "731410af-abee-434c-86fc-37c01382ea54",
     "showTitle": false,
     "tableResultSettingsMap": {},
     "title": ""
    }
   },
   "outputs": [
    {
     "output_type": "stream",
     "name": "stdout",
     "output_type": "stream",
     "text": [
      "+-----+-------+-----+\n|EmpID|EmpName|MgrID|\n+-----+-------+-----+\n|  101|  Alice| null|\n|  102|    Bob| null|\n|  103|Charlie|  101|\n|  104|  David|  102|\n|  105|    Eve|  101|\n+-----+-------+-----+\n\n"
     ]
    }
   ],
   "source": [
    "data = [\n",
    "    (101, \"Alice\", None),\n",
    "    (102, \"Bob\", None),\n",
    "    (103, \"Charlie\", 101),\n",
    "    (104, \"David\", 102),\n",
    "    (105, \"Eve\", 101)\n",
    "]\n",
    "df = spark.createDataFrame(data, schema=['EmpID','EmpName','MgrID'])\n",
    "df.show()"
   ]
  },
  {
   "cell_type": "code",
   "execution_count": 0,
   "metadata": {
    "application/vnd.databricks.v1+cell": {
     "cellMetadata": {
      "byteLimit": 2048000,
      "rowLimit": 10000
     },
     "inputWidgets": {},
     "nuid": "b49bf562-ef48-44b9-aa3c-0f20b06026c0",
     "showTitle": false,
     "tableResultSettingsMap": {},
     "title": ""
    }
   },
   "outputs": [],
   "source": [
    "df.write.saveAsTable('EmpData')"
   ]
  },
  {
   "cell_type": "markdown",
   "metadata": {
    "application/vnd.databricks.v1+cell": {
     "cellMetadata": {},
     "inputWidgets": {},
     "nuid": "b75f647a-fcac-46dd-82de-d3c6e8c6d402",
     "showTitle": false,
     "tableResultSettingsMap": {},
     "title": ""
    }
   },
   "source": [
    "## table instance"
   ]
  },
  {
   "cell_type": "code",
   "execution_count": 0,
   "metadata": {
    "application/vnd.databricks.v1+cell": {
     "cellMetadata": {
      "byteLimit": 2048000,
      "rowLimit": 10000
     },
     "inputWidgets": {},
     "nuid": "ad3cb10b-3beb-4fee-a95b-6577f5d754be",
     "showTitle": false,
     "tableResultSettingsMap": {},
     "title": ""
    }
   },
   "outputs": [],
   "source": [
    "from delta.tables import *"
   ]
  },
  {
   "cell_type": "code",
   "execution_count": 0,
   "metadata": {
    "application/vnd.databricks.v1+cell": {
     "cellMetadata": {
      "byteLimit": 2048000,
      "rowLimit": 10000
     },
     "inputWidgets": {},
     "nuid": "a7a1a7b0-47d0-4f22-9e24-2d944997f6cd",
     "showTitle": false,
     "tableResultSettingsMap": {},
     "title": ""
    }
   },
   "outputs": [
    {
     "output_type": "stream",
     "name": "stdout",
     "output_type": "stream",
     "text": [
      "+-----+-------+-----+\n|EmpID|EmpName|MgrID|\n+-----+-------+-----+\n|  103|Charlie|  101|\n|  104|  David|  102|\n|  105|    Eve|  101|\n|  101|  Alice| null|\n|  102|    Bob| null|\n+-----+-------+-----+\n\n"
     ]
    }
   ],
   "source": [
    "tbl_inst = DeltaTable.forName(spark, 'EmpData')\n",
    "tbl_inst.toDF().show()"
   ]
  },
  {
   "cell_type": "markdown",
   "metadata": {
    "application/vnd.databricks.v1+cell": {
     "cellMetadata": {},
     "inputWidgets": {},
     "nuid": "72dab389-c307-4dee-ab15-fcbca2b26a78",
     "showTitle": false,
     "tableResultSettingsMap": {},
     "title": ""
    }
   },
   "source": [
    "## Update DF(instance) and check results in table and DF\n",
    "--> Note:- Update was applied on the instance, not on dataframe"
   ]
  },
  {
   "cell_type": "code",
   "execution_count": 0,
   "metadata": {
    "application/vnd.databricks.v1+cell": {
     "cellMetadata": {
      "byteLimit": 2048000,
      "rowLimit": 10000
     },
     "inputWidgets": {},
     "nuid": "2233d9c1-9542-4d86-85ff-784abaa036cb",
     "showTitle": false,
     "tableResultSettingsMap": {},
     "title": ""
    }
   },
   "outputs": [
    {
     "output_type": "stream",
     "name": "stdout",
     "output_type": "stream",
     "text": [
      "+-----+-------+-----+\n|EmpID|EmpName|MgrID|\n+-----+-------+-----+\n|  105|    Eve|  103|\n+-----+-------+-----+\n\n\n+-----+-------+-----+\n|EmpID|EmpName|MgrID|\n+-----+-------+-----+\n|  105|    Eve|  103|\n+-----+-------+-----+\n\n"
     ]
    }
   ],
   "source": [
    "tbl_inst.update(\n",
    "    condition = \"EmpName = 'Eve' \",\n",
    "    set = {\"MgrID\": \"103\"}\n",
    ")\n",
    "\n",
    "tbl_inst.toDF().where(\"EmpName = 'Eve'\").show()   ## delta table\n",
    "print()\n",
    "spark.sql(\"select * from empData where EmpName = 'Eve'\").show()  ## table instance"
   ]
  },
  {
   "cell_type": "markdown",
   "metadata": {
    "application/vnd.databricks.v1+cell": {
     "cellMetadata": {},
     "inputWidgets": {},
     "nuid": "d8c6c11a-e0df-44b2-8aeb-bc258e1a2552",
     "showTitle": false,
     "tableResultSettingsMap": {},
     "title": ""
    }
   },
   "source": [
    "## update table and check results in DF(instance) and table"
   ]
  },
  {
   "cell_type": "code",
   "execution_count": 0,
   "metadata": {
    "application/vnd.databricks.v1+cell": {
     "cellMetadata": {
      "byteLimit": 2048000,
      "rowLimit": 10000
     },
     "inputWidgets": {},
     "nuid": "bbc5276c-3ab6-4524-96c8-34d91fb2ffa5",
     "showTitle": false,
     "tableResultSettingsMap": {},
     "title": ""
    }
   },
   "outputs": [
    {
     "output_type": "stream",
     "name": "stdout",
     "output_type": "stream",
     "text": [
      "+-----+-------+-----+\n|EmpID|EmpName|MgrID|\n+-----+-------+-----+\n|  110|    Eve|  103|\n+-----+-------+-----+\n\n\n+-----+-------+-----+\n|EmpID|EmpName|MgrID|\n+-----+-------+-----+\n|  110|    Eve|  103|\n+-----+-------+-----+\n\n"
     ]
    }
   ],
   "source": [
    "spark.sql(\"update empData set EmpID=110 where EmpName='Eve' \")\n",
    "\n",
    "tbl_inst.toDF().where(\"EmpName = 'Eve'\").show()   ## delta table\n",
    "print()\n",
    "spark.sql(\"select * from empData where EmpName = 'Eve'\").show()  ## table instance"
   ]
  },
  {
   "cell_type": "markdown",
   "metadata": {
    "application/vnd.databricks.v1+cell": {
     "cellMetadata": {},
     "inputWidgets": {},
     "nuid": "993e6516-fd0e-4194-997f-531b17fb0a67",
     "showTitle": false,
     "tableResultSettingsMap": {},
     "title": ""
    }
   },
   "source": [
    "## Check the history"
   ]
  },
  {
   "cell_type": "code",
   "execution_count": 0,
   "metadata": {
    "application/vnd.databricks.v1+cell": {
     "cellMetadata": {
      "byteLimit": 2048000,
      "implicitDf": true,
      "rowLimit": 10000
     },
     "inputWidgets": {},
     "nuid": "f2a7e124-a26b-46ec-9200-f1efe7e2f662",
     "showTitle": false,
     "tableResultSettingsMap": {},
     "title": ""
    }
   },
   "outputs": [
    {
     "output_type": "display_data",
     "data": {
      "text/html": [
       "<style scoped>\n",
       "  .table-result-container {\n",
       "    max-height: 300px;\n",
       "    overflow: auto;\n",
       "  }\n",
       "  table, th, td {\n",
       "    border: 1px solid black;\n",
       "    border-collapse: collapse;\n",
       "  }\n",
       "  th, td {\n",
       "    padding: 5px;\n",
       "  }\n",
       "  th {\n",
       "    text-align: left;\n",
       "  }\n",
       "</style><div class='table-result-container'><table class='table-result'><thead style='background-color: white'><tr><th>version</th><th>timestamp</th><th>userId</th><th>userName</th><th>operation</th><th>operationParameters</th><th>job</th><th>notebook</th><th>clusterId</th><th>readVersion</th><th>isolationLevel</th><th>isBlindAppend</th><th>operationMetrics</th><th>userMetadata</th><th>engineInfo</th></tr></thead><tbody><tr><td>5</td><td>2025-04-09T07:23:43.000+0000</td><td>2187969817410935</td><td>jithinvyas2001@gmail.com</td><td>UPDATE</td><td>Map(predicate -> [\"(EmpName#6100 = Eve)\"])</td><td>null</td><td>List(2959953206238096)</td><td>0409-055955-xy4nwb9w</td><td>4</td><td>WriteSerializable</td><td>false</td><td>Map(numRemovedFiles -> 1, numRemovedBytes -> 1097, numCopiedRows -> 0, numDeletionVectorsAdded -> 0, numDeletionVectorsRemoved -> 0, numAddedChangeFiles -> 0, executionTimeMs -> 1676, scanTimeMs -> 804, numAddedFiles -> 1, numUpdatedRows -> 1, numAddedBytes -> 1097, rewriteTimeMs -> 871)</td><td>null</td><td>Databricks-Runtime/12.2.x-scala2.12</td></tr><tr><td>4</td><td>2025-04-09T07:15:02.000+0000</td><td>2187969817410935</td><td>jithinvyas2001@gmail.com</td><td>UPDATE</td><td>Map(predicate -> [\"(EmpName#3413 = Eve)\"])</td><td>null</td><td>List(2959953206238096)</td><td>0409-055955-xy4nwb9w</td><td>3</td><td>WriteSerializable</td><td>false</td><td>Map(numRemovedFiles -> 1, numRemovedBytes -> 1097, numCopiedRows -> 0, numDeletionVectorsAdded -> 0, numDeletionVectorsRemoved -> 0, numAddedChangeFiles -> 0, executionTimeMs -> 1450, scanTimeMs -> 583, numAddedFiles -> 1, numUpdatedRows -> 1, numAddedBytes -> 1097, rewriteTimeMs -> 867)</td><td>null</td><td>Databricks-Runtime/12.2.x-scala2.12</td></tr><tr><td>3</td><td>2025-04-09T07:13:14.000+0000</td><td>2187969817410935</td><td>jithinvyas2001@gmail.com</td><td>UPDATE</td><td>Map(predicate -> [\"(EmpName#3413 = Eve)\"])</td><td>null</td><td>List(2959953206238096)</td><td>0409-055955-xy4nwb9w</td><td>2</td><td>WriteSerializable</td><td>false</td><td>Map(numRemovedFiles -> 1, numRemovedBytes -> 1097, numCopiedRows -> 0, numDeletionVectorsAdded -> 0, numDeletionVectorsRemoved -> 0, numAddedChangeFiles -> 0, executionTimeMs -> 2340, scanTimeMs -> 1478, numAddedFiles -> 1, numUpdatedRows -> 1, numAddedBytes -> 1097, rewriteTimeMs -> 862)</td><td>null</td><td>Databricks-Runtime/12.2.x-scala2.12</td></tr><tr><td>2</td><td>2025-04-09T07:11:45.000+0000</td><td>2187969817410935</td><td>jithinvyas2001@gmail.com</td><td>UPDATE</td><td>Map(predicate -> [\"(EmpName#3413 = Eve)\"])</td><td>null</td><td>List(2959953206238096)</td><td>0409-055955-xy4nwb9w</td><td>1</td><td>WriteSerializable</td><td>false</td><td>Map(numRemovedFiles -> 1, numRemovedBytes -> 1097, numCopiedRows -> 0, numDeletionVectorsAdded -> 0, numDeletionVectorsRemoved -> 0, numAddedChangeFiles -> 0, executionTimeMs -> 2364, scanTimeMs -> 1440, numAddedFiles -> 1, numUpdatedRows -> 1, numAddedBytes -> 1097, rewriteTimeMs -> 924)</td><td>null</td><td>Databricks-Runtime/12.2.x-scala2.12</td></tr><tr><td>1</td><td>2025-04-09T07:11:28.000+0000</td><td>2187969817410935</td><td>jithinvyas2001@gmail.com</td><td>UPDATE</td><td>Map(predicate -> [\"(EmpName#3413 = Eve)\"])</td><td>null</td><td>List(2959953206238096)</td><td>0409-055955-xy4nwb9w</td><td>0</td><td>WriteSerializable</td><td>false</td><td>Map(numRemovedFiles -> 1, numRemovedBytes -> 1097, numCopiedRows -> 0, numDeletionVectorsAdded -> 0, numDeletionVectorsRemoved -> 0, numAddedChangeFiles -> 0, executionTimeMs -> 3307, scanTimeMs -> 1884, numAddedFiles -> 1, numUpdatedRows -> 1, numAddedBytes -> 1097, rewriteTimeMs -> 1349)</td><td>null</td><td>Databricks-Runtime/12.2.x-scala2.12</td></tr><tr><td>0</td><td>2025-04-09T07:03:43.000+0000</td><td>2187969817410935</td><td>jithinvyas2001@gmail.com</td><td>CREATE TABLE AS SELECT</td><td>Map(isManaged -> true, description -> null, partitionBy -> [], properties -> {})</td><td>null</td><td>List(2959953206238096)</td><td>0409-055955-xy4nwb9w</td><td>null</td><td>WriteSerializable</td><td>true</td><td>Map(numFiles -> 5, numOutputRows -> 5, numOutputBytes -> 5413)</td><td>null</td><td>Databricks-Runtime/12.2.x-scala2.12</td></tr></tbody></table></div>"
      ]
     },
     "metadata": {
      "application/vnd.databricks.v1+output": {
       "addedWidgets": {},
       "aggData": [],
       "aggError": "",
       "aggOverflow": false,
       "aggSchema": [],
       "aggSeriesLimitReached": false,
       "aggType": "",
       "arguments": {},
       "columnCustomDisplayInfos": {},
       "data": [
        [
         5,
         "2025-04-09T07:23:43.000+0000",
         "2187969817410935",
         "jithinvyas2001@gmail.com",
         "UPDATE",
         {
          "predicate": "[\"(EmpName#6100 = Eve)\"]"
         },
         null,
         [
          "2959953206238096"
         ],
         "0409-055955-xy4nwb9w",
         4,
         "WriteSerializable",
         false,
         {
          "executionTimeMs": "1676",
          "numAddedBytes": "1097",
          "numAddedChangeFiles": "0",
          "numAddedFiles": "1",
          "numCopiedRows": "0",
          "numDeletionVectorsAdded": "0",
          "numDeletionVectorsRemoved": "0",
          "numRemovedBytes": "1097",
          "numRemovedFiles": "1",
          "numUpdatedRows": "1",
          "rewriteTimeMs": "871",
          "scanTimeMs": "804"
         },
         null,
         "Databricks-Runtime/12.2.x-scala2.12"
        ],
        [
         4,
         "2025-04-09T07:15:02.000+0000",
         "2187969817410935",
         "jithinvyas2001@gmail.com",
         "UPDATE",
         {
          "predicate": "[\"(EmpName#3413 = Eve)\"]"
         },
         null,
         [
          "2959953206238096"
         ],
         "0409-055955-xy4nwb9w",
         3,
         "WriteSerializable",
         false,
         {
          "executionTimeMs": "1450",
          "numAddedBytes": "1097",
          "numAddedChangeFiles": "0",
          "numAddedFiles": "1",
          "numCopiedRows": "0",
          "numDeletionVectorsAdded": "0",
          "numDeletionVectorsRemoved": "0",
          "numRemovedBytes": "1097",
          "numRemovedFiles": "1",
          "numUpdatedRows": "1",
          "rewriteTimeMs": "867",
          "scanTimeMs": "583"
         },
         null,
         "Databricks-Runtime/12.2.x-scala2.12"
        ],
        [
         3,
         "2025-04-09T07:13:14.000+0000",
         "2187969817410935",
         "jithinvyas2001@gmail.com",
         "UPDATE",
         {
          "predicate": "[\"(EmpName#3413 = Eve)\"]"
         },
         null,
         [
          "2959953206238096"
         ],
         "0409-055955-xy4nwb9w",
         2,
         "WriteSerializable",
         false,
         {
          "executionTimeMs": "2340",
          "numAddedBytes": "1097",
          "numAddedChangeFiles": "0",
          "numAddedFiles": "1",
          "numCopiedRows": "0",
          "numDeletionVectorsAdded": "0",
          "numDeletionVectorsRemoved": "0",
          "numRemovedBytes": "1097",
          "numRemovedFiles": "1",
          "numUpdatedRows": "1",
          "rewriteTimeMs": "862",
          "scanTimeMs": "1478"
         },
         null,
         "Databricks-Runtime/12.2.x-scala2.12"
        ],
        [
         2,
         "2025-04-09T07:11:45.000+0000",
         "2187969817410935",
         "jithinvyas2001@gmail.com",
         "UPDATE",
         {
          "predicate": "[\"(EmpName#3413 = Eve)\"]"
         },
         null,
         [
          "2959953206238096"
         ],
         "0409-055955-xy4nwb9w",
         1,
         "WriteSerializable",
         false,
         {
          "executionTimeMs": "2364",
          "numAddedBytes": "1097",
          "numAddedChangeFiles": "0",
          "numAddedFiles": "1",
          "numCopiedRows": "0",
          "numDeletionVectorsAdded": "0",
          "numDeletionVectorsRemoved": "0",
          "numRemovedBytes": "1097",
          "numRemovedFiles": "1",
          "numUpdatedRows": "1",
          "rewriteTimeMs": "924",
          "scanTimeMs": "1440"
         },
         null,
         "Databricks-Runtime/12.2.x-scala2.12"
        ],
        [
         1,
         "2025-04-09T07:11:28.000+0000",
         "2187969817410935",
         "jithinvyas2001@gmail.com",
         "UPDATE",
         {
          "predicate": "[\"(EmpName#3413 = Eve)\"]"
         },
         null,
         [
          "2959953206238096"
         ],
         "0409-055955-xy4nwb9w",
         0,
         "WriteSerializable",
         false,
         {
          "executionTimeMs": "3307",
          "numAddedBytes": "1097",
          "numAddedChangeFiles": "0",
          "numAddedFiles": "1",
          "numCopiedRows": "0",
          "numDeletionVectorsAdded": "0",
          "numDeletionVectorsRemoved": "0",
          "numRemovedBytes": "1097",
          "numRemovedFiles": "1",
          "numUpdatedRows": "1",
          "rewriteTimeMs": "1349",
          "scanTimeMs": "1884"
         },
         null,
         "Databricks-Runtime/12.2.x-scala2.12"
        ],
        [
         0,
         "2025-04-09T07:03:43.000+0000",
         "2187969817410935",
         "jithinvyas2001@gmail.com",
         "CREATE TABLE AS SELECT",
         {
          "description": null,
          "isManaged": "true",
          "partitionBy": "[]",
          "properties": "{}"
         },
         null,
         [
          "2959953206238096"
         ],
         "0409-055955-xy4nwb9w",
         null,
         "WriteSerializable",
         true,
         {
          "numFiles": "5",
          "numOutputBytes": "5413",
          "numOutputRows": "5"
         },
         null,
         "Databricks-Runtime/12.2.x-scala2.12"
        ]
       ],
       "datasetInfos": [],
       "dbfsResultPath": null,
       "isJsonSchema": true,
       "metadata": {},
       "overflow": false,
       "plotOptions": {
        "customPlotOptions": {},
        "displayType": "table",
        "pivotAggregation": null,
        "pivotColumns": null,
        "xColumns": null,
        "yColumns": null
       },
       "removedWidgets": [],
       "schema": [
        {
         "metadata": "{}",
         "name": "version",
         "type": "\"long\""
        },
        {
         "metadata": "{}",
         "name": "timestamp",
         "type": "\"timestamp\""
        },
        {
         "metadata": "{}",
         "name": "userId",
         "type": "\"string\""
        },
        {
         "metadata": "{}",
         "name": "userName",
         "type": "\"string\""
        },
        {
         "metadata": "{}",
         "name": "operation",
         "type": "\"string\""
        },
        {
         "metadata": "{}",
         "name": "operationParameters",
         "type": "{\"type\":\"map\",\"keyType\":\"string\",\"valueType\":\"string\",\"valueContainsNull\":true}"
        },
        {
         "metadata": "{}",
         "name": "job",
         "type": "{\"type\":\"struct\",\"fields\":[{\"name\":\"jobId\",\"type\":\"string\",\"nullable\":true,\"metadata\":{}},{\"name\":\"jobName\",\"type\":\"string\",\"nullable\":true,\"metadata\":{}},{\"name\":\"jobRunId\",\"type\":\"string\",\"nullable\":true,\"metadata\":{}},{\"name\":\"runId\",\"type\":\"string\",\"nullable\":true,\"metadata\":{}},{\"name\":\"jobOwnerId\",\"type\":\"string\",\"nullable\":true,\"metadata\":{}},{\"name\":\"triggerType\",\"type\":\"string\",\"nullable\":true,\"metadata\":{}}]}"
        },
        {
         "metadata": "{}",
         "name": "notebook",
         "type": "{\"type\":\"struct\",\"fields\":[{\"name\":\"notebookId\",\"type\":\"string\",\"nullable\":true,\"metadata\":{}}]}"
        },
        {
         "metadata": "{}",
         "name": "clusterId",
         "type": "\"string\""
        },
        {
         "metadata": "{}",
         "name": "readVersion",
         "type": "\"long\""
        },
        {
         "metadata": "{}",
         "name": "isolationLevel",
         "type": "\"string\""
        },
        {
         "metadata": "{}",
         "name": "isBlindAppend",
         "type": "\"boolean\""
        },
        {
         "metadata": "{}",
         "name": "operationMetrics",
         "type": "{\"type\":\"map\",\"keyType\":\"string\",\"valueType\":\"string\",\"valueContainsNull\":true}"
        },
        {
         "metadata": "{}",
         "name": "userMetadata",
         "type": "\"string\""
        },
        {
         "metadata": "{}",
         "name": "engineInfo",
         "type": "\"string\""
        }
       ],
       "type": "table"
      }
     },
     "output_type": "display_data"
    }
   ],
   "source": [
    "%sql\n",
    "describe history empData"
   ]
  },
  {
   "cell_type": "markdown",
   "metadata": {
    "application/vnd.databricks.v1+cell": {
     "cellMetadata": {},
     "inputWidgets": {},
     "nuid": "a8ed6be9-9076-4821-9ffd-4a7cfd457905",
     "showTitle": false,
     "tableResultSettingsMap": {},
     "title": ""
    }
   },
   "source": [
    "### Know about _sqldf\n",
    "---> A Temporary dataframe object"
   ]
  },
  {
   "cell_type": "code",
   "execution_count": 0,
   "metadata": {
    "application/vnd.databricks.v1+cell": {
     "cellMetadata": {
      "byteLimit": 2048000,
      "rowLimit": 10000
     },
     "inputWidgets": {},
     "nuid": "830db9c4-dbbf-4149-b6d6-f5517d8ce638",
     "showTitle": false,
     "tableResultSettingsMap": {},
     "title": ""
    }
   },
   "outputs": [
    {
     "output_type": "display_data",
     "data": {
      "text/html": [
       "<div>\n",
       "<style scoped>\n",
       "    .dataframe tbody tr th:only-of-type {\n",
       "        vertical-align: middle;\n",
       "    }\n",
       "\n",
       "    .dataframe tbody tr th {\n",
       "        vertical-align: top;\n",
       "    }\n",
       "\n",
       "    .dataframe thead th {\n",
       "        text-align: right;\n",
       "    }\n",
       "</style>\n",
       "<table border=\"1\" class=\"dataframe\">\n",
       "  <thead>\n",
       "    <tr style=\"text-align: right;\">\n",
       "      <th></th>\n",
       "      <th>version</th>\n",
       "      <th>operation</th>\n",
       "      <th>timestamp</th>\n",
       "    </tr>\n",
       "  </thead>\n",
       "  <tbody>\n",
       "    <tr>\n",
       "      <th>0</th>\n",
       "      <td>5</td>\n",
       "      <td>UPDATE</td>\n",
       "      <td>2025-04-09 07:23:43</td>\n",
       "    </tr>\n",
       "    <tr>\n",
       "      <th>1</th>\n",
       "      <td>4</td>\n",
       "      <td>UPDATE</td>\n",
       "      <td>2025-04-09 07:15:02</td>\n",
       "    </tr>\n",
       "    <tr>\n",
       "      <th>2</th>\n",
       "      <td>3</td>\n",
       "      <td>UPDATE</td>\n",
       "      <td>2025-04-09 07:13:14</td>\n",
       "    </tr>\n",
       "    <tr>\n",
       "      <th>3</th>\n",
       "      <td>2</td>\n",
       "      <td>UPDATE</td>\n",
       "      <td>2025-04-09 07:11:45</td>\n",
       "    </tr>\n",
       "    <tr>\n",
       "      <th>4</th>\n",
       "      <td>1</td>\n",
       "      <td>UPDATE</td>\n",
       "      <td>2025-04-09 07:11:28</td>\n",
       "    </tr>\n",
       "    <tr>\n",
       "      <th>5</th>\n",
       "      <td>0</td>\n",
       "      <td>CREATE TABLE AS SELECT</td>\n",
       "      <td>2025-04-09 07:03:43</td>\n",
       "    </tr>\n",
       "  </tbody>\n",
       "</table>\n",
       "</div>"
      ]
     },
     "metadata": {
      "application/vnd.databricks.v1+output": {
       "addedWidgets": {},
       "arguments": {},
       "data": "<div>\n<style scoped>\n    .dataframe tbody tr th:only-of-type {\n        vertical-align: middle;\n    }\n\n    .dataframe tbody tr th {\n        vertical-align: top;\n    }\n\n    .dataframe thead th {\n        text-align: right;\n    }\n</style>\n<table border=\"1\" class=\"dataframe\">\n  <thead>\n    <tr style=\"text-align: right;\">\n      <th></th>\n      <th>version</th>\n      <th>operation</th>\n      <th>timestamp</th>\n    </tr>\n  </thead>\n  <tbody>\n    <tr>\n      <th>0</th>\n      <td>5</td>\n      <td>UPDATE</td>\n      <td>2025-04-09 07:23:43</td>\n    </tr>\n    <tr>\n      <th>1</th>\n      <td>4</td>\n      <td>UPDATE</td>\n      <td>2025-04-09 07:15:02</td>\n    </tr>\n    <tr>\n      <th>2</th>\n      <td>3</td>\n      <td>UPDATE</td>\n      <td>2025-04-09 07:13:14</td>\n    </tr>\n    <tr>\n      <th>3</th>\n      <td>2</td>\n      <td>UPDATE</td>\n      <td>2025-04-09 07:11:45</td>\n    </tr>\n    <tr>\n      <th>4</th>\n      <td>1</td>\n      <td>UPDATE</td>\n      <td>2025-04-09 07:11:28</td>\n    </tr>\n    <tr>\n      <th>5</th>\n      <td>0</td>\n      <td>CREATE TABLE AS SELECT</td>\n      <td>2025-04-09 07:03:43</td>\n    </tr>\n  </tbody>\n</table>\n</div>",
       "datasetInfos": [],
       "metadata": {},
       "removedWidgets": [],
       "textData": null,
       "type": "htmlSandbox"
      }
     },
     "output_type": "display_data"
    }
   ],
   "source": [
    "temp_var = _sqldf.toPandas()\n",
    "temp_var[['version','operation','timestamp']]"
   ]
  },
  {
   "cell_type": "code",
   "execution_count": 0,
   "metadata": {
    "application/vnd.databricks.v1+cell": {
     "cellMetadata": {},
     "inputWidgets": {},
     "nuid": "94b3a0cb-71c4-49a0-8eb8-0aec70ba9e9c",
     "showTitle": false,
     "tableResultSettingsMap": {},
     "title": ""
    }
   },
   "outputs": [],
   "source": []
  }
 ],
 "metadata": {
  "application/vnd.databricks.v1+notebook": {
   "computePreferences": null,
   "dashboards": [],
   "environmentMetadata": {
    "base_environment": "",
    "environment_version": "1"
   },
   "inputWidgetPreferences": null,
   "language": "python",
   "notebookMetadata": {
    "mostRecentlyExecutedCommandWithImplicitDF": {
     "commandId": 2959953206238111,
     "dataframes": [
      "_sqldf"
     ]
    },
    "pythonIndentUnit": 4
   },
   "notebookName": "DeltaTable Instance",
   "widgets": {}
  }
 },
 "nbformat": 4,
 "nbformat_minor": 0
}