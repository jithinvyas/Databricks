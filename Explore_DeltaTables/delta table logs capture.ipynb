{
 "cells": [
  {
   "cell_type": "code",
   "execution_count": 0,
   "metadata": {
    "application/vnd.databricks.v1+cell": {
     "cellMetadata": {
      "byteLimit": 2048000,
      "rowLimit": 10000
     },
     "inputWidgets": {},
     "nuid": "9b7efc92-be05-4519-96cc-b7391c2d0eba",
     "showTitle": false,
     "tableResultSettingsMap": {},
     "title": ""
    }
   },
   "outputs": [],
   "source": [
    "# dbutils.fs.mkdirs(\"dbfs:/tables\")\n",
    "# dbutils.fs.rm('dbfs:/tables',True)\n",
    "# dbutils.fs.rm('dbfs:/tables/delta', recurse=True)  #--more effective than drop table\n",
    "# spark.sql(\"drop table if exists deltatable1\")\n",
    "\n",
    "# dbutils.fs.mv(\"dbfs:/FileStore/mock_data_changed.parquet\", \"dbfs:/mockarrow/\")        # Moves your file from one folder to another\n",
    "# dbutils.fs.mv(\"dbfs:/datasets/MOCK_DATA.csv\", \"dbfs:/mockarrow/MOCK_DATA.csv\", True)  # To rename a folder (3 parameters*)"
   ]
  },
  {
   "cell_type": "markdown",
   "metadata": {
    "application/vnd.databricks.v1+cell": {
     "cellMetadata": {
      "byteLimit": 2048000,
      "rowLimit": 10000
     },
     "inputWidgets": {},
     "nuid": "c743a25c-53f0-4de4-bb1f-73603c829b62",
     "showTitle": false,
     "tableResultSettingsMap": {},
     "title": ""
    }
   },
   "source": [
    "## import libraries"
   ]
  },
  {
   "cell_type": "code",
   "execution_count": 0,
   "metadata": {
    "application/vnd.databricks.v1+cell": {
     "cellMetadata": {
      "byteLimit": 2048000,
      "rowLimit": 10000
     },
     "inputWidgets": {},
     "nuid": "070c2cdc-9b47-4322-996e-b552db8a2685",
     "showTitle": false,
     "tableResultSettingsMap": {},
     "title": ""
    }
   },
   "outputs": [],
   "source": [
    "from pyspark.sql.functions import *\n",
    "from pyspark.sql.types import *\n",
    "from pyspark.sql.window import Window\n",
    "from delta.tables import DeltaTable"
   ]
  },
  {
   "cell_type": "code",
   "execution_count": 0,
   "metadata": {
    "application/vnd.databricks.v1+cell": {
     "cellMetadata": {
      "byteLimit": 2048000,
      "rowLimit": 10000
     },
     "inputWidgets": {},
     "nuid": "8790a411-bc2e-4c93-82a2-a57c5a0b254b",
     "showTitle": false,
     "tableResultSettingsMap": {},
     "title": ""
    }
   },
   "outputs": [
    {
     "output_type": "display_data",
     "data": {
      "text/html": [
       "\n",
       "            <div>\n",
       "                <p><b>SparkSession - hive</b></p>\n",
       "                \n",
       "        <div>\n",
       "            <p><b>SparkContext</b></p>\n",
       "\n",
       "            <p><a href=\"/?o=83657679869138#setting/sparkui/0305-103149-hic0xa2v/driver-2874767539544985028\">Spark UI</a></p>\n",
       "\n",
       "            <dl>\n",
       "              <dt>Version</dt>\n",
       "                <dd><code>v3.3.2</code></dd>\n",
       "              <dt>Master</dt>\n",
       "                <dd><code>local[8]</code></dd>\n",
       "              <dt>AppName</dt>\n",
       "                <dd><code>Databricks Shell</code></dd>\n",
       "            </dl>\n",
       "        </div>\n",
       "        \n",
       "            </div>\n",
       "        "
      ]
     },
     "metadata": {
      "application/vnd.databricks.v1+output": {
       "addedWidgets": {},
       "arguments": {},
       "data": "\n            <div>\n                <p><b>SparkSession - hive</b></p>\n                \n        <div>\n            <p><b>SparkContext</b></p>\n\n            <p><a href=\"/?o=83657679869138#setting/sparkui/0305-103149-hic0xa2v/driver-2874767539544985028\">Spark UI</a></p>\n\n            <dl>\n              <dt>Version</dt>\n                <dd><code>v3.3.2</code></dd>\n              <dt>Master</dt>\n                <dd><code>local[8]</code></dd>\n              <dt>AppName</dt>\n                <dd><code>Databricks Shell</code></dd>\n            </dl>\n        </div>\n        \n            </div>\n        ",
       "datasetInfos": [],
       "metadata": {},
       "removedWidgets": [],
       "textData": null,
       "type": "htmlSandbox"
      }
     },
     "output_type": "display_data"
    }
   ],
   "source": [
    "spark"
   ]
  },
  {
   "cell_type": "markdown",
   "metadata": {
    "application/vnd.databricks.v1+cell": {
     "cellMetadata": {
      "byteLimit": 2048000,
      "rowLimit": 10000
     },
     "inputWidgets": {},
     "nuid": "95b6bd7f-db64-4f71-a551-d9b0dd65a292",
     "showTitle": false,
     "tableResultSettingsMap": {},
     "title": ""
    }
   },
   "source": [
    "## load parquet file"
   ]
  },
  {
   "cell_type": "code",
   "execution_count": 0,
   "metadata": {
    "application/vnd.databricks.v1+cell": {
     "cellMetadata": {
      "byteLimit": 2048000,
      "rowLimit": 10000
     },
     "inputWidgets": {},
     "nuid": "2347f6a7-1d3c-488f-8d46-ca212a8c416b",
     "showTitle": false,
     "tableResultSettingsMap": {},
     "title": ""
    }
   },
   "outputs": [
    {
     "output_type": "display_data",
     "data": {
      "text/html": [
       "<style scoped>\n",
       "  .table-result-container {\n",
       "    max-height: 300px;\n",
       "    overflow: auto;\n",
       "  }\n",
       "  table, th, td {\n",
       "    border: 1px solid black;\n",
       "    border-collapse: collapse;\n",
       "  }\n",
       "  th, td {\n",
       "    padding: 5px;\n",
       "  }\n",
       "  th {\n",
       "    text-align: left;\n",
       "  }\n",
       "</style><div class='table-result-container'><table class='table-result'><thead style='background-color: white'><tr><th>Emp ID</th><th>Emp Name</th><th>contract</th><th>gender</th><th>Country</th><th>DOJ</th><th>salary</th><th>Relocation</th><th>Gen_Repr</th></tr></thead><tbody><tr><td>1</td><td>Kara</td><td>+853 410 196 7317</td><td>Female</td><td>Macao</td><td>6/27/2021</td><td>$709117.57</td><td>true</td><td>2</td></tr><tr><td>2</td><td>Hillier</td><td>+7 511 334 2980</td><td>Male</td><td>Russia</td><td>8/20/2022</td><td>null</td><td>false</td><td>5</td></tr><tr><td>3</td><td>Sayre</td><td>+57 983 888 4293</td><td>Female</td><td>Colombia</td><td>11/30/2022</td><td>$78402.39</td><td>true</td><td>2</td></tr><tr><td>4</td><td>Roley</td><td>+95 337 327 0628</td><td>Male</td><td>Myanmar</td><td>12/26/2022</td><td>$641503.36</td><td>true</td><td>5</td></tr><tr><td>5</td><td>Merrielle</td><td>+62 862 968 5847</td><td>Female</td><td>Indonesia</td><td>3/24/2022</td><td>null</td><td>null</td><td>2</td></tr></tbody></table></div>"
      ]
     },
     "metadata": {
      "application/vnd.databricks.v1+output": {
       "addedWidgets": {},
       "aggData": [],
       "aggError": "",
       "aggOverflow": false,
       "aggSchema": [],
       "aggSeriesLimitReached": false,
       "aggType": "",
       "arguments": {},
       "columnCustomDisplayInfos": {},
       "data": [
        [
         1,
         "Kara",
         "+853 410 196 7317",
         "Female",
         "Macao",
         "6/27/2021",
         "$709117.57",
         true,
         2
        ],
        [
         2,
         "Hillier",
         "+7 511 334 2980",
         "Male",
         "Russia",
         "8/20/2022",
         null,
         false,
         5
        ],
        [
         3,
         "Sayre",
         "+57 983 888 4293",
         "Female",
         "Colombia",
         "11/30/2022",
         "$78402.39",
         true,
         2
        ],
        [
         4,
         "Roley",
         "+95 337 327 0628",
         "Male",
         "Myanmar",
         "12/26/2022",
         "$641503.36",
         true,
         5
        ],
        [
         5,
         "Merrielle",
         "+62 862 968 5847",
         "Female",
         "Indonesia",
         "3/24/2022",
         null,
         null,
         2
        ]
       ],
       "datasetInfos": [],
       "dbfsResultPath": null,
       "isJsonSchema": true,
       "metadata": {},
       "overflow": false,
       "plotOptions": {
        "customPlotOptions": {},
        "displayType": "table",
        "pivotAggregation": null,
        "pivotColumns": null,
        "xColumns": null,
        "yColumns": null
       },
       "removedWidgets": [],
       "schema": [
        {
         "metadata": "{}",
         "name": "Emp ID",
         "type": "\"long\""
        },
        {
         "metadata": "{}",
         "name": "Emp Name",
         "type": "\"string\""
        },
        {
         "metadata": "{}",
         "name": "contract",
         "type": "\"string\""
        },
        {
         "metadata": "{}",
         "name": "gender",
         "type": "\"string\""
        },
        {
         "metadata": "{}",
         "name": "Country",
         "type": "\"string\""
        },
        {
         "metadata": "{}",
         "name": "DOJ",
         "type": "\"string\""
        },
        {
         "metadata": "{}",
         "name": "salary",
         "type": "\"string\""
        },
        {
         "metadata": "{}",
         "name": "Relocation",
         "type": "\"boolean\""
        },
        {
         "metadata": "{}",
         "name": "Gen_Repr",
         "type": "\"integer\""
        }
       ],
       "type": "table"
      }
     },
     "output_type": "display_data"
    }
   ],
   "source": [
    "df_parqq = spark.read.parquet(\"dbfs:/mockarrow/mock_data_changed.parquet\")\n",
    "display(df_parqq.limit(5))"
   ]
  },
  {
   "cell_type": "code",
   "execution_count": 0,
   "metadata": {
    "application/vnd.databricks.v1+cell": {
     "cellMetadata": {
      "byteLimit": 2048000,
      "rowLimit": 10000
     },
     "inputWidgets": {},
     "nuid": "8e96e88c-5b6b-46c4-aef9-cc01514beb8e",
     "showTitle": false,
     "tableResultSettingsMap": {},
     "title": ""
    }
   },
   "outputs": [
    {
     "output_type": "display_data",
     "data": {
      "text/html": [
       "<style scoped>\n",
       "  .table-result-container {\n",
       "    max-height: 300px;\n",
       "    overflow: auto;\n",
       "  }\n",
       "  table, th, td {\n",
       "    border: 1px solid black;\n",
       "    border-collapse: collapse;\n",
       "  }\n",
       "  th, td {\n",
       "    padding: 5px;\n",
       "  }\n",
       "  th {\n",
       "    text-align: left;\n",
       "  }\n",
       "</style><div class='table-result-container'><table class='table-result'><thead style='background-color: white'><tr><th>Emp ID</th><th>Emp Name</th><th>contract</th><th>gender</th><th>Country</th><th>DOJ</th><th>salary</th><th>Relocation</th><th>Gen_Repr</th></tr></thead><tbody><tr><td>1</td><td>Kara</td><td>+853 410 196 7317</td><td>Female</td><td>Macao</td><td>2021-06-27</td><td>$709117.57</td><td>true</td><td>2</td></tr><tr><td>2</td><td>Hillier</td><td>+7 511 334 2980</td><td>Male</td><td>Russia</td><td>2022-08-20</td><td>null</td><td>false</td><td>5</td></tr><tr><td>3</td><td>Sayre</td><td>+57 983 888 4293</td><td>Female</td><td>Colombia</td><td>2022-11-30</td><td>$78402.39</td><td>true</td><td>2</td></tr><tr><td>4</td><td>Roley</td><td>+95 337 327 0628</td><td>Male</td><td>Myanmar</td><td>2022-12-26</td><td>$641503.36</td><td>true</td><td>5</td></tr><tr><td>5</td><td>Merrielle</td><td>+62 862 968 5847</td><td>Female</td><td>Indonesia</td><td>2022-03-24</td><td>null</td><td>null</td><td>2</td></tr></tbody></table></div>"
      ]
     },
     "metadata": {
      "application/vnd.databricks.v1+output": {
       "addedWidgets": {},
       "aggData": [],
       "aggError": "",
       "aggOverflow": false,
       "aggSchema": [],
       "aggSeriesLimitReached": false,
       "aggType": "",
       "arguments": {},
       "columnCustomDisplayInfos": {},
       "data": [
        [
         1,
         "Kara",
         "+853 410 196 7317",
         "Female",
         "Macao",
         "2021-06-27",
         "$709117.57",
         true,
         2
        ],
        [
         2,
         "Hillier",
         "+7 511 334 2980",
         "Male",
         "Russia",
         "2022-08-20",
         null,
         false,
         5
        ],
        [
         3,
         "Sayre",
         "+57 983 888 4293",
         "Female",
         "Colombia",
         "2022-11-30",
         "$78402.39",
         true,
         2
        ],
        [
         4,
         "Roley",
         "+95 337 327 0628",
         "Male",
         "Myanmar",
         "2022-12-26",
         "$641503.36",
         true,
         5
        ],
        [
         5,
         "Merrielle",
         "+62 862 968 5847",
         "Female",
         "Indonesia",
         "2022-03-24",
         null,
         null,
         2
        ]
       ],
       "datasetInfos": [],
       "dbfsResultPath": null,
       "isJsonSchema": true,
       "metadata": {},
       "overflow": false,
       "plotOptions": {
        "customPlotOptions": {},
        "displayType": "table",
        "pivotAggregation": null,
        "pivotColumns": null,
        "xColumns": null,
        "yColumns": null
       },
       "removedWidgets": [],
       "schema": [
        {
         "metadata": "{}",
         "name": "Emp ID",
         "type": "\"long\""
        },
        {
         "metadata": "{}",
         "name": "Emp Name",
         "type": "\"string\""
        },
        {
         "metadata": "{}",
         "name": "contract",
         "type": "\"string\""
        },
        {
         "metadata": "{}",
         "name": "gender",
         "type": "\"string\""
        },
        {
         "metadata": "{}",
         "name": "Country",
         "type": "\"string\""
        },
        {
         "metadata": "{}",
         "name": "DOJ",
         "type": "\"date\""
        },
        {
         "metadata": "{}",
         "name": "salary",
         "type": "\"string\""
        },
        {
         "metadata": "{}",
         "name": "Relocation",
         "type": "\"boolean\""
        },
        {
         "metadata": "{}",
         "name": "Gen_Repr",
         "type": "\"integer\""
        }
       ],
       "type": "table"
      }
     },
     "output_type": "display_data"
    }
   ],
   "source": [
    "df_parqq = df_parqq.withColumn(\"DOJ\", to_date(\"DOJ\", \"M/d/yyyy\"))\n",
    "display(df_parqq.limit(5))"
   ]
  },
  {
   "cell_type": "code",
   "execution_count": 0,
   "metadata": {
    "application/vnd.databricks.v1+cell": {
     "cellMetadata": {
      "byteLimit": 2048000,
      "rowLimit": 10000
     },
     "inputWidgets": {},
     "nuid": "9a23b145-6446-489b-8a6c-8725a0e76462",
     "showTitle": false,
     "tableResultSettingsMap": {},
     "title": ""
    }
   },
   "outputs": [
    {
     "output_type": "display_data",
     "data": {
      "text/html": [
       "<style scoped>\n",
       "  .table-result-container {\n",
       "    max-height: 300px;\n",
       "    overflow: auto;\n",
       "  }\n",
       "  table, th, td {\n",
       "    border: 1px solid black;\n",
       "    border-collapse: collapse;\n",
       "  }\n",
       "  th, td {\n",
       "    padding: 5px;\n",
       "  }\n",
       "  th {\n",
       "    text-align: left;\n",
       "  }\n",
       "</style><div class='table-result-container'><table class='table-result'><thead style='background-color: white'><tr><th>Emp ID</th><th>Emp Name</th><th>contract</th><th>gender</th><th>Country</th><th>DOJ</th><th>salary</th><th>Relocation</th><th>Gen_Repr</th></tr></thead><tbody><tr><td>1</td><td>Kara</td><td>+853 410 196 7317</td><td>Female</td><td>Macao</td><td>2021-06-27</td><td>709117.56</td><td>true</td><td>2</td></tr><tr><td>2</td><td>Hillier</td><td>+7 511 334 2980</td><td>Male</td><td>Russia</td><td>2022-08-20</td><td>null</td><td>false</td><td>5</td></tr><tr><td>3</td><td>Sayre</td><td>+57 983 888 4293</td><td>Female</td><td>Colombia</td><td>2022-11-30</td><td>78402.39</td><td>true</td><td>2</td></tr><tr><td>4</td><td>Roley</td><td>+95 337 327 0628</td><td>Male</td><td>Myanmar</td><td>2022-12-26</td><td>641503.4</td><td>true</td><td>5</td></tr><tr><td>5</td><td>Merrielle</td><td>+62 862 968 5847</td><td>Female</td><td>Indonesia</td><td>2022-03-24</td><td>null</td><td>null</td><td>2</td></tr></tbody></table></div>"
      ]
     },
     "metadata": {
      "application/vnd.databricks.v1+output": {
       "addedWidgets": {},
       "aggData": [],
       "aggError": "",
       "aggOverflow": false,
       "aggSchema": [],
       "aggSeriesLimitReached": false,
       "aggType": "",
       "arguments": {},
       "columnCustomDisplayInfos": {},
       "data": [
        [
         1,
         "Kara",
         "+853 410 196 7317",
         "Female",
         "Macao",
         "2021-06-27",
         709117.56,
         true,
         2
        ],
        [
         2,
         "Hillier",
         "+7 511 334 2980",
         "Male",
         "Russia",
         "2022-08-20",
         null,
         false,
         5
        ],
        [
         3,
         "Sayre",
         "+57 983 888 4293",
         "Female",
         "Colombia",
         "2022-11-30",
         78402.39,
         true,
         2
        ],
        [
         4,
         "Roley",
         "+95 337 327 0628",
         "Male",
         "Myanmar",
         "2022-12-26",
         641503.4,
         true,
         5
        ],
        [
         5,
         "Merrielle",
         "+62 862 968 5847",
         "Female",
         "Indonesia",
         "2022-03-24",
         null,
         null,
         2
        ]
       ],
       "datasetInfos": [],
       "dbfsResultPath": null,
       "isJsonSchema": true,
       "metadata": {},
       "overflow": false,
       "plotOptions": {
        "customPlotOptions": {},
        "displayType": "table",
        "pivotAggregation": null,
        "pivotColumns": null,
        "xColumns": null,
        "yColumns": null
       },
       "removedWidgets": [],
       "schema": [
        {
         "metadata": "{}",
         "name": "Emp ID",
         "type": "\"long\""
        },
        {
         "metadata": "{}",
         "name": "Emp Name",
         "type": "\"string\""
        },
        {
         "metadata": "{}",
         "name": "contract",
         "type": "\"string\""
        },
        {
         "metadata": "{}",
         "name": "gender",
         "type": "\"string\""
        },
        {
         "metadata": "{}",
         "name": "Country",
         "type": "\"string\""
        },
        {
         "metadata": "{}",
         "name": "DOJ",
         "type": "\"date\""
        },
        {
         "metadata": "{}",
         "name": "salary",
         "type": "\"float\""
        },
        {
         "metadata": "{}",
         "name": "Relocation",
         "type": "\"boolean\""
        },
        {
         "metadata": "{}",
         "name": "Gen_Repr",
         "type": "\"integer\""
        }
       ],
       "type": "table"
      }
     },
     "output_type": "display_data"
    }
   ],
   "source": [
    "df_parqq1 = df_parqq.withColumn(\"salary\", regexp_replace(\"salary\", \"\\$\", \"\")).withColumn('salary', col('salary').cast(FloatType()))\n",
    "display(df_parqq1.limit(5))"
   ]
  },
  {
   "cell_type": "code",
   "execution_count": 0,
   "metadata": {
    "application/vnd.databricks.v1+cell": {
     "cellMetadata": {
      "byteLimit": 2048000,
      "rowLimit": 10000
     },
     "inputWidgets": {},
     "nuid": "96414276-b15d-4158-ba0d-99aff60c6f7f",
     "showTitle": false,
     "tableResultSettingsMap": {},
     "title": ""
    }
   },
   "outputs": [
    {
     "output_type": "stream",
     "name": "stdout",
     "output_type": "stream",
     "text": [
      "root\n |-- Emp ID: long (nullable = true)\n |-- Emp Name: string (nullable = true)\n |-- contract: string (nullable = true)\n |-- gender: string (nullable = true)\n |-- Country: string (nullable = true)\n |-- DOJ: date (nullable = true)\n |-- salary: float (nullable = true)\n |-- Relocation: boolean (nullable = true)\n |-- Gen_Repr: integer (nullable = true)\n\n"
     ]
    }
   ],
   "source": [
    "df_parqq1.printSchema()"
   ]
  },
  {
   "cell_type": "markdown",
   "metadata": {
    "application/vnd.databricks.v1+cell": {
     "cellMetadata": {
      "byteLimit": 2048000,
      "rowLimit": 10000
     },
     "inputWidgets": {},
     "nuid": "ba4533d9-277b-48d0-8ab3-e0662332ea07",
     "showTitle": false,
     "tableResultSettingsMap": {},
     "title": ""
    }
   },
   "source": [
    "Replacing spaces with uderscore in between column names as delta table doesn't support"
   ]
  },
  {
   "cell_type": "code",
   "execution_count": 0,
   "metadata": {
    "application/vnd.databricks.v1+cell": {
     "cellMetadata": {
      "byteLimit": 2048000,
      "implicitDf": true,
      "rowLimit": 10000
     },
     "inputWidgets": {},
     "nuid": "5665b0bf-5b43-49eb-94db-e2a5e7382984",
     "showTitle": false,
     "tableResultSettingsMap": {},
     "title": ""
    }
   },
   "outputs": [
    {
     "output_type": "display_data",
     "data": {
      "text/html": [
       "<style scoped>\n",
       "  .table-result-container {\n",
       "    max-height: 300px;\n",
       "    overflow: auto;\n",
       "  }\n",
       "  table, th, td {\n",
       "    border: 1px solid black;\n",
       "    border-collapse: collapse;\n",
       "  }\n",
       "  th, td {\n",
       "    padding: 5px;\n",
       "  }\n",
       "  th {\n",
       "    text-align: left;\n",
       "  }\n",
       "</style><div class='table-result-container'><table class='table-result'><thead style='background-color: white'><tr><th>Emp_ID</th><th>Emp_Name</th><th>contract</th><th>gender</th><th>Country</th><th>DOJ</th><th>salary</th><th>Relocation</th><th>Gen_Repr</th></tr></thead><tbody><tr><td>1</td><td>Kara</td><td>+853 410 196 7317</td><td>Female</td><td>Macao</td><td>2021-06-27</td><td>709117.56</td><td>true</td><td>2</td></tr><tr><td>2</td><td>Hillier</td><td>+7 511 334 2980</td><td>Male</td><td>Russia</td><td>2022-08-20</td><td>null</td><td>false</td><td>5</td></tr><tr><td>3</td><td>Sayre</td><td>+57 983 888 4293</td><td>Female</td><td>Colombia</td><td>2022-11-30</td><td>78402.39</td><td>true</td><td>2</td></tr><tr><td>4</td><td>Roley</td><td>+95 337 327 0628</td><td>Male</td><td>Myanmar</td><td>2022-12-26</td><td>641503.4</td><td>true</td><td>5</td></tr><tr><td>5</td><td>Merrielle</td><td>+62 862 968 5847</td><td>Female</td><td>Indonesia</td><td>2022-03-24</td><td>null</td><td>null</td><td>2</td></tr></tbody></table></div>"
      ]
     },
     "metadata": {
      "application/vnd.databricks.v1+output": {
       "addedWidgets": {},
       "aggData": [],
       "aggError": "",
       "aggOverflow": false,
       "aggSchema": [],
       "aggSeriesLimitReached": false,
       "aggType": "",
       "arguments": {},
       "columnCustomDisplayInfos": {},
       "data": [
        [
         1,
         "Kara",
         "+853 410 196 7317",
         "Female",
         "Macao",
         "2021-06-27",
         709117.56,
         true,
         2
        ],
        [
         2,
         "Hillier",
         "+7 511 334 2980",
         "Male",
         "Russia",
         "2022-08-20",
         null,
         false,
         5
        ],
        [
         3,
         "Sayre",
         "+57 983 888 4293",
         "Female",
         "Colombia",
         "2022-11-30",
         78402.39,
         true,
         2
        ],
        [
         4,
         "Roley",
         "+95 337 327 0628",
         "Male",
         "Myanmar",
         "2022-12-26",
         641503.4,
         true,
         5
        ],
        [
         5,
         "Merrielle",
         "+62 862 968 5847",
         "Female",
         "Indonesia",
         "2022-03-24",
         null,
         null,
         2
        ]
       ],
       "datasetInfos": [],
       "dbfsResultPath": null,
       "isJsonSchema": true,
       "metadata": {},
       "overflow": false,
       "plotOptions": {
        "customPlotOptions": {},
        "displayType": "table",
        "pivotAggregation": null,
        "pivotColumns": null,
        "xColumns": null,
        "yColumns": null
       },
       "removedWidgets": [],
       "schema": [
        {
         "metadata": "{}",
         "name": "Emp_ID",
         "type": "\"long\""
        },
        {
         "metadata": "{}",
         "name": "Emp_Name",
         "type": "\"string\""
        },
        {
         "metadata": "{}",
         "name": "contract",
         "type": "\"string\""
        },
        {
         "metadata": "{}",
         "name": "gender",
         "type": "\"string\""
        },
        {
         "metadata": "{}",
         "name": "Country",
         "type": "\"string\""
        },
        {
         "metadata": "{}",
         "name": "DOJ",
         "type": "\"date\""
        },
        {
         "metadata": "{}",
         "name": "salary",
         "type": "\"float\""
        },
        {
         "metadata": "{}",
         "name": "Relocation",
         "type": "\"boolean\""
        },
        {
         "metadata": "{}",
         "name": "Gen_Repr",
         "type": "\"integer\""
        }
       ],
       "type": "table"
      }
     },
     "output_type": "display_data"
    }
   ],
   "source": [
    "# df_parqq.withColumnRenamed(\"Emp ID\", \"EmpID\").withColumnRenamed('Emp Name', \"EmpName\")\n",
    "# lst = []\n",
    "# for cols in df_parqq.columns:\n",
    "#     if len(cols.split())>1:\n",
    "#         res = ''.join(cols.split())\n",
    "#         lst.append(res)\n",
    "#     else:\n",
    "#         lst.append(cols)\n",
    "# lst\n",
    "\n",
    "\n",
    "for colname in df_parqq1.columns:\n",
    "    if \" \" in colname:\n",
    "        df_parqq1 = df_parqq1.withColumnRenamed(colname, colname.replace(\" \", \"_\")) # one-by-one iteration\n",
    "        \n",
    "display(df_parqq1.limit(5))"
   ]
  },
  {
   "cell_type": "markdown",
   "metadata": {
    "application/vnd.databricks.v1+cell": {
     "cellMetadata": {
      "byteLimit": 2048000,
      "rowLimit": 10000
     },
     "inputWidgets": {},
     "nuid": "c4323cce-c47b-4194-ae58-efcd68a75108",
     "showTitle": false,
     "tableResultSettingsMap": {},
     "title": ""
    }
   },
   "source": [
    "## save as delta table"
   ]
  },
  {
   "cell_type": "code",
   "execution_count": 0,
   "metadata": {
    "application/vnd.databricks.v1+cell": {
     "cellMetadata": {
      "byteLimit": 2048000,
      "rowLimit": 10000
     },
     "inputWidgets": {},
     "nuid": "814aef1a-ddf4-49f3-98dd-b898fec30b97",
     "showTitle": false,
     "tableResultSettingsMap": {},
     "title": ""
    }
   },
   "outputs": [],
   "source": [
    "# spark.sql(\"DROP TABLE IF EXISTS deltatable1\")\n",
    "\n",
    "# If the table already exists in the default database, you must ensure that the .option('path', ...) is not specified, as Delta tables in a Hive Metastore will automatically use their registered location.\n",
    "\n",
    "# dbutils.fs.rm(\"dbfs:/mockarrow/tables\",True)"
   ]
  },
  {
   "cell_type": "markdown",
   "metadata": {
    "application/vnd.databricks.v1+cell": {
     "cellMetadata": {
      "byteLimit": 2048000,
      "rowLimit": 10000
     },
     "inputWidgets": {},
     "nuid": "c17cc41d-01d3-4e82-ae0f-f8e649224399",
     "showTitle": false,
     "tableResultSettingsMap": {},
     "title": ""
    }
   },
   "source": [
    "Use mergeSchema = True so that delta table can handle additional changes to schema"
   ]
  },
  {
   "cell_type": "code",
   "execution_count": 0,
   "metadata": {
    "application/vnd.databricks.v1+cell": {
     "cellMetadata": {
      "byteLimit": 2048000,
      "rowLimit": 10000
     },
     "inputWidgets": {},
     "nuid": "4de7fe8d-07f5-448f-82a0-52ef63a0d0f4",
     "showTitle": false,
     "tableResultSettingsMap": {},
     "title": ""
    }
   },
   "outputs": [],
   "source": [
    "df_parqq1.write.mode('overwrite').option('mergeSchema',True).option('path',\"dbfs:/tables/delta/\").saveAsTable('deltatable1')"
   ]
  },
  {
   "cell_type": "code",
   "execution_count": 0,
   "metadata": {
    "application/vnd.databricks.v1+cell": {
     "cellMetadata": {
      "byteLimit": 2048000,
      "implicitDf": true,
      "rowLimit": 10000
     },
     "inputWidgets": {},
     "nuid": "7bf83b3d-f3c8-4870-8944-c597b17c6afb",
     "showTitle": false,
     "tableResultSettingsMap": {},
     "title": ""
    }
   },
   "outputs": [
    {
     "output_type": "display_data",
     "data": {
      "text/html": [
       "<style scoped>\n",
       "  .table-result-container {\n",
       "    max-height: 300px;\n",
       "    overflow: auto;\n",
       "  }\n",
       "  table, th, td {\n",
       "    border: 1px solid black;\n",
       "    border-collapse: collapse;\n",
       "  }\n",
       "  th, td {\n",
       "    padding: 5px;\n",
       "  }\n",
       "  th {\n",
       "    text-align: left;\n",
       "  }\n",
       "</style><div class='table-result-container'><table class='table-result'><thead style='background-color: white'><tr><th>Emp_ID</th><th>Emp_Name</th><th>contract</th><th>gender</th><th>Country</th><th>DOJ</th><th>salary</th><th>Relocation</th><th>Gen_Repr</th></tr></thead><tbody><tr><td>1</td><td>Kara</td><td>+853 410 196 7317</td><td>Female</td><td>Macao</td><td>2021-06-27</td><td>709117.56</td><td>true</td><td>2</td></tr><tr><td>2</td><td>Hillier</td><td>+7 511 334 2980</td><td>Male</td><td>Russia</td><td>2022-08-20</td><td>null</td><td>false</td><td>5</td></tr><tr><td>3</td><td>Sayre</td><td>+57 983 888 4293</td><td>Female</td><td>Colombia</td><td>2022-11-30</td><td>78402.39</td><td>true</td><td>2</td></tr><tr><td>4</td><td>Roley</td><td>+95 337 327 0628</td><td>Male</td><td>Myanmar</td><td>2022-12-26</td><td>641503.4</td><td>true</td><td>5</td></tr><tr><td>5</td><td>Merrielle</td><td>+62 862 968 5847</td><td>Female</td><td>Indonesia</td><td>2022-03-24</td><td>null</td><td>null</td><td>2</td></tr></tbody></table></div>"
      ]
     },
     "metadata": {
      "application/vnd.databricks.v1+output": {
       "addedWidgets": {},
       "aggData": [],
       "aggError": "",
       "aggOverflow": false,
       "aggSchema": [],
       "aggSeriesLimitReached": false,
       "aggType": "",
       "arguments": {},
       "columnCustomDisplayInfos": {},
       "data": [
        [
         1,
         "Kara",
         "+853 410 196 7317",
         "Female",
         "Macao",
         "2021-06-27",
         709117.56,
         true,
         2
        ],
        [
         2,
         "Hillier",
         "+7 511 334 2980",
         "Male",
         "Russia",
         "2022-08-20",
         null,
         false,
         5
        ],
        [
         3,
         "Sayre",
         "+57 983 888 4293",
         "Female",
         "Colombia",
         "2022-11-30",
         78402.39,
         true,
         2
        ],
        [
         4,
         "Roley",
         "+95 337 327 0628",
         "Male",
         "Myanmar",
         "2022-12-26",
         641503.4,
         true,
         5
        ],
        [
         5,
         "Merrielle",
         "+62 862 968 5847",
         "Female",
         "Indonesia",
         "2022-03-24",
         null,
         null,
         2
        ]
       ],
       "datasetInfos": [],
       "dbfsResultPath": null,
       "isJsonSchema": true,
       "metadata": {},
       "overflow": false,
       "plotOptions": {
        "customPlotOptions": {},
        "displayType": "table",
        "pivotAggregation": null,
        "pivotColumns": null,
        "xColumns": null,
        "yColumns": null
       },
       "removedWidgets": [],
       "schema": [
        {
         "metadata": "{}",
         "name": "Emp_ID",
         "type": "\"long\""
        },
        {
         "metadata": "{}",
         "name": "Emp_Name",
         "type": "\"string\""
        },
        {
         "metadata": "{}",
         "name": "contract",
         "type": "\"string\""
        },
        {
         "metadata": "{}",
         "name": "gender",
         "type": "\"string\""
        },
        {
         "metadata": "{}",
         "name": "Country",
         "type": "\"string\""
        },
        {
         "metadata": "{}",
         "name": "DOJ",
         "type": "\"date\""
        },
        {
         "metadata": "{}",
         "name": "salary",
         "type": "\"float\""
        },
        {
         "metadata": "{}",
         "name": "Relocation",
         "type": "\"boolean\""
        },
        {
         "metadata": "{}",
         "name": "Gen_Repr",
         "type": "\"integer\""
        }
       ],
       "type": "table"
      }
     },
     "output_type": "display_data"
    }
   ],
   "source": [
    "%sql\n",
    "select * from deltatable1\n",
    "limit 5"
   ]
  },
  {
   "cell_type": "code",
   "execution_count": 0,
   "metadata": {
    "application/vnd.databricks.v1+cell": {
     "cellMetadata": {
      "byteLimit": 2048000,
      "implicitDf": true,
      "rowLimit": 10000
     },
     "inputWidgets": {},
     "nuid": "474f85a2-0cd6-4174-9500-a52e9c01b613",
     "showTitle": false,
     "tableResultSettingsMap": {},
     "title": ""
    }
   },
   "outputs": [
    {
     "output_type": "display_data",
     "data": {
      "text/html": [
       "<style scoped>\n",
       "  .table-result-container {\n",
       "    max-height: 300px;\n",
       "    overflow: auto;\n",
       "  }\n",
       "  table, th, td {\n",
       "    border: 1px solid black;\n",
       "    border-collapse: collapse;\n",
       "  }\n",
       "  th, td {\n",
       "    padding: 5px;\n",
       "  }\n",
       "  th {\n",
       "    text-align: left;\n",
       "  }\n",
       "</style><div class='table-result-container'><table class='table-result'><thead style='background-color: white'><tr><th>version</th><th>timestamp</th><th>userId</th><th>userName</th><th>operation</th><th>operationParameters</th><th>job</th><th>notebook</th><th>clusterId</th><th>readVersion</th><th>isolationLevel</th><th>isBlindAppend</th><th>operationMetrics</th><th>userMetadata</th><th>engineInfo</th></tr></thead><tbody><tr><td>1</td><td>2025-03-05T10:53:31.000+0000</td><td>2187969817410935</td><td>jithinvyas2001@gmail.com</td><td>CREATE OR REPLACE TABLE AS SELECT</td><td>Map(isManaged -> false, description -> null, partitionBy -> [], properties -> {})</td><td>null</td><td>List(841606920512230)</td><td>0305-103149-hic0xa2v</td><td>0</td><td>WriteSerializable</td><td>false</td><td>Map(numFiles -> 1, numOutputRows -> 1000, numOutputBytes -> 38919)</td><td>null</td><td>Databricks-Runtime/12.2.x-scala2.12</td></tr><tr><td>0</td><td>2025-03-05T10:48:18.000+0000</td><td>2187969817410935</td><td>jithinvyas2001@gmail.com</td><td>CREATE OR REPLACE TABLE AS SELECT</td><td>Map(isManaged -> false, description -> null, partitionBy -> [], properties -> {})</td><td>null</td><td>List(841606920512230)</td><td>0305-103149-hic0xa2v</td><td>null</td><td>WriteSerializable</td><td>false</td><td>Map(numFiles -> 1, numOutputRows -> 1000, numOutputBytes -> 38919)</td><td>null</td><td>Databricks-Runtime/12.2.x-scala2.12</td></tr></tbody></table></div>"
      ]
     },
     "metadata": {
      "application/vnd.databricks.v1+output": {
       "addedWidgets": {},
       "aggData": [],
       "aggError": "",
       "aggOverflow": false,
       "aggSchema": [],
       "aggSeriesLimitReached": false,
       "aggType": "",
       "arguments": {},
       "columnCustomDisplayInfos": {},
       "data": [
        [
         1,
         "2025-03-05T10:53:31.000+0000",
         "2187969817410935",
         "jithinvyas2001@gmail.com",
         "CREATE OR REPLACE TABLE AS SELECT",
         {
          "description": null,
          "isManaged": "false",
          "partitionBy": "[]",
          "properties": "{}"
         },
         null,
         [
          "841606920512230"
         ],
         "0305-103149-hic0xa2v",
         0,
         "WriteSerializable",
         false,
         {
          "numFiles": "1",
          "numOutputBytes": "38919",
          "numOutputRows": "1000"
         },
         null,
         "Databricks-Runtime/12.2.x-scala2.12"
        ],
        [
         0,
         "2025-03-05T10:48:18.000+0000",
         "2187969817410935",
         "jithinvyas2001@gmail.com",
         "CREATE OR REPLACE TABLE AS SELECT",
         {
          "description": null,
          "isManaged": "false",
          "partitionBy": "[]",
          "properties": "{}"
         },
         null,
         [
          "841606920512230"
         ],
         "0305-103149-hic0xa2v",
         null,
         "WriteSerializable",
         false,
         {
          "numFiles": "1",
          "numOutputBytes": "38919",
          "numOutputRows": "1000"
         },
         null,
         "Databricks-Runtime/12.2.x-scala2.12"
        ]
       ],
       "datasetInfos": [],
       "dbfsResultPath": null,
       "isJsonSchema": true,
       "metadata": {},
       "overflow": false,
       "plotOptions": {
        "customPlotOptions": {},
        "displayType": "table",
        "pivotAggregation": null,
        "pivotColumns": null,
        "xColumns": null,
        "yColumns": null
       },
       "removedWidgets": [],
       "schema": [
        {
         "metadata": "{}",
         "name": "version",
         "type": "\"long\""
        },
        {
         "metadata": "{}",
         "name": "timestamp",
         "type": "\"timestamp\""
        },
        {
         "metadata": "{}",
         "name": "userId",
         "type": "\"string\""
        },
        {
         "metadata": "{}",
         "name": "userName",
         "type": "\"string\""
        },
        {
         "metadata": "{}",
         "name": "operation",
         "type": "\"string\""
        },
        {
         "metadata": "{}",
         "name": "operationParameters",
         "type": "{\"type\":\"map\",\"keyType\":\"string\",\"valueType\":\"string\",\"valueContainsNull\":true}"
        },
        {
         "metadata": "{}",
         "name": "job",
         "type": "{\"type\":\"struct\",\"fields\":[{\"name\":\"jobId\",\"type\":\"string\",\"nullable\":true,\"metadata\":{}},{\"name\":\"jobName\",\"type\":\"string\",\"nullable\":true,\"metadata\":{}},{\"name\":\"jobRunId\",\"type\":\"string\",\"nullable\":true,\"metadata\":{}},{\"name\":\"runId\",\"type\":\"string\",\"nullable\":true,\"metadata\":{}},{\"name\":\"jobOwnerId\",\"type\":\"string\",\"nullable\":true,\"metadata\":{}},{\"name\":\"triggerType\",\"type\":\"string\",\"nullable\":true,\"metadata\":{}}]}"
        },
        {
         "metadata": "{}",
         "name": "notebook",
         "type": "{\"type\":\"struct\",\"fields\":[{\"name\":\"notebookId\",\"type\":\"string\",\"nullable\":true,\"metadata\":{}}]}"
        },
        {
         "metadata": "{}",
         "name": "clusterId",
         "type": "\"string\""
        },
        {
         "metadata": "{}",
         "name": "readVersion",
         "type": "\"long\""
        },
        {
         "metadata": "{}",
         "name": "isolationLevel",
         "type": "\"string\""
        },
        {
         "metadata": "{}",
         "name": "isBlindAppend",
         "type": "\"boolean\""
        },
        {
         "metadata": "{}",
         "name": "operationMetrics",
         "type": "{\"type\":\"map\",\"keyType\":\"string\",\"valueType\":\"string\",\"valueContainsNull\":true}"
        },
        {
         "metadata": "{}",
         "name": "userMetadata",
         "type": "\"string\""
        },
        {
         "metadata": "{}",
         "name": "engineInfo",
         "type": "\"string\""
        }
       ],
       "type": "table"
      }
     },
     "output_type": "display_data"
    },
    {
     "output_type": "stream",
     "name": "stdout",
     "output_type": "stream",
     "text": [
      "+------------------------+-------+---------------------------------+\n|UserName                |Version|Operation                        |\n+------------------------+-------+---------------------------------+\n|jithinvyas2001@gmail.com|1      |CREATE OR REPLACE TABLE AS SELECT|\n|jithinvyas2001@gmail.com|0      |CREATE OR REPLACE TABLE AS SELECT|\n+------------------------+-------+---------------------------------+\n\n"
     ]
    }
   ],
   "source": [
    "df_sql = spark.sql(\"Describe history deltatable1\")\n",
    "display(df_sql)\n",
    "df_sql.select('UserName','Version', 'Operation').show(truncate=False)"
   ]
  },
  {
   "cell_type": "markdown",
   "metadata": {
    "application/vnd.databricks.v1+cell": {
     "cellMetadata": {
      "byteLimit": 2048000,
      "rowLimit": 10000
     },
     "inputWidgets": {},
     "nuid": "c52b5f1a-f421-4be8-b548-b96400ceda94",
     "showTitle": false,
     "tableResultSettingsMap": {},
     "title": ""
    }
   },
   "source": [
    "**version-1**"
   ]
  },
  {
   "cell_type": "code",
   "execution_count": 0,
   "metadata": {
    "application/vnd.databricks.v1+cell": {
     "cellMetadata": {
      "byteLimit": 2048000,
      "implicitDf": true,
      "rowLimit": 10000
     },
     "inputWidgets": {},
     "nuid": "26896f61-0f5c-4eb4-9c3a-537ee442e1f5",
     "showTitle": false,
     "tableResultSettingsMap": {},
     "title": ""
    }
   },
   "outputs": [
    {
     "output_type": "display_data",
     "data": {
      "text/html": [
       "<style scoped>\n",
       "  .table-result-container {\n",
       "    max-height: 300px;\n",
       "    overflow: auto;\n",
       "  }\n",
       "  table, th, td {\n",
       "    border: 1px solid black;\n",
       "    border-collapse: collapse;\n",
       "  }\n",
       "  th, td {\n",
       "    padding: 5px;\n",
       "  }\n",
       "  th {\n",
       "    text-align: left;\n",
       "  }\n",
       "</style><div class='table-result-container'><table class='table-result'><thead style='background-color: white'><tr><th>num_affected_rows</th></tr></thead><tbody><tr><td>1</td></tr></tbody></table></div>"
      ]
     },
     "metadata": {
      "application/vnd.databricks.v1+output": {
       "addedWidgets": {},
       "aggData": [],
       "aggError": "",
       "aggOverflow": false,
       "aggSchema": [],
       "aggSeriesLimitReached": false,
       "aggType": "",
       "arguments": {},
       "columnCustomDisplayInfos": {},
       "data": [
        [
         1
        ]
       ],
       "datasetInfos": [],
       "dbfsResultPath": null,
       "isJsonSchema": true,
       "metadata": {},
       "overflow": false,
       "plotOptions": {
        "customPlotOptions": {},
        "displayType": "table",
        "pivotAggregation": null,
        "pivotColumns": null,
        "xColumns": null,
        "yColumns": null
       },
       "removedWidgets": [],
       "schema": [
        {
         "metadata": "{}",
         "name": "num_affected_rows",
         "type": "\"long\""
        }
       ],
       "type": "table"
      }
     },
     "output_type": "display_data"
    }
   ],
   "source": [
    "%sql\n",
    "update deltatable1\n",
    "set Emp_ID = 1011\n",
    "where Emp_ID = 1"
   ]
  },
  {
   "cell_type": "markdown",
   "metadata": {
    "application/vnd.databricks.v1+cell": {
     "cellMetadata": {
      "byteLimit": 2048000,
      "rowLimit": 10000
     },
     "inputWidgets": {},
     "nuid": "2061978e-a59b-4875-8aa7-dee2342c31e2",
     "showTitle": false,
     "tableResultSettingsMap": {},
     "title": ""
    }
   },
   "source": [
    "**version-2**"
   ]
  },
  {
   "cell_type": "code",
   "execution_count": 0,
   "metadata": {
    "application/vnd.databricks.v1+cell": {
     "cellMetadata": {
      "byteLimit": 2048000,
      "implicitDf": true,
      "rowLimit": 10000
     },
     "inputWidgets": {},
     "nuid": "31984dcb-331a-40ec-9d70-189098c6e325",
     "showTitle": false,
     "tableResultSettingsMap": {},
     "title": ""
    }
   },
   "outputs": [
    {
     "output_type": "display_data",
     "data": {
      "text/html": [
       "<style scoped>\n",
       "  .table-result-container {\n",
       "    max-height: 300px;\n",
       "    overflow: auto;\n",
       "  }\n",
       "  table, th, td {\n",
       "    border: 1px solid black;\n",
       "    border-collapse: collapse;\n",
       "  }\n",
       "  th, td {\n",
       "    padding: 5px;\n",
       "  }\n",
       "  th {\n",
       "    text-align: left;\n",
       "  }\n",
       "</style><div class='table-result-container'><table class='table-result'><thead style='background-color: white'><tr><th>num_affected_rows</th></tr></thead><tbody><tr><td>32</td></tr></tbody></table></div>"
      ]
     },
     "metadata": {
      "application/vnd.databricks.v1+output": {
       "addedWidgets": {},
       "aggData": [],
       "aggError": "",
       "aggOverflow": false,
       "aggSchema": [],
       "aggSeriesLimitReached": false,
       "aggType": "",
       "arguments": {},
       "columnCustomDisplayInfos": {},
       "data": [
        [
         32
        ]
       ],
       "datasetInfos": [],
       "dbfsResultPath": null,
       "isJsonSchema": true,
       "metadata": {},
       "overflow": false,
       "plotOptions": {
        "customPlotOptions": {},
        "displayType": "table",
        "pivotAggregation": null,
        "pivotColumns": null,
        "xColumns": null,
        "yColumns": null
       },
       "removedWidgets": [],
       "schema": [
        {
         "metadata": "{}",
         "name": "num_affected_rows",
         "type": "\"long\""
        }
       ],
       "type": "table"
      }
     },
     "output_type": "display_data"
    }
   ],
   "source": [
    "%sql\n",
    "delete from deltatable1\n",
    "where Relocation is Null"
   ]
  },
  {
   "cell_type": "code",
   "execution_count": 0,
   "metadata": {
    "application/vnd.databricks.v1+cell": {
     "cellMetadata": {
      "byteLimit": 2048000,
      "implicitDf": true,
      "rowLimit": 10000
     },
     "inputWidgets": {},
     "nuid": "ecbeab6d-326a-4b0e-8c05-4a46689a3198",
     "showTitle": false,
     "tableResultSettingsMap": {},
     "title": ""
    }
   },
   "outputs": [
    {
     "output_type": "display_data",
     "data": {
      "text/html": [
       "<style scoped>\n",
       "  .table-result-container {\n",
       "    max-height: 300px;\n",
       "    overflow: auto;\n",
       "  }\n",
       "  table, th, td {\n",
       "    border: 1px solid black;\n",
       "    border-collapse: collapse;\n",
       "  }\n",
       "  th, td {\n",
       "    padding: 5px;\n",
       "  }\n",
       "  th {\n",
       "    text-align: left;\n",
       "  }\n",
       "</style><div class='table-result-container'><table class='table-result'><thead style='background-color: white'><tr><th>TotalRows</th></tr></thead><tbody><tr><td>968</td></tr></tbody></table></div>"
      ]
     },
     "metadata": {
      "application/vnd.databricks.v1+output": {
       "addedWidgets": {},
       "aggData": [],
       "aggError": "",
       "aggOverflow": false,
       "aggSchema": [],
       "aggSeriesLimitReached": false,
       "aggType": "",
       "arguments": {},
       "columnCustomDisplayInfos": {},
       "data": [
        [
         968
        ]
       ],
       "datasetInfos": [],
       "dbfsResultPath": null,
       "isJsonSchema": true,
       "metadata": {},
       "overflow": false,
       "plotOptions": {
        "customPlotOptions": {},
        "displayType": "table",
        "pivotAggregation": null,
        "pivotColumns": null,
        "xColumns": null,
        "yColumns": null
       },
       "removedWidgets": [],
       "schema": [
        {
         "metadata": "{}",
         "name": "TotalRows",
         "type": "\"long\""
        }
       ],
       "type": "table"
      }
     },
     "output_type": "display_data"
    }
   ],
   "source": [
    "%sql\n",
    "select count(*) as TotalRows from deltatable1"
   ]
  },
  {
   "cell_type": "markdown",
   "metadata": {
    "application/vnd.databricks.v1+cell": {
     "cellMetadata": {
      "byteLimit": 2048000,
      "rowLimit": 10000
     },
     "inputWidgets": {},
     "nuid": "64b6089c-4572-4dfb-98a5-ab2d150940db",
     "showTitle": false,
     "tableResultSettingsMap": {},
     "title": ""
    }
   },
   "source": [
    "**Version history**"
   ]
  },
  {
   "cell_type": "code",
   "execution_count": 0,
   "metadata": {
    "application/vnd.databricks.v1+cell": {
     "cellMetadata": {
      "byteLimit": 2048000,
      "rowLimit": 10000
     },
     "inputWidgets": {},
     "nuid": "e78593a3-6751-4f19-81c2-9d96cbeebbd8",
     "showTitle": false,
     "tableResultSettingsMap": {},
     "title": ""
    }
   },
   "outputs": [
    {
     "output_type": "display_data",
     "data": {
      "text/html": [
       "<style scoped>\n",
       "  .table-result-container {\n",
       "    max-height: 300px;\n",
       "    overflow: auto;\n",
       "  }\n",
       "  table, th, td {\n",
       "    border: 1px solid black;\n",
       "    border-collapse: collapse;\n",
       "  }\n",
       "  th, td {\n",
       "    padding: 5px;\n",
       "  }\n",
       "  th {\n",
       "    text-align: left;\n",
       "  }\n",
       "</style><div class='table-result-container'><table class='table-result'><thead style='background-color: white'><tr><th>version</th><th>timestamp</th><th>userId</th><th>userName</th><th>operation</th><th>operationParameters</th><th>job</th><th>notebook</th><th>clusterId</th><th>readVersion</th><th>isolationLevel</th><th>isBlindAppend</th><th>operationMetrics</th><th>userMetadata</th><th>engineInfo</th></tr></thead><tbody><tr><td>3</td><td>2025-03-05T10:53:43.000+0000</td><td>2187969817410935</td><td>jithinvyas2001@gmail.com</td><td>DELETE</td><td>Map(predicate -> [\"isnull(Relocation#9021)\"])</td><td>null</td><td>List(841606920512230)</td><td>0305-103149-hic0xa2v</td><td>2</td><td>WriteSerializable</td><td>false</td><td>Map(numRemovedFiles -> 1, numRemovedBytes -> 38925, numCopiedRows -> 968, numDeletionVectorsAdded -> 0, numDeletionVectorsRemoved -> 0, numAddedChangeFiles -> 0, executionTimeMs -> 1921, numDeletedRows -> 32, scanTimeMs -> 1036, numAddedFiles -> 1, numAddedBytes -> 37342, rewriteTimeMs -> 884)</td><td>null</td><td>Databricks-Runtime/12.2.x-scala2.12</td></tr><tr><td>2</td><td>2025-03-05T10:53:39.000+0000</td><td>2187969817410935</td><td>jithinvyas2001@gmail.com</td><td>UPDATE</td><td>Map(predicate -> [\"(Emp_ID#8357L = 1)\"])</td><td>null</td><td>List(841606920512230)</td><td>0305-103149-hic0xa2v</td><td>1</td><td>WriteSerializable</td><td>false</td><td>Map(numRemovedFiles -> 1, numRemovedBytes -> 38919, numCopiedRows -> 999, numDeletionVectorsAdded -> 0, numDeletionVectorsRemoved -> 0, numAddedChangeFiles -> 0, executionTimeMs -> 1473, scanTimeMs -> 559, numAddedFiles -> 1, numUpdatedRows -> 1, numAddedBytes -> 38925, rewriteTimeMs -> 913)</td><td>null</td><td>Databricks-Runtime/12.2.x-scala2.12</td></tr><tr><td>1</td><td>2025-03-05T10:53:31.000+0000</td><td>2187969817410935</td><td>jithinvyas2001@gmail.com</td><td>CREATE OR REPLACE TABLE AS SELECT</td><td>Map(isManaged -> false, description -> null, partitionBy -> [], properties -> {})</td><td>null</td><td>List(841606920512230)</td><td>0305-103149-hic0xa2v</td><td>0</td><td>WriteSerializable</td><td>false</td><td>Map(numFiles -> 1, numOutputRows -> 1000, numOutputBytes -> 38919)</td><td>null</td><td>Databricks-Runtime/12.2.x-scala2.12</td></tr><tr><td>0</td><td>2025-03-05T10:48:18.000+0000</td><td>2187969817410935</td><td>jithinvyas2001@gmail.com</td><td>CREATE OR REPLACE TABLE AS SELECT</td><td>Map(isManaged -> false, description -> null, partitionBy -> [], properties -> {})</td><td>null</td><td>List(841606920512230)</td><td>0305-103149-hic0xa2v</td><td>null</td><td>WriteSerializable</td><td>false</td><td>Map(numFiles -> 1, numOutputRows -> 1000, numOutputBytes -> 38919)</td><td>null</td><td>Databricks-Runtime/12.2.x-scala2.12</td></tr></tbody></table></div>"
      ]
     },
     "metadata": {
      "application/vnd.databricks.v1+output": {
       "addedWidgets": {},
       "aggData": [],
       "aggError": "",
       "aggOverflow": false,
       "aggSchema": [],
       "aggSeriesLimitReached": false,
       "aggType": "",
       "arguments": {},
       "columnCustomDisplayInfos": {},
       "data": [
        [
         3,
         "2025-03-05T10:53:43.000+0000",
         "2187969817410935",
         "jithinvyas2001@gmail.com",
         "DELETE",
         {
          "predicate": "[\"isnull(Relocation#9021)\"]"
         },
         null,
         [
          "841606920512230"
         ],
         "0305-103149-hic0xa2v",
         2,
         "WriteSerializable",
         false,
         {
          "executionTimeMs": "1921",
          "numAddedBytes": "37342",
          "numAddedChangeFiles": "0",
          "numAddedFiles": "1",
          "numCopiedRows": "968",
          "numDeletedRows": "32",
          "numDeletionVectorsAdded": "0",
          "numDeletionVectorsRemoved": "0",
          "numRemovedBytes": "38925",
          "numRemovedFiles": "1",
          "rewriteTimeMs": "884",
          "scanTimeMs": "1036"
         },
         null,
         "Databricks-Runtime/12.2.x-scala2.12"
        ],
        [
         2,
         "2025-03-05T10:53:39.000+0000",
         "2187969817410935",
         "jithinvyas2001@gmail.com",
         "UPDATE",
         {
          "predicate": "[\"(Emp_ID#8357L = 1)\"]"
         },
         null,
         [
          "841606920512230"
         ],
         "0305-103149-hic0xa2v",
         1,
         "WriteSerializable",
         false,
         {
          "executionTimeMs": "1473",
          "numAddedBytes": "38925",
          "numAddedChangeFiles": "0",
          "numAddedFiles": "1",
          "numCopiedRows": "999",
          "numDeletionVectorsAdded": "0",
          "numDeletionVectorsRemoved": "0",
          "numRemovedBytes": "38919",
          "numRemovedFiles": "1",
          "numUpdatedRows": "1",
          "rewriteTimeMs": "913",
          "scanTimeMs": "559"
         },
         null,
         "Databricks-Runtime/12.2.x-scala2.12"
        ],
        [
         1,
         "2025-03-05T10:53:31.000+0000",
         "2187969817410935",
         "jithinvyas2001@gmail.com",
         "CREATE OR REPLACE TABLE AS SELECT",
         {
          "description": null,
          "isManaged": "false",
          "partitionBy": "[]",
          "properties": "{}"
         },
         null,
         [
          "841606920512230"
         ],
         "0305-103149-hic0xa2v",
         0,
         "WriteSerializable",
         false,
         {
          "numFiles": "1",
          "numOutputBytes": "38919",
          "numOutputRows": "1000"
         },
         null,
         "Databricks-Runtime/12.2.x-scala2.12"
        ],
        [
         0,
         "2025-03-05T10:48:18.000+0000",
         "2187969817410935",
         "jithinvyas2001@gmail.com",
         "CREATE OR REPLACE TABLE AS SELECT",
         {
          "description": null,
          "isManaged": "false",
          "partitionBy": "[]",
          "properties": "{}"
         },
         null,
         [
          "841606920512230"
         ],
         "0305-103149-hic0xa2v",
         null,
         "WriteSerializable",
         false,
         {
          "numFiles": "1",
          "numOutputBytes": "38919",
          "numOutputRows": "1000"
         },
         null,
         "Databricks-Runtime/12.2.x-scala2.12"
        ]
       ],
       "datasetInfos": [],
       "dbfsResultPath": null,
       "isJsonSchema": true,
       "metadata": {},
       "overflow": false,
       "plotOptions": {
        "customPlotOptions": {},
        "displayType": "table",
        "pivotAggregation": null,
        "pivotColumns": null,
        "xColumns": null,
        "yColumns": null
       },
       "removedWidgets": [],
       "schema": [
        {
         "metadata": "{}",
         "name": "version",
         "type": "\"long\""
        },
        {
         "metadata": "{}",
         "name": "timestamp",
         "type": "\"timestamp\""
        },
        {
         "metadata": "{}",
         "name": "userId",
         "type": "\"string\""
        },
        {
         "metadata": "{}",
         "name": "userName",
         "type": "\"string\""
        },
        {
         "metadata": "{}",
         "name": "operation",
         "type": "\"string\""
        },
        {
         "metadata": "{}",
         "name": "operationParameters",
         "type": "{\"type\":\"map\",\"keyType\":\"string\",\"valueType\":\"string\",\"valueContainsNull\":true}"
        },
        {
         "metadata": "{}",
         "name": "job",
         "type": "{\"type\":\"struct\",\"fields\":[{\"name\":\"jobId\",\"type\":\"string\",\"nullable\":true,\"metadata\":{}},{\"name\":\"jobName\",\"type\":\"string\",\"nullable\":true,\"metadata\":{}},{\"name\":\"jobRunId\",\"type\":\"string\",\"nullable\":true,\"metadata\":{}},{\"name\":\"runId\",\"type\":\"string\",\"nullable\":true,\"metadata\":{}},{\"name\":\"jobOwnerId\",\"type\":\"string\",\"nullable\":true,\"metadata\":{}},{\"name\":\"triggerType\",\"type\":\"string\",\"nullable\":true,\"metadata\":{}}]}"
        },
        {
         "metadata": "{}",
         "name": "notebook",
         "type": "{\"type\":\"struct\",\"fields\":[{\"name\":\"notebookId\",\"type\":\"string\",\"nullable\":true,\"metadata\":{}}]}"
        },
        {
         "metadata": "{}",
         "name": "clusterId",
         "type": "\"string\""
        },
        {
         "metadata": "{}",
         "name": "readVersion",
         "type": "\"long\""
        },
        {
         "metadata": "{}",
         "name": "isolationLevel",
         "type": "\"string\""
        },
        {
         "metadata": "{}",
         "name": "isBlindAppend",
         "type": "\"boolean\""
        },
        {
         "metadata": "{}",
         "name": "operationMetrics",
         "type": "{\"type\":\"map\",\"keyType\":\"string\",\"valueType\":\"string\",\"valueContainsNull\":true}"
        },
        {
         "metadata": "{}",
         "name": "userMetadata",
         "type": "\"string\""
        },
        {
         "metadata": "{}",
         "name": "engineInfo",
         "type": "\"string\""
        }
       ],
       "type": "table"
      }
     },
     "output_type": "display_data"
    },
    {
     "output_type": "stream",
     "name": "stdout",
     "output_type": "stream",
     "text": [
      "+------------------------+-------+---------------------------------+------------------------------------------------------------------------------+\n|UserName                |Version|Operation                        |OperationParameters                                                           |\n+------------------------+-------+---------------------------------+------------------------------------------------------------------------------+\n|jithinvyas2001@gmail.com|3      |DELETE                           |{predicate -> [\"isnull(Relocation#9021)\"]}                                    |\n|jithinvyas2001@gmail.com|2      |UPDATE                           |{predicate -> [\"(Emp_ID#8357L = 1)\"]}                                         |\n|jithinvyas2001@gmail.com|1      |CREATE OR REPLACE TABLE AS SELECT|{isManaged -> false, description -> null, partitionBy -> [], properties -> {}}|\n|jithinvyas2001@gmail.com|0      |CREATE OR REPLACE TABLE AS SELECT|{isManaged -> false, description -> null, partitionBy -> [], properties -> {}}|\n+------------------------+-------+---------------------------------+------------------------------------------------------------------------------+\n\n"
     ]
    }
   ],
   "source": [
    "df_sql = spark.sql(\"Describe history deltatable1\")\n",
    "display(df_sql)\n",
    "df_sql.select('UserName','Version', 'Operation', 'OperationParameters').show(truncate=False)"
   ]
  },
  {
   "cell_type": "markdown",
   "metadata": {
    "application/vnd.databricks.v1+cell": {
     "cellMetadata": {
      "byteLimit": 2048000,
      "rowLimit": 10000
     },
     "inputWidgets": {},
     "nuid": "7887f522-3545-4977-817c-8a4bbf0ad78c",
     "showTitle": false,
     "tableResultSettingsMap": {},
     "title": ""
    }
   },
   "source": [
    "if delete step was a mistake and **version-1** is necessary now. Just see it"
   ]
  },
  {
   "cell_type": "code",
   "execution_count": 0,
   "metadata": {
    "application/vnd.databricks.v1+cell": {
     "cellMetadata": {
      "byteLimit": 2048000,
      "implicitDf": true,
      "rowLimit": 10000
     },
     "inputWidgets": {},
     "nuid": "bf4f0b9d-dbca-4ff1-83c1-a74343ccc219",
     "showTitle": false,
     "tableResultSettingsMap": {},
     "title": ""
    }
   },
   "outputs": [
    {
     "output_type": "display_data",
     "data": {
      "text/html": [
       "<style scoped>\n",
       "  .table-result-container {\n",
       "    max-height: 300px;\n",
       "    overflow: auto;\n",
       "  }\n",
       "  table, th, td {\n",
       "    border: 1px solid black;\n",
       "    border-collapse: collapse;\n",
       "  }\n",
       "  th, td {\n",
       "    padding: 5px;\n",
       "  }\n",
       "  th {\n",
       "    text-align: left;\n",
       "  }\n",
       "</style><div class='table-result-container'><table class='table-result'><thead style='background-color: white'><tr><th>TotalRows</th></tr></thead><tbody><tr><td>1000</td></tr></tbody></table></div>"
      ]
     },
     "metadata": {
      "application/vnd.databricks.v1+output": {
       "addedWidgets": {},
       "aggData": [],
       "aggError": "",
       "aggOverflow": false,
       "aggSchema": [],
       "aggSeriesLimitReached": false,
       "aggType": "",
       "arguments": {},
       "columnCustomDisplayInfos": {},
       "data": [
        [
         1000
        ]
       ],
       "datasetInfos": [],
       "dbfsResultPath": null,
       "isJsonSchema": true,
       "metadata": {},
       "overflow": false,
       "plotOptions": {
        "customPlotOptions": {},
        "displayType": "table",
        "pivotAggregation": null,
        "pivotColumns": null,
        "xColumns": null,
        "yColumns": null
       },
       "removedWidgets": [],
       "schema": [
        {
         "metadata": "{}",
         "name": "TotalRows",
         "type": "\"long\""
        }
       ],
       "type": "table"
      }
     },
     "output_type": "display_data"
    }
   ],
   "source": [
    "%sql\n",
    "select count(*) as TotalRows from deltatable1\n",
    "version as of 1"
   ]
  },
  {
   "cell_type": "markdown",
   "metadata": {
    "application/vnd.databricks.v1+cell": {
     "cellMetadata": {
      "byteLimit": 2048000,
      "rowLimit": 10000
     },
     "inputWidgets": {},
     "nuid": "c2c95b9d-a631-4a1b-bcca-ba2eb6992cf9",
     "showTitle": false,
     "tableResultSettingsMap": {},
     "title": ""
    }
   },
   "source": [
    "**Restore** previous version"
   ]
  },
  {
   "cell_type": "code",
   "execution_count": 0,
   "metadata": {
    "application/vnd.databricks.v1+cell": {
     "cellMetadata": {
      "byteLimit": 2048000,
      "implicitDf": true,
      "rowLimit": 10000
     },
     "inputWidgets": {},
     "nuid": "48e616e0-c1d1-4a2f-a589-bc323b62e0d7",
     "showTitle": false,
     "tableResultSettingsMap": {},
     "title": ""
    }
   },
   "outputs": [
    {
     "output_type": "display_data",
     "data": {
      "text/html": [
       "<style scoped>\n",
       "  .table-result-container {\n",
       "    max-height: 300px;\n",
       "    overflow: auto;\n",
       "  }\n",
       "  table, th, td {\n",
       "    border: 1px solid black;\n",
       "    border-collapse: collapse;\n",
       "  }\n",
       "  th, td {\n",
       "    padding: 5px;\n",
       "  }\n",
       "  th {\n",
       "    text-align: left;\n",
       "  }\n",
       "</style><div class='table-result-container'><table class='table-result'><thead style='background-color: white'><tr><th>table_size_after_restore</th><th>num_of_files_after_restore</th><th>num_removed_files</th><th>num_restored_files</th><th>removed_files_size</th><th>restored_files_size</th></tr></thead><tbody><tr><td>38919</td><td>1</td><td>1</td><td>1</td><td>37342</td><td>38919</td></tr></tbody></table></div>"
      ]
     },
     "metadata": {
      "application/vnd.databricks.v1+output": {
       "addedWidgets": {},
       "aggData": [],
       "aggError": "",
       "aggOverflow": false,
       "aggSchema": [],
       "aggSeriesLimitReached": false,
       "aggType": "",
       "arguments": {},
       "columnCustomDisplayInfos": {},
       "data": [
        [
         38919,
         1,
         1,
         1,
         37342,
         38919
        ]
       ],
       "datasetInfos": [],
       "dbfsResultPath": null,
       "isJsonSchema": true,
       "metadata": {},
       "overflow": false,
       "plotOptions": {
        "customPlotOptions": {},
        "displayType": "table",
        "pivotAggregation": null,
        "pivotColumns": null,
        "xColumns": null,
        "yColumns": null
       },
       "removedWidgets": [],
       "schema": [
        {
         "metadata": "{}",
         "name": "table_size_after_restore",
         "type": "\"long\""
        },
        {
         "metadata": "{}",
         "name": "num_of_files_after_restore",
         "type": "\"long\""
        },
        {
         "metadata": "{}",
         "name": "num_removed_files",
         "type": "\"long\""
        },
        {
         "metadata": "{}",
         "name": "num_restored_files",
         "type": "\"long\""
        },
        {
         "metadata": "{}",
         "name": "removed_files_size",
         "type": "\"long\""
        },
        {
         "metadata": "{}",
         "name": "restored_files_size",
         "type": "\"long\""
        }
       ],
       "type": "table"
      }
     },
     "output_type": "display_data"
    }
   ],
   "source": [
    "%sql\n",
    "restore table deltatable1\n",
    "version as of 1"
   ]
  },
  {
   "cell_type": "markdown",
   "metadata": {
    "application/vnd.databricks.v1+cell": {
     "cellMetadata": {
      "byteLimit": 2048000,
      "rowLimit": 10000
     },
     "inputWidgets": {},
     "nuid": "b4a595ba-70ae-4443-84fb-212bcf7f80b0",
     "showTitle": false,
     "tableResultSettingsMap": {},
     "title": ""
    }
   },
   "source": [
    "verify results"
   ]
  },
  {
   "cell_type": "code",
   "execution_count": 0,
   "metadata": {
    "application/vnd.databricks.v1+cell": {
     "cellMetadata": {
      "byteLimit": 2048000,
      "implicitDf": true,
      "rowLimit": 10000
     },
     "inputWidgets": {},
     "nuid": "92e6a1c2-e20d-40a5-ac1e-09fce69bf2af",
     "showTitle": false,
     "tableResultSettingsMap": {},
     "title": ""
    }
   },
   "outputs": [
    {
     "output_type": "display_data",
     "data": {
      "text/html": [
       "<style scoped>\n",
       "  .table-result-container {\n",
       "    max-height: 300px;\n",
       "    overflow: auto;\n",
       "  }\n",
       "  table, th, td {\n",
       "    border: 1px solid black;\n",
       "    border-collapse: collapse;\n",
       "  }\n",
       "  th, td {\n",
       "    padding: 5px;\n",
       "  }\n",
       "  th {\n",
       "    text-align: left;\n",
       "  }\n",
       "</style><div class='table-result-container'><table class='table-result'><thead style='background-color: white'><tr><th>TotalRows</th></tr></thead><tbody><tr><td>1000</td></tr></tbody></table></div>"
      ]
     },
     "metadata": {
      "application/vnd.databricks.v1+output": {
       "addedWidgets": {},
       "aggData": [],
       "aggError": "",
       "aggOverflow": false,
       "aggSchema": [],
       "aggSeriesLimitReached": false,
       "aggType": "",
       "arguments": {},
       "columnCustomDisplayInfos": {},
       "data": [
        [
         1000
        ]
       ],
       "datasetInfos": [],
       "dbfsResultPath": null,
       "isJsonSchema": true,
       "metadata": {},
       "overflow": false,
       "plotOptions": {
        "customPlotOptions": {},
        "displayType": "table",
        "pivotAggregation": null,
        "pivotColumns": null,
        "xColumns": null,
        "yColumns": null
       },
       "removedWidgets": [],
       "schema": [
        {
         "metadata": "{}",
         "name": "TotalRows",
         "type": "\"long\""
        }
       ],
       "type": "table"
      }
     },
     "output_type": "display_data"
    }
   ],
   "source": [
    "%sql\n",
    "select count(*) as TotalRows from deltatable1"
   ]
  },
  {
   "cell_type": "markdown",
   "metadata": {
    "application/vnd.databricks.v1+cell": {
     "cellMetadata": {
      "byteLimit": 2048000,
      "rowLimit": 10000
     },
     "inputWidgets": {},
     "nuid": "cbeb74d6-637f-469d-accf-34cebabc10a0",
     "showTitle": false,
     "tableResultSettingsMap": {},
     "title": ""
    }
   },
   "source": [
    "to know what has been done so far, have a look on logs table"
   ]
  },
  {
   "cell_type": "code",
   "execution_count": 0,
   "metadata": {
    "application/vnd.databricks.v1+cell": {
     "cellMetadata": {
      "byteLimit": 2048000,
      "implicitDf": true,
      "rowLimit": 10000
     },
     "inputWidgets": {},
     "nuid": "510a34e5-da4b-48ac-a764-009593a832cf",
     "showTitle": false,
     "tableResultSettingsMap": {},
     "title": ""
    }
   },
   "outputs": [
    {
     "output_type": "display_data",
     "data": {
      "text/html": [
       "<style scoped>\n",
       "  .table-result-container {\n",
       "    max-height: 300px;\n",
       "    overflow: auto;\n",
       "  }\n",
       "  table, th, td {\n",
       "    border: 1px solid black;\n",
       "    border-collapse: collapse;\n",
       "  }\n",
       "  th, td {\n",
       "    padding: 5px;\n",
       "  }\n",
       "  th {\n",
       "    text-align: left;\n",
       "  }\n",
       "</style><div class='table-result-container'><table class='table-result'><thead style='background-color: white'><tr><th>version</th><th>timestamp</th><th>userId</th><th>userName</th><th>operation</th><th>operationParameters</th><th>job</th><th>notebook</th><th>clusterId</th><th>readVersion</th><th>isolationLevel</th><th>isBlindAppend</th><th>operationMetrics</th><th>userMetadata</th><th>engineInfo</th></tr></thead><tbody><tr><td>4</td><td>2025-03-05T10:54:14.000+0000</td><td>2187969817410935</td><td>jithinvyas2001@gmail.com</td><td>RESTORE</td><td>Map(version -> 1, timestamp -> null)</td><td>null</td><td>List(841606920512230)</td><td>0305-103149-hic0xa2v</td><td>3</td><td>Serializable</td><td>false</td><td>Map(numRestoredFiles -> 1, removedFilesSize -> 37342, numRemovedFiles -> 1, restoredFilesSize -> 38919, numOfFilesAfterRestore -> 1, tableSizeAfterRestore -> 38919)</td><td>null</td><td>Databricks-Runtime/12.2.x-scala2.12</td></tr><tr><td>3</td><td>2025-03-05T10:53:43.000+0000</td><td>2187969817410935</td><td>jithinvyas2001@gmail.com</td><td>DELETE</td><td>Map(predicate -> [\"isnull(Relocation#9021)\"])</td><td>null</td><td>List(841606920512230)</td><td>0305-103149-hic0xa2v</td><td>2</td><td>WriteSerializable</td><td>false</td><td>Map(numRemovedFiles -> 1, numRemovedBytes -> 38925, numCopiedRows -> 968, numDeletionVectorsAdded -> 0, numDeletionVectorsRemoved -> 0, numAddedChangeFiles -> 0, executionTimeMs -> 1921, numDeletedRows -> 32, scanTimeMs -> 1036, numAddedFiles -> 1, numAddedBytes -> 37342, rewriteTimeMs -> 884)</td><td>null</td><td>Databricks-Runtime/12.2.x-scala2.12</td></tr><tr><td>2</td><td>2025-03-05T10:53:39.000+0000</td><td>2187969817410935</td><td>jithinvyas2001@gmail.com</td><td>UPDATE</td><td>Map(predicate -> [\"(Emp_ID#8357L = 1)\"])</td><td>null</td><td>List(841606920512230)</td><td>0305-103149-hic0xa2v</td><td>1</td><td>WriteSerializable</td><td>false</td><td>Map(numRemovedFiles -> 1, numRemovedBytes -> 38919, numCopiedRows -> 999, numDeletionVectorsAdded -> 0, numDeletionVectorsRemoved -> 0, numAddedChangeFiles -> 0, executionTimeMs -> 1473, scanTimeMs -> 559, numAddedFiles -> 1, numUpdatedRows -> 1, numAddedBytes -> 38925, rewriteTimeMs -> 913)</td><td>null</td><td>Databricks-Runtime/12.2.x-scala2.12</td></tr><tr><td>1</td><td>2025-03-05T10:53:31.000+0000</td><td>2187969817410935</td><td>jithinvyas2001@gmail.com</td><td>CREATE OR REPLACE TABLE AS SELECT</td><td>Map(isManaged -> false, description -> null, partitionBy -> [], properties -> {})</td><td>null</td><td>List(841606920512230)</td><td>0305-103149-hic0xa2v</td><td>0</td><td>WriteSerializable</td><td>false</td><td>Map(numFiles -> 1, numOutputRows -> 1000, numOutputBytes -> 38919)</td><td>null</td><td>Databricks-Runtime/12.2.x-scala2.12</td></tr><tr><td>0</td><td>2025-03-05T10:48:18.000+0000</td><td>2187969817410935</td><td>jithinvyas2001@gmail.com</td><td>CREATE OR REPLACE TABLE AS SELECT</td><td>Map(isManaged -> false, description -> null, partitionBy -> [], properties -> {})</td><td>null</td><td>List(841606920512230)</td><td>0305-103149-hic0xa2v</td><td>null</td><td>WriteSerializable</td><td>false</td><td>Map(numFiles -> 1, numOutputRows -> 1000, numOutputBytes -> 38919)</td><td>null</td><td>Databricks-Runtime/12.2.x-scala2.12</td></tr></tbody></table></div>"
      ]
     },
     "metadata": {
      "application/vnd.databricks.v1+output": {
       "addedWidgets": {},
       "aggData": [],
       "aggError": "",
       "aggOverflow": false,
       "aggSchema": [],
       "aggSeriesLimitReached": false,
       "aggType": "",
       "arguments": {},
       "columnCustomDisplayInfos": {},
       "data": [
        [
         4,
         "2025-03-05T10:54:14.000+0000",
         "2187969817410935",
         "jithinvyas2001@gmail.com",
         "RESTORE",
         {
          "timestamp": null,
          "version": "1"
         },
         null,
         [
          "841606920512230"
         ],
         "0305-103149-hic0xa2v",
         3,
         "Serializable",
         false,
         {
          "numOfFilesAfterRestore": "1",
          "numRemovedFiles": "1",
          "numRestoredFiles": "1",
          "removedFilesSize": "37342",
          "restoredFilesSize": "38919",
          "tableSizeAfterRestore": "38919"
         },
         null,
         "Databricks-Runtime/12.2.x-scala2.12"
        ],
        [
         3,
         "2025-03-05T10:53:43.000+0000",
         "2187969817410935",
         "jithinvyas2001@gmail.com",
         "DELETE",
         {
          "predicate": "[\"isnull(Relocation#9021)\"]"
         },
         null,
         [
          "841606920512230"
         ],
         "0305-103149-hic0xa2v",
         2,
         "WriteSerializable",
         false,
         {
          "executionTimeMs": "1921",
          "numAddedBytes": "37342",
          "numAddedChangeFiles": "0",
          "numAddedFiles": "1",
          "numCopiedRows": "968",
          "numDeletedRows": "32",
          "numDeletionVectorsAdded": "0",
          "numDeletionVectorsRemoved": "0",
          "numRemovedBytes": "38925",
          "numRemovedFiles": "1",
          "rewriteTimeMs": "884",
          "scanTimeMs": "1036"
         },
         null,
         "Databricks-Runtime/12.2.x-scala2.12"
        ],
        [
         2,
         "2025-03-05T10:53:39.000+0000",
         "2187969817410935",
         "jithinvyas2001@gmail.com",
         "UPDATE",
         {
          "predicate": "[\"(Emp_ID#8357L = 1)\"]"
         },
         null,
         [
          "841606920512230"
         ],
         "0305-103149-hic0xa2v",
         1,
         "WriteSerializable",
         false,
         {
          "executionTimeMs": "1473",
          "numAddedBytes": "38925",
          "numAddedChangeFiles": "0",
          "numAddedFiles": "1",
          "numCopiedRows": "999",
          "numDeletionVectorsAdded": "0",
          "numDeletionVectorsRemoved": "0",
          "numRemovedBytes": "38919",
          "numRemovedFiles": "1",
          "numUpdatedRows": "1",
          "rewriteTimeMs": "913",
          "scanTimeMs": "559"
         },
         null,
         "Databricks-Runtime/12.2.x-scala2.12"
        ],
        [
         1,
         "2025-03-05T10:53:31.000+0000",
         "2187969817410935",
         "jithinvyas2001@gmail.com",
         "CREATE OR REPLACE TABLE AS SELECT",
         {
          "description": null,
          "isManaged": "false",
          "partitionBy": "[]",
          "properties": "{}"
         },
         null,
         [
          "841606920512230"
         ],
         "0305-103149-hic0xa2v",
         0,
         "WriteSerializable",
         false,
         {
          "numFiles": "1",
          "numOutputBytes": "38919",
          "numOutputRows": "1000"
         },
         null,
         "Databricks-Runtime/12.2.x-scala2.12"
        ],
        [
         0,
         "2025-03-05T10:48:18.000+0000",
         "2187969817410935",
         "jithinvyas2001@gmail.com",
         "CREATE OR REPLACE TABLE AS SELECT",
         {
          "description": null,
          "isManaged": "false",
          "partitionBy": "[]",
          "properties": "{}"
         },
         null,
         [
          "841606920512230"
         ],
         "0305-103149-hic0xa2v",
         null,
         "WriteSerializable",
         false,
         {
          "numFiles": "1",
          "numOutputBytes": "38919",
          "numOutputRows": "1000"
         },
         null,
         "Databricks-Runtime/12.2.x-scala2.12"
        ]
       ],
       "datasetInfos": [],
       "dbfsResultPath": null,
       "isJsonSchema": true,
       "metadata": {},
       "overflow": false,
       "plotOptions": {
        "customPlotOptions": {},
        "displayType": "table",
        "pivotAggregation": null,
        "pivotColumns": null,
        "xColumns": null,
        "yColumns": null
       },
       "removedWidgets": [],
       "schema": [
        {
         "metadata": "{}",
         "name": "version",
         "type": "\"long\""
        },
        {
         "metadata": "{}",
         "name": "timestamp",
         "type": "\"timestamp\""
        },
        {
         "metadata": "{}",
         "name": "userId",
         "type": "\"string\""
        },
        {
         "metadata": "{}",
         "name": "userName",
         "type": "\"string\""
        },
        {
         "metadata": "{}",
         "name": "operation",
         "type": "\"string\""
        },
        {
         "metadata": "{}",
         "name": "operationParameters",
         "type": "{\"type\":\"map\",\"keyType\":\"string\",\"valueType\":\"string\",\"valueContainsNull\":true}"
        },
        {
         "metadata": "{}",
         "name": "job",
         "type": "{\"type\":\"struct\",\"fields\":[{\"name\":\"jobId\",\"type\":\"string\",\"nullable\":true,\"metadata\":{}},{\"name\":\"jobName\",\"type\":\"string\",\"nullable\":true,\"metadata\":{}},{\"name\":\"jobRunId\",\"type\":\"string\",\"nullable\":true,\"metadata\":{}},{\"name\":\"runId\",\"type\":\"string\",\"nullable\":true,\"metadata\":{}},{\"name\":\"jobOwnerId\",\"type\":\"string\",\"nullable\":true,\"metadata\":{}},{\"name\":\"triggerType\",\"type\":\"string\",\"nullable\":true,\"metadata\":{}}]}"
        },
        {
         "metadata": "{}",
         "name": "notebook",
         "type": "{\"type\":\"struct\",\"fields\":[{\"name\":\"notebookId\",\"type\":\"string\",\"nullable\":true,\"metadata\":{}}]}"
        },
        {
         "metadata": "{}",
         "name": "clusterId",
         "type": "\"string\""
        },
        {
         "metadata": "{}",
         "name": "readVersion",
         "type": "\"long\""
        },
        {
         "metadata": "{}",
         "name": "isolationLevel",
         "type": "\"string\""
        },
        {
         "metadata": "{}",
         "name": "isBlindAppend",
         "type": "\"boolean\""
        },
        {
         "metadata": "{}",
         "name": "operationMetrics",
         "type": "{\"type\":\"map\",\"keyType\":\"string\",\"valueType\":\"string\",\"valueContainsNull\":true}"
        },
        {
         "metadata": "{}",
         "name": "userMetadata",
         "type": "\"string\""
        },
        {
         "metadata": "{}",
         "name": "engineInfo",
         "type": "\"string\""
        }
       ],
       "type": "table"
      }
     },
     "output_type": "display_data"
    },
    {
     "output_type": "stream",
     "name": "stdout",
     "output_type": "stream",
     "text": [
      "+------------------------+-------+---------------------------------+------------------------------------------------------------------------------+\n|UserName                |Version|Operation                        |OperationParameters                                                           |\n+------------------------+-------+---------------------------------+------------------------------------------------------------------------------+\n|jithinvyas2001@gmail.com|4      |RESTORE                          |{version -> 1, timestamp -> null}                                             |\n|jithinvyas2001@gmail.com|3      |DELETE                           |{predicate -> [\"isnull(Relocation#9021)\"]}                                    |\n|jithinvyas2001@gmail.com|2      |UPDATE                           |{predicate -> [\"(Emp_ID#8357L = 1)\"]}                                         |\n|jithinvyas2001@gmail.com|1      |CREATE OR REPLACE TABLE AS SELECT|{isManaged -> false, description -> null, partitionBy -> [], properties -> {}}|\n|jithinvyas2001@gmail.com|0      |CREATE OR REPLACE TABLE AS SELECT|{isManaged -> false, description -> null, partitionBy -> [], properties -> {}}|\n+------------------------+-------+---------------------------------+------------------------------------------------------------------------------+\n\n"
     ]
    }
   ],
   "source": [
    "df_sql = spark.sql(\"Describe history deltatable1\")\n",
    "display(df_sql)\n",
    "df_sql.select('UserName','Version', 'Operation', 'OperationParameters').show(truncate=False)"
   ]
  },
  {
   "cell_type": "code",
   "execution_count": 0,
   "metadata": {
    "application/vnd.databricks.v1+cell": {
     "cellMetadata": {
      "byteLimit": 2048000,
      "implicitDf": true,
      "rowLimit": 10000
     },
     "inputWidgets": {},
     "nuid": "ffca5e25-778a-433f-8d47-368c9043f04f",
     "showTitle": false,
     "tableResultSettingsMap": {},
     "title": ""
    }
   },
   "outputs": [
    {
     "output_type": "display_data",
     "data": {
      "text/html": [
       "<style scoped>\n",
       "  .table-result-container {\n",
       "    max-height: 300px;\n",
       "    overflow: auto;\n",
       "  }\n",
       "  table, th, td {\n",
       "    border: 1px solid black;\n",
       "    border-collapse: collapse;\n",
       "  }\n",
       "  th, td {\n",
       "    padding: 5px;\n",
       "  }\n",
       "  th {\n",
       "    text-align: left;\n",
       "  }\n",
       "</style><div class='table-result-container'><table class='table-result'><thead style='background-color: white'><tr><th>Emp_ID</th><th>Emp_Name</th><th>contract</th><th>gender</th><th>Country</th><th>DOJ</th><th>salary</th><th>Relocation</th><th>Gen_Repr</th></tr></thead><tbody><tr><td>1</td><td>Kara</td><td>+853 410 196 7317</td><td>Female</td><td>Macao</td><td>2021-06-27</td><td>709117.56</td><td>true</td><td>2</td></tr><tr><td>2</td><td>Hillier</td><td>+7 511 334 2980</td><td>Male</td><td>Russia</td><td>2022-08-20</td><td>null</td><td>false</td><td>5</td></tr><tr><td>3</td><td>Sayre</td><td>+57 983 888 4293</td><td>Female</td><td>Colombia</td><td>2022-11-30</td><td>78402.39</td><td>true</td><td>2</td></tr><tr><td>4</td><td>Roley</td><td>+95 337 327 0628</td><td>Male</td><td>Myanmar</td><td>2022-12-26</td><td>641503.4</td><td>true</td><td>5</td></tr><tr><td>5</td><td>Merrielle</td><td>+62 862 968 5847</td><td>Female</td><td>Indonesia</td><td>2022-03-24</td><td>null</td><td>null</td><td>2</td></tr></tbody></table></div>"
      ]
     },
     "metadata": {
      "application/vnd.databricks.v1+output": {
       "addedWidgets": {},
       "aggData": [],
       "aggError": "",
       "aggOverflow": false,
       "aggSchema": [],
       "aggSeriesLimitReached": false,
       "aggType": "",
       "arguments": {},
       "columnCustomDisplayInfos": {},
       "data": [
        [
         1,
         "Kara",
         "+853 410 196 7317",
         "Female",
         "Macao",
         "2021-06-27",
         709117.56,
         true,
         2
        ],
        [
         2,
         "Hillier",
         "+7 511 334 2980",
         "Male",
         "Russia",
         "2022-08-20",
         null,
         false,
         5
        ],
        [
         3,
         "Sayre",
         "+57 983 888 4293",
         "Female",
         "Colombia",
         "2022-11-30",
         78402.39,
         true,
         2
        ],
        [
         4,
         "Roley",
         "+95 337 327 0628",
         "Male",
         "Myanmar",
         "2022-12-26",
         641503.4,
         true,
         5
        ],
        [
         5,
         "Merrielle",
         "+62 862 968 5847",
         "Female",
         "Indonesia",
         "2022-03-24",
         null,
         null,
         2
        ]
       ],
       "datasetInfos": [],
       "dbfsResultPath": null,
       "isJsonSchema": true,
       "metadata": {},
       "overflow": false,
       "plotOptions": {
        "customPlotOptions": {},
        "displayType": "table",
        "pivotAggregation": null,
        "pivotColumns": null,
        "xColumns": null,
        "yColumns": null
       },
       "removedWidgets": [],
       "schema": [
        {
         "metadata": "{}",
         "name": "Emp_ID",
         "type": "\"long\""
        },
        {
         "metadata": "{}",
         "name": "Emp_Name",
         "type": "\"string\""
        },
        {
         "metadata": "{}",
         "name": "contract",
         "type": "\"string\""
        },
        {
         "metadata": "{}",
         "name": "gender",
         "type": "\"string\""
        },
        {
         "metadata": "{}",
         "name": "Country",
         "type": "\"string\""
        },
        {
         "metadata": "{}",
         "name": "DOJ",
         "type": "\"date\""
        },
        {
         "metadata": "{}",
         "name": "salary",
         "type": "\"float\""
        },
        {
         "metadata": "{}",
         "name": "Relocation",
         "type": "\"boolean\""
        },
        {
         "metadata": "{}",
         "name": "Gen_Repr",
         "type": "\"integer\""
        }
       ],
       "type": "table"
      }
     },
     "output_type": "display_data"
    }
   ],
   "source": [
    "%sql\n",
    "select * from deltatable1\n",
    "limit 5"
   ]
  },
  {
   "cell_type": "code",
   "execution_count": 0,
   "metadata": {
    "application/vnd.databricks.v1+cell": {
     "cellMetadata": {
      "byteLimit": 2048000,
      "rowLimit": 10000
     },
     "inputWidgets": {},
     "nuid": "a0ac9ed0-ef1d-4c8b-ad84-2952012f5519",
     "showTitle": false,
     "tableResultSettingsMap": {},
     "title": ""
    }
   },
   "outputs": [
    {
     "output_type": "display_data",
     "data": {
      "text/html": [
       "<style scoped>\n",
       "  .table-result-container {\n",
       "    max-height: 300px;\n",
       "    overflow: auto;\n",
       "  }\n",
       "  table, th, td {\n",
       "    border: 1px solid black;\n",
       "    border-collapse: collapse;\n",
       "  }\n",
       "  th, td {\n",
       "    padding: 5px;\n",
       "  }\n",
       "  th {\n",
       "    text-align: left;\n",
       "  }\n",
       "</style><div class='table-result-container'><table class='table-result'><thead style='background-color: white'><tr><th>col_name</th><th>data_type</th><th>comment</th></tr></thead><tbody><tr><td>Emp_ID</td><td>bigint</td><td>null</td></tr><tr><td>Emp_Name</td><td>string</td><td>null</td></tr><tr><td>contract</td><td>string</td><td>null</td></tr><tr><td>gender</td><td>string</td><td>null</td></tr><tr><td>Country</td><td>string</td><td>null</td></tr><tr><td>DOJ</td><td>date</td><td>null</td></tr><tr><td>salary</td><td>float</td><td>null</td></tr><tr><td>Relocation</td><td>boolean</td><td>null</td></tr><tr><td>Gen_Repr</td><td>int</td><td>null</td></tr><tr><td></td><td></td><td></td></tr><tr><td># Detailed Table Information</td><td></td><td></td></tr><tr><td>Catalog</td><td>spark_catalog</td><td></td></tr><tr><td>Database</td><td>default</td><td></td></tr><tr><td>Table</td><td>deltatable1</td><td></td></tr><tr><td>Created Time</td><td>Wed Mar 05 10:53:32 UTC 2025</td><td></td></tr><tr><td>Last Access</td><td>UNKNOWN</td><td></td></tr><tr><td>Created By</td><td>Spark 3.3.2</td><td></td></tr><tr><td>Type</td><td>EXTERNAL</td><td></td></tr><tr><td>Location</td><td>dbfs:/tables/delta</td><td></td></tr><tr><td>Provider</td><td>delta</td><td></td></tr><tr><td>Owner</td><td>root</td><td></td></tr><tr><td>Table Properties</td><td>[delta.minReaderVersion=1,delta.minWriterVersion=2]</td><td></td></tr></tbody></table></div>"
      ]
     },
     "metadata": {
      "application/vnd.databricks.v1+output": {
       "addedWidgets": {},
       "aggData": [],
       "aggError": "",
       "aggOverflow": false,
       "aggSchema": [],
       "aggSeriesLimitReached": false,
       "aggType": "",
       "arguments": {},
       "columnCustomDisplayInfos": {},
       "data": [
        [
         "Emp_ID",
         "bigint",
         null
        ],
        [
         "Emp_Name",
         "string",
         null
        ],
        [
         "contract",
         "string",
         null
        ],
        [
         "gender",
         "string",
         null
        ],
        [
         "Country",
         "string",
         null
        ],
        [
         "DOJ",
         "date",
         null
        ],
        [
         "salary",
         "float",
         null
        ],
        [
         "Relocation",
         "boolean",
         null
        ],
        [
         "Gen_Repr",
         "int",
         null
        ],
        [
         "",
         "",
         ""
        ],
        [
         "# Detailed Table Information",
         "",
         ""
        ],
        [
         "Catalog",
         "spark_catalog",
         ""
        ],
        [
         "Database",
         "default",
         ""
        ],
        [
         "Table",
         "deltatable1",
         ""
        ],
        [
         "Created Time",
         "Wed Mar 05 10:53:32 UTC 2025",
         ""
        ],
        [
         "Last Access",
         "UNKNOWN",
         ""
        ],
        [
         "Created By",
         "Spark 3.3.2",
         ""
        ],
        [
         "Type",
         "EXTERNAL",
         ""
        ],
        [
         "Location",
         "dbfs:/tables/delta",
         ""
        ],
        [
         "Provider",
         "delta",
         ""
        ],
        [
         "Owner",
         "root",
         ""
        ],
        [
         "Table Properties",
         "[delta.minReaderVersion=1,delta.minWriterVersion=2]",
         ""
        ]
       ],
       "datasetInfos": [],
       "dbfsResultPath": null,
       "isJsonSchema": true,
       "metadata": {},
       "overflow": false,
       "plotOptions": {
        "customPlotOptions": {},
        "displayType": "table",
        "pivotAggregation": null,
        "pivotColumns": null,
        "xColumns": null,
        "yColumns": null
       },
       "removedWidgets": [],
       "schema": [
        {
         "metadata": "{\"comment\":\"name of the column\"}",
         "name": "col_name",
         "type": "\"string\""
        },
        {
         "metadata": "{\"comment\":\"data type of the column\"}",
         "name": "data_type",
         "type": "\"string\""
        },
        {
         "metadata": "{\"comment\":\"comment of the column\"}",
         "name": "comment",
         "type": "\"string\""
        }
       ],
       "type": "table"
      }
     },
     "output_type": "display_data"
    }
   ],
   "source": [
    "display(spark.sql(\"DESCRIBE FORMATTED deltatable1\"))"
   ]
  },
  {
   "cell_type": "code",
   "execution_count": 0,
   "metadata": {
    "application/vnd.databricks.v1+cell": {
     "cellMetadata": {
      "byteLimit": 2048000,
      "rowLimit": 10000
     },
     "inputWidgets": {},
     "nuid": "6589fdd2-f108-4b8a-b409-a94e65a2a372",
     "showTitle": false,
     "tableResultSettingsMap": {},
     "title": ""
    }
   },
   "outputs": [
    {
     "output_type": "display_data",
     "data": {
      "text/html": [
       "<style scoped>\n",
       "  .table-result-container {\n",
       "    max-height: 300px;\n",
       "    overflow: auto;\n",
       "  }\n",
       "  table, th, td {\n",
       "    border: 1px solid black;\n",
       "    border-collapse: collapse;\n",
       "  }\n",
       "  th, td {\n",
       "    padding: 5px;\n",
       "  }\n",
       "  th {\n",
       "    text-align: left;\n",
       "  }\n",
       "</style><div class='table-result-container'><table class='table-result'><thead style='background-color: white'><tr><th>Emp_ID</th><th>Emp_Name</th><th>contract</th><th>gender</th><th>Country</th><th>DOJ</th><th>salary</th><th>Relocation</th><th>Gen_Repr</th></tr></thead><tbody><tr><td>1</td><td>Kara</td><td>+853 410 196 7317</td><td>Female</td><td>Macao</td><td>2021-06-27</td><td>709117.56</td><td>true</td><td>2</td></tr><tr><td>2</td><td>Hillier</td><td>+7 511 334 2980</td><td>Male</td><td>Russia</td><td>2022-08-20</td><td>null</td><td>false</td><td>5</td></tr></tbody></table></div>"
      ]
     },
     "metadata": {
      "application/vnd.databricks.v1+output": {
       "addedWidgets": {},
       "aggData": [],
       "aggError": "",
       "aggOverflow": false,
       "aggSchema": [],
       "aggSeriesLimitReached": false,
       "aggType": "",
       "arguments": {},
       "columnCustomDisplayInfos": {},
       "data": [
        [
         1,
         "Kara",
         "+853 410 196 7317",
         "Female",
         "Macao",
         "2021-06-27",
         709117.56,
         true,
         2
        ],
        [
         2,
         "Hillier",
         "+7 511 334 2980",
         "Male",
         "Russia",
         "2022-08-20",
         null,
         false,
         5
        ]
       ],
       "datasetInfos": [],
       "dbfsResultPath": null,
       "isJsonSchema": true,
       "metadata": {},
       "overflow": false,
       "plotOptions": {
        "customPlotOptions": {},
        "displayType": "table",
        "pivotAggregation": null,
        "pivotColumns": null,
        "xColumns": null,
        "yColumns": null
       },
       "removedWidgets": [],
       "schema": [
        {
         "metadata": "{}",
         "name": "Emp_ID",
         "type": "\"long\""
        },
        {
         "metadata": "{}",
         "name": "Emp_Name",
         "type": "\"string\""
        },
        {
         "metadata": "{}",
         "name": "contract",
         "type": "\"string\""
        },
        {
         "metadata": "{}",
         "name": "gender",
         "type": "\"string\""
        },
        {
         "metadata": "{}",
         "name": "Country",
         "type": "\"string\""
        },
        {
         "metadata": "{}",
         "name": "DOJ",
         "type": "\"date\""
        },
        {
         "metadata": "{}",
         "name": "salary",
         "type": "\"float\""
        },
        {
         "metadata": "{}",
         "name": "Relocation",
         "type": "\"boolean\""
        },
        {
         "metadata": "{}",
         "name": "Gen_Repr",
         "type": "\"integer\""
        }
       ],
       "type": "table"
      }
     },
     "output_type": "display_data"
    }
   ],
   "source": [
    "display(spark.table(\"default.deltatable1\").limit(2))"
   ]
  }
 ],
 "metadata": {
  "application/vnd.databricks.v1+notebook": {
   "computePreferences": null,
   "dashboards": [],
   "environmentMetadata": {
    "base_environment": "",
    "client": "1"
   },
   "language": "python",
   "notebookMetadata": {
    "mostRecentlyExecutedCommandWithImplicitDF": {
     "commandId": 399900487567675,
     "dataframes": [
      "_sqldf"
     ]
    },
    "pythonIndentUnit": 4
   },
   "notebookName": "delta table logs capture",
   "widgets": {}
  }
 },
 "nbformat": 4,
 "nbformat_minor": 0
}
