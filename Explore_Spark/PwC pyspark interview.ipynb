{
 "cells": [
  {
   "cell_type": "code",
   "execution_count": 0,
   "metadata": {
    "application/vnd.databricks.v1+cell": {
     "cellMetadata": {
      "byteLimit": 2048000,
      "rowLimit": 10000
     },
     "inputWidgets": {},
     "nuid": "0443f3cf-3d31-4b11-8846-0c61b7666b87",
     "showTitle": false,
     "tableResultSettingsMap": {},
     "title": ""
    }
   },
   "outputs": [],
   "source": [
    "from pyspark.sql.functions import *\n",
    "from pyspark.sql.types import *"
   ]
  },
  {
   "cell_type": "markdown",
   "metadata": {
    "application/vnd.databricks.v1+cell": {
     "cellMetadata": {},
     "inputWidgets": {},
     "nuid": "ff2e8f7c-d38b-406e-a9f9-ddd7fb83a2f2",
     "showTitle": false,
     "tableResultSettingsMap": {},
     "title": ""
    }
   },
   "source": [
    "### Read the CSV file and display its schema"
   ]
  },
  {
   "cell_type": "code",
   "execution_count": 0,
   "metadata": {
    "application/vnd.databricks.v1+cell": {
     "cellMetadata": {
      "byteLimit": 2048000,
      "rowLimit": 10000
     },
     "inputWidgets": {},
     "nuid": "90154a01-b1fe-45e5-9447-f0b3987807db",
     "showTitle": false,
     "tableResultSettingsMap": {},
     "title": ""
    }
   },
   "outputs": [
    {
     "output_type": "stream",
     "name": "stdout",
     "output_type": "stream",
     "text": [
      "root\n |-- Emp ID: integer (nullable = true)\n |-- Emp Name: string (nullable = true)\n |-- contract: string (nullable = true)\n |-- gender: string (nullable = true)\n |-- Country: string (nullable = true)\n |-- DOJ: date (nullable = true)\n |-- salary: string (nullable = true)\n |-- Relocation: boolean (nullable = true)\n\n"
     ]
    }
   ],
   "source": [
    "df = spark.read.csv(\"dbfs:/mockarrow/MOCK_DATA.csv\", header=True, inferSchema=True)\n",
    "df.printSchema()"
   ]
  },
  {
   "cell_type": "markdown",
   "metadata": {
    "application/vnd.databricks.v1+cell": {
     "cellMetadata": {},
     "inputWidgets": {},
     "nuid": "bed0d500-e97e-4a26-818a-7345bed2134f",
     "showTitle": false,
     "tableResultSettingsMap": {},
     "title": ""
    }
   },
   "source": [
    "### Handle missing or null values"
   ]
  },
  {
   "cell_type": "code",
   "execution_count": 0,
   "metadata": {
    "application/vnd.databricks.v1+cell": {
     "cellMetadata": {
      "byteLimit": 2048000,
      "rowLimit": 10000
     },
     "inputWidgets": {},
     "nuid": "6eb6e448-e656-4206-b767-0339e430b0b3",
     "showTitle": false,
     "tableResultSettingsMap": {},
     "title": ""
    }
   },
   "outputs": [
    {
     "output_type": "stream",
     "name": "stdout",
     "output_type": "stream",
     "text": [
      "missing rows: 926/ total rows: 1000\n\n+------+---------+-----------------+------+---------+----------+------+----------+\n|Emp ID| Emp Name|         contract|gender|  Country|       DOJ|salary|Relocation|\n+------+---------+-----------------+------+---------+----------+------+----------+\n|     2|  Hillier|  +7 511 334 2980|  Male|   Russia|2022-08-20|  null|     false|\n|     5|Merrielle| +62 862 968 5847|Female|Indonesia|2022-03-24|  null|      null|\n|    35|      Rae|+351 240 640 3610|Female| Portugal|2023-08-16|  null|      true|\n+------+---------+-----------------+------+---------+----------+------+----------+\nonly showing top 3 rows\n\n+------+---------+-----------------+------+---------+----------+------+----------+\n|Emp ID| Emp Name|         contract|gender|  Country|       DOJ|salary|Relocation|\n+------+---------+-----------------+------+---------+----------+------+----------+\n|     2|  Hillier|  +7 511 334 2980|  Male|   Russia|2022-08-20|     0|     false|\n|     5|Merrielle| +62 862 968 5847|Female|Indonesia|2022-03-24|     0|      null|\n|    35|      Rae|+351 240 640 3610|Female| Portugal|2023-08-16|     0|      true|\n+------+---------+-----------------+------+---------+----------+------+----------+\nonly showing top 3 rows\n\n"
     ]
    }
   ],
   "source": [
    "print(f\"missing rows: {df.dropna(subset='salary').count()}/ total rows: {df.count()}\")\n",
    "print()\n",
    "df.filter(\"salary is null\").show(3)\n",
    "df.na.fill({\"Salary\":0}).filter('salary ==0').show(3)\n",
    "# df.filter(df['salary'].isNull()).show(3)"
   ]
  },
  {
   "cell_type": "markdown",
   "metadata": {
    "application/vnd.databricks.v1+cell": {
     "cellMetadata": {},
     "inputWidgets": {},
     "nuid": "b1361829-2f9d-4b68-b32a-9d39ad723ba7",
     "showTitle": false,
     "tableResultSettingsMap": {},
     "title": ""
    }
   },
   "source": [
    "### group data by a column and make aggregations"
   ]
  },
  {
   "cell_type": "code",
   "execution_count": 0,
   "metadata": {
    "application/vnd.databricks.v1+cell": {
     "cellMetadata": {
      "byteLimit": 2048000,
      "rowLimit": 10000
     },
     "inputWidgets": {},
     "nuid": "32f52c1a-56f2-439d-b5f1-85a4cf374444",
     "showTitle": false,
     "tableResultSettingsMap": {},
     "title": ""
    }
   },
   "outputs": [
    {
     "output_type": "stream",
     "name": "stdout",
     "output_type": "stream",
     "text": [
      "+----+---------+--------------+\n|year|MaxSalary|TotalEmployees|\n+----+---------+--------------+\n|2021|$99628.01|           248|\n|2022|$94158.32|           270|\n|2023|$95988.63|           249|\n|2024|$96040.96|           233|\n+----+---------+--------------+\n\n"
     ]
    }
   ],
   "source": [
    "df_year = df.withColumn(\"year\",split(df['DOJ'],'-').getItem(0))\n",
    "\n",
    "df_year.groupBy('year').agg(max('salary').alias('MaxSalary'),count(\"emp id\").alias('TotalEmployees')).show()"
   ]
  },
  {
   "cell_type": "markdown",
   "metadata": {
    "application/vnd.databricks.v1+cell": {
     "cellMetadata": {},
     "inputWidgets": {},
     "nuid": "07e775a6-9031-442d-849c-634754a05a07",
     "showTitle": false,
     "tableResultSettingsMap": {},
     "title": ""
    }
   },
   "source": [
    "### Join 2 dataframes"
   ]
  },
  {
   "cell_type": "code",
   "execution_count": 0,
   "metadata": {
    "application/vnd.databricks.v1+cell": {
     "cellMetadata": {
      "byteLimit": 2048000,
      "rowLimit": 10000
     },
     "inputWidgets": {},
     "nuid": "6d84df82-c3b4-40e1-8629-65416d1a16c7",
     "showTitle": false,
     "tableResultSettingsMap": {},
     "title": ""
    }
   },
   "outputs": [],
   "source": [
    "# df1.join(df2, df1.id == df2.id, \"inner\")"
   ]
  },
  {
   "cell_type": "markdown",
   "metadata": {
    "application/vnd.databricks.v1+cell": {
     "cellMetadata": {},
     "inputWidgets": {},
     "nuid": "12096721-e7cc-4bab-860f-807df435bcde",
     "showTitle": false,
     "tableResultSettingsMap": {},
     "title": ""
    }
   },
   "source": [
    "remove duplicate rows"
   ]
  },
  {
   "cell_type": "code",
   "execution_count": 0,
   "metadata": {
    "application/vnd.databricks.v1+cell": {
     "cellMetadata": {
      "byteLimit": 2048000,
      "rowLimit": 10000
     },
     "inputWidgets": {},
     "nuid": "7dbe1d5e-dbdb-4df2-8fb6-fd55a769cc91",
     "showTitle": false,
     "tableResultSettingsMap": {},
     "title": ""
    }
   },
   "outputs": [
    {
     "output_type": "stream",
     "name": "stdout",
     "output_type": "stream",
     "text": [
      "1000\n713\n713\n"
     ]
    }
   ],
   "source": [
    "print(df.count())\n",
    "print(df.dropDuplicates(subset=['DOJ']).count())\n",
    "print(df.select('DOJ').distinct().count())"
   ]
  },
  {
   "cell_type": "markdown",
   "metadata": {
    "application/vnd.databricks.v1+cell": {
     "cellMetadata": {},
     "inputWidgets": {},
     "nuid": "a7b70e51-73c0-4912-980e-eff8ddb8a45b",
     "showTitle": false,
     "tableResultSettingsMap": {},
     "title": ""
    }
   },
   "source": [
    "### filter rows based on a condition"
   ]
  },
  {
   "cell_type": "code",
   "execution_count": 0,
   "metadata": {
    "application/vnd.databricks.v1+cell": {
     "cellMetadata": {
      "byteLimit": 2048000,
      "rowLimit": 10000
     },
     "inputWidgets": {},
     "nuid": "89a0216c-6ac4-4425-93c7-316e35f866dd",
     "showTitle": false,
     "tableResultSettingsMap": {},
     "title": ""
    }
   },
   "outputs": [
    {
     "output_type": "stream",
     "name": "stdout",
     "output_type": "stream",
     "text": [
      "32\n471\n497\n"
     ]
    }
   ],
   "source": [
    "print(df.filter(\"relocation is null\").count())\n",
    "print(df.filter(df['relocation']==True).count())\n",
    "print(df.where(df['relocation']==0).count())"
   ]
  },
  {
   "cell_type": "markdown",
   "metadata": {
    "application/vnd.databricks.v1+cell": {
     "cellMetadata": {},
     "inputWidgets": {},
     "nuid": "07f90b19-72f4-4f35-80be-9b8a1aed74cd",
     "showTitle": false,
     "tableResultSettingsMap": {},
     "title": ""
    }
   },
   "source": [
    "### Add new column to the dataframe"
   ]
  },
  {
   "cell_type": "code",
   "execution_count": 0,
   "metadata": {
    "application/vnd.databricks.v1+cell": {
     "cellMetadata": {
      "byteLimit": 2048000,
      "rowLimit": 10000
     },
     "inputWidgets": {},
     "nuid": "9682bbf9-9c2a-4b56-9db1-4f13a2d6c0ca",
     "showTitle": false,
     "tableResultSettingsMap": {},
     "title": ""
    }
   },
   "outputs": [
    {
     "output_type": "stream",
     "name": "stdout",
     "output_type": "stream",
     "text": [
      "+------+--------+-----------------+------+--------+----------+----------+----------+-----+------------+\n|Emp ID|Emp Name|         contract|gender| Country|       DOJ|    salary|Relocation|Month|   StaticCol|\n+------+--------+-----------------+------+--------+----------+----------+----------+-----+------------+\n|     1|    Kara|+853 410 196 7317|Female|   Macao|2021-06-27|$709117.57|      true|   06|static-value|\n|     2| Hillier|  +7 511 334 2980|  Male|  Russia|2022-08-20|      null|     false|   08|static-value|\n|     3|   Sayre| +57 983 888 4293|Female|Colombia|2022-11-30| $78402.39|      true|   11|static-value|\n+------+--------+-----------------+------+--------+----------+----------+----------+-----+------------+\nonly showing top 3 rows\n\n"
     ]
    }
   ],
   "source": [
    "dfx = df.withColumn(\"Month\", split(df['DOJ'],'-').getItem(1))\\\n",
    "    .withColumn('StaticCol', lit('static-value'))\n",
    "\n",
    "dfx.show(3)"
   ]
  },
  {
   "cell_type": "markdown",
   "metadata": {
    "application/vnd.databricks.v1+cell": {
     "cellMetadata": {},
     "inputWidgets": {},
     "nuid": "1dc3c3e4-d7f9-4107-a5db-4ea1c4a430e7",
     "showTitle": false,
     "tableResultSettingsMap": {},
     "title": ""
    }
   },
   "source": [
    "### Sort dataframe by multiple columns"
   ]
  },
  {
   "cell_type": "code",
   "execution_count": 0,
   "metadata": {
    "application/vnd.databricks.v1+cell": {
     "cellMetadata": {
      "byteLimit": 2048000,
      "rowLimit": 10000
     },
     "inputWidgets": {},
     "nuid": "74597cc3-6430-4d64-baa1-911042be278a",
     "showTitle": false,
     "tableResultSettingsMap": {},
     "title": ""
    }
   },
   "outputs": [
    {
     "output_type": "stream",
     "name": "stdout",
     "output_type": "stream",
     "text": [
      "+------+--------+-----------------+------+--------+----------+----------+----------+-----+------------+\n|Emp ID|Emp Name|         contract|gender| Country|       DOJ|    salary|Relocation|Month|   StaticCol|\n+------+--------+-----------------+------+--------+----------+----------+----------+-----+------------+\n|     1|    Kara|+853 410 196 7317|Female|   Macao|2021-06-27|$709117.57|      true|   06|static-value|\n|     2| Hillier|  +7 511 334 2980|  Male|  Russia|2022-08-20|      null|     false|   08|static-value|\n|     3|   Sayre| +57 983 888 4293|Female|Colombia|2022-11-30| $78402.39|      true|   11|static-value|\n+------+--------+-----------------+------+--------+----------+----------+----------+-----+------------+\nonly showing top 3 rows\n\n+------+--------+----------------+------+--------+----------+----------+----------+-----+------------+\n|Emp ID|Emp Name|        contract|gender| Country|       DOJ|    salary|Relocation|Month|   StaticCol|\n+------+--------+----------------+------+--------+----------+----------+----------+-----+------------+\n|   943|Susannah|+30 268 459 3192|Female|  Greece|2021-01-13|$216540.90|     false|   01|static-value|\n|   927|   Reggy|+86 813 323 8049|  Male|   China|2024-01-03|$254042.89|     false|   01|static-value|\n|   899|   Hasty|+66 574 247 7364|  Male|Thailand|2024-01-05|$760423.73|     false|   01|static-value|\n+------+--------+----------------+------+--------+----------+----------+----------+-----+------------+\nonly showing top 3 rows\n\n"
     ]
    }
   ],
   "source": [
    "dfx.orderBy([\"Month\", \"Emp ID\"][::-1], ascending=[True, False]).show(3)\n",
    "dfx.sort([\"Month\", \"Emp ID\"], ascending=[True, False]).show(3)"
   ]
  },
  {
   "cell_type": "markdown",
   "metadata": {
    "application/vnd.databricks.v1+cell": {
     "cellMetadata": {},
     "inputWidgets": {},
     "nuid": "36b43d8c-ac00-480e-92fe-608343dfe981",
     "showTitle": false,
     "tableResultSettingsMap": {},
     "title": ""
    }
   },
   "source": [
    "### alternate way of reversing a list without using inbuilt function .reverse()"
   ]
  },
  {
   "cell_type": "code",
   "execution_count": 0,
   "metadata": {
    "application/vnd.databricks.v1+cell": {
     "cellMetadata": {
      "byteLimit": 2048000,
      "rowLimit": 10000
     },
     "inputWidgets": {},
     "nuid": "5d10c9b6-62fd-4222-8617-d72918f621c6",
     "showTitle": false,
     "tableResultSettingsMap": {},
     "title": ""
    }
   },
   "outputs": [
    {
     "output_type": "stream",
     "name": "stdout",
     "output_type": "stream",
     "text": [
      "Out[116]: ['Emp ID', 'Month']"
     ]
    }
   ],
   "source": [
    "lst = [\"Month\", \"Emp ID\"]\n",
    "lst2=[]\n",
    "for i in range(len(lst)-1, -1, -1):\n",
    "    lst2.append(lst[i])\n",
    "lst2"
   ]
  },
  {
   "cell_type": "code",
   "execution_count": 0,
   "metadata": {
    "application/vnd.databricks.v1+cell": {
     "cellMetadata": {},
     "inputWidgets": {},
     "nuid": "adca89cc-cb48-402e-add5-036220ddec5d",
     "showTitle": false,
     "tableResultSettingsMap": {},
     "title": ""
    }
   },
   "outputs": [],
   "source": []
  }
 ],
 "metadata": {
  "application/vnd.databricks.v1+notebook": {
   "computePreferences": null,
   "dashboards": [],
   "environmentMetadata": {
    "base_environment": "",
    "client": "1"
   },
   "language": "python",
   "notebookMetadata": {
    "pythonIndentUnit": 4
   },
   "notebookName": "solved-2025",
   "widgets": {}
  }
 },
 "nbformat": 4,
 "nbformat_minor": 0
}
