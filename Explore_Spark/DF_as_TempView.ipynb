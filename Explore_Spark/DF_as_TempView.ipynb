{
 "cells": [
  {
   "cell_type": "markdown",
   "metadata": {
    "application/vnd.databricks.v1+cell": {
     "cellMetadata": {},
     "inputWidgets": {},
     "nuid": "8b59d433-172e-4c70-b3c0-2aea5a7a9639",
     "showTitle": false,
     "title": ""
    }
   },
   "source": [
    "## Import required Libraries"
   ]
  },
  {
   "cell_type": "code",
   "execution_count": 0,
   "metadata": {
    "application/vnd.databricks.v1+cell": {
     "cellMetadata": {
      "byteLimit": 2048000,
      "rowLimit": 10000
     },
     "inputWidgets": {},
     "nuid": "f1576b0c-4ad1-4011-99ac-ddbd10921da2",
     "showTitle": false,
     "title": ""
    }
   },
   "outputs": [],
   "source": [
    "from pyspark.sql import SparkSession\n",
    "from pyspark.sql.functions import col\n",
    "from pyspark.sql.types import StructType, StructField, StringType, IntegerType, DateType\n",
    "from datetime import datetime"
   ]
  },
  {
   "cell_type": "code",
   "execution_count": 0,
   "metadata": {
    "application/vnd.databricks.v1+cell": {
     "cellMetadata": {
      "byteLimit": 2048000,
      "rowLimit": 10000
     },
     "inputWidgets": {},
     "nuid": "b13431fd-44c2-471b-84e7-bed11ecb7ea5",
     "showTitle": false,
     "title": ""
    }
   },
   "outputs": [],
   "source": [
    "data = [\n",
    "    (datetime(2020, 5, 15), \"John\", \"New York\", 2),\n",
    "    (datetime(2018, 8, 20), \"Alice\", \"San Francisco\", 5),\n",
    "    (datetime(2019, 2, 10), \"Bob\", \"Chicago\", 4),\n",
    "    (datetime(2015, 11, 8), \"Mary\", \"Los Angeles\", 4),\n",
    "    (datetime(2017, 6, 25), \"David\", \"Boston\", 5),\n",
    "    (datetime(2016, 3, 12), \"Emily\", \"Seattle\", 3),\n",
    "    (datetime(2018, 9, 5), \"Michael\", \"Austin\", 5),\n",
    "]\n",
    "\n",
    "# Define schema\n",
    "schema = StructType([\n",
    "    StructField(\"DateOfJoining\", DateType(), True),\n",
    "    StructField(\"EName\", StringType(), True),\n",
    "    StructField(\"City\", StringType(), True),\n",
    "    StructField(\"YOE\", IntegerType(), True)\n",
    "])"
   ]
  },
  {
   "cell_type": "markdown",
   "metadata": {
    "application/vnd.databricks.v1+cell": {
     "cellMetadata": {},
     "inputWidgets": {},
     "nuid": "1ec079c9-b1a2-482c-af08-798b6c53c7c0",
     "showTitle": false,
     "title": ""
    }
   },
   "source": [
    "## Sample DF"
   ]
  },
  {
   "cell_type": "code",
   "execution_count": 0,
   "metadata": {
    "application/vnd.databricks.v1+cell": {
     "cellMetadata": {
      "byteLimit": 2048000,
      "rowLimit": 10000
     },
     "inputWidgets": {},
     "nuid": "c16a1acc-a276-46d8-8c77-c099b621451a",
     "showTitle": false,
     "title": ""
    }
   },
   "outputs": [
    {
     "output_type": "display_data",
     "data": {
      "text/html": [
       "<style scoped>\n",
       "  .table-result-container {\n",
       "    max-height: 300px;\n",
       "    overflow: auto;\n",
       "  }\n",
       "  table, th, td {\n",
       "    border: 1px solid black;\n",
       "    border-collapse: collapse;\n",
       "  }\n",
       "  th, td {\n",
       "    padding: 5px;\n",
       "  }\n",
       "  th {\n",
       "    text-align: left;\n",
       "  }\n",
       "</style><div class='table-result-container'><table class='table-result'><thead style='background-color: white'><tr><th>DateOfJoining</th><th>EName</th><th>City</th><th>YOE</th></tr></thead><tbody><tr><td>2020-05-15</td><td>John</td><td>New York</td><td>2</td></tr><tr><td>2018-08-20</td><td>Alice</td><td>San Francisco</td><td>5</td></tr><tr><td>2019-02-10</td><td>Bob</td><td>Chicago</td><td>4</td></tr><tr><td>2015-11-08</td><td>Mary</td><td>Los Angeles</td><td>4</td></tr><tr><td>2017-06-25</td><td>David</td><td>Boston</td><td>5</td></tr><tr><td>2016-03-12</td><td>Emily</td><td>Seattle</td><td>3</td></tr><tr><td>2018-09-05</td><td>Michael</td><td>Austin</td><td>5</td></tr></tbody></table></div>"
      ]
     },
     "metadata": {
      "application/vnd.databricks.v1+output": {
       "addedWidgets": {},
       "aggData": [],
       "aggError": "",
       "aggOverflow": false,
       "aggSchema": [],
       "aggSeriesLimitReached": false,
       "aggType": "",
       "arguments": {},
       "columnCustomDisplayInfos": {},
       "data": [
        [
         "2020-05-15",
         "John",
         "New York",
         2
        ],
        [
         "2018-08-20",
         "Alice",
         "San Francisco",
         5
        ],
        [
         "2019-02-10",
         "Bob",
         "Chicago",
         4
        ],
        [
         "2015-11-08",
         "Mary",
         "Los Angeles",
         4
        ],
        [
         "2017-06-25",
         "David",
         "Boston",
         5
        ],
        [
         "2016-03-12",
         "Emily",
         "Seattle",
         3
        ],
        [
         "2018-09-05",
         "Michael",
         "Austin",
         5
        ]
       ],
       "datasetInfos": [],
       "dbfsResultPath": null,
       "isJsonSchema": true,
       "metadata": {},
       "overflow": false,
       "plotOptions": {
        "customPlotOptions": {},
        "displayType": "table",
        "pivotAggregation": null,
        "pivotColumns": null,
        "xColumns": null,
        "yColumns": null
       },
       "removedWidgets": [],
       "schema": [
        {
         "metadata": "{}",
         "name": "DateOfJoining",
         "type": "\"date\""
        },
        {
         "metadata": "{}",
         "name": "EName",
         "type": "\"string\""
        },
        {
         "metadata": "{}",
         "name": "City",
         "type": "\"string\""
        },
        {
         "metadata": "{}",
         "name": "YOE",
         "type": "\"integer\""
        }
       ],
       "type": "table"
      }
     },
     "output_type": "display_data"
    }
   ],
   "source": [
    "df = spark.createDataFrame(data, schema)\n",
    "display(df)"
   ]
  },
  {
   "cell_type": "markdown",
   "metadata": {
    "application/vnd.databricks.v1+cell": {
     "cellMetadata": {},
     "inputWidgets": {},
     "nuid": "cc24a454-591a-4024-8873-64df38d66b24",
     "showTitle": false,
     "title": ""
    }
   },
   "source": [
    "## Shape of DF"
   ]
  },
  {
   "cell_type": "code",
   "execution_count": 0,
   "metadata": {
    "application/vnd.databricks.v1+cell": {
     "cellMetadata": {
      "byteLimit": 2048000,
      "rowLimit": 10000
     },
     "inputWidgets": {},
     "nuid": "16627767-1b69-482b-aefe-44f0dbeec0e9",
     "showTitle": false,
     "title": ""
    }
   },
   "outputs": [
    {
     "output_type": "stream",
     "name": "stdout",
     "output_type": "stream",
     "text": [
      "Out[76]: (7, 4)"
     ]
    }
   ],
   "source": [
    "df.count(), len(df.columns)"
   ]
  },
  {
   "cell_type": "markdown",
   "metadata": {
    "application/vnd.databricks.v1+cell": {
     "cellMetadata": {},
     "inputWidgets": {},
     "nuid": "3001817b-29bd-428a-962a-c50e717a7ce2",
     "showTitle": false,
     "title": ""
    }
   },
   "source": [
    "## General Way of creating a Temp View of Dataframe"
   ]
  },
  {
   "cell_type": "code",
   "execution_count": 0,
   "metadata": {
    "application/vnd.databricks.v1+cell": {
     "cellMetadata": {
      "byteLimit": 2048000,
      "rowLimit": 10000
     },
     "inputWidgets": {},
     "nuid": "47e35efe-14ac-49eb-a561-fa8e37868de3",
     "showTitle": false,
     "title": ""
    }
   },
   "outputs": [],
   "source": [
    "df.createOrReplaceTempView('Vw_employeeDF')"
   ]
  },
  {
   "cell_type": "code",
   "execution_count": 0,
   "metadata": {
    "application/vnd.databricks.v1+cell": {
     "cellMetadata": {
      "byteLimit": 2048000,
      "rowLimit": 10000
     },
     "inputWidgets": {},
     "nuid": "a4f94843-f908-4458-b947-375081efee01",
     "showTitle": false,
     "title": ""
    }
   },
   "outputs": [
    {
     "output_type": "display_data",
     "data": {
      "text/html": [
       "<style scoped>\n",
       "  .table-result-container {\n",
       "    max-height: 300px;\n",
       "    overflow: auto;\n",
       "  }\n",
       "  table, th, td {\n",
       "    border: 1px solid black;\n",
       "    border-collapse: collapse;\n",
       "  }\n",
       "  th, td {\n",
       "    padding: 5px;\n",
       "  }\n",
       "  th {\n",
       "    text-align: left;\n",
       "  }\n",
       "</style><div class='table-result-container'><table class='table-result'><thead style='background-color: white'><tr><th>DateOfJoining</th><th>EName</th><th>City</th><th>YOE</th></tr></thead><tbody><tr><td>2020-05-15</td><td>John</td><td>New York</td><td>2</td></tr><tr><td>2018-08-20</td><td>Alice</td><td>San Francisco</td><td>5</td></tr><tr><td>2019-02-10</td><td>Bob</td><td>Chicago</td><td>4</td></tr><tr><td>2015-11-08</td><td>Mary</td><td>Los Angeles</td><td>4</td></tr><tr><td>2017-06-25</td><td>David</td><td>Boston</td><td>5</td></tr><tr><td>2016-03-12</td><td>Emily</td><td>Seattle</td><td>3</td></tr><tr><td>2018-09-05</td><td>Michael</td><td>Austin</td><td>5</td></tr></tbody></table></div>"
      ]
     },
     "metadata": {
      "application/vnd.databricks.v1+output": {
       "addedWidgets": {},
       "aggData": [],
       "aggError": "",
       "aggOverflow": false,
       "aggSchema": [],
       "aggSeriesLimitReached": false,
       "aggType": "",
       "arguments": {},
       "columnCustomDisplayInfos": {},
       "data": [
        [
         "2020-05-15",
         "John",
         "New York",
         2
        ],
        [
         "2018-08-20",
         "Alice",
         "San Francisco",
         5
        ],
        [
         "2019-02-10",
         "Bob",
         "Chicago",
         4
        ],
        [
         "2015-11-08",
         "Mary",
         "Los Angeles",
         4
        ],
        [
         "2017-06-25",
         "David",
         "Boston",
         5
        ],
        [
         "2016-03-12",
         "Emily",
         "Seattle",
         3
        ],
        [
         "2018-09-05",
         "Michael",
         "Austin",
         5
        ]
       ],
       "datasetInfos": [],
       "dbfsResultPath": null,
       "isJsonSchema": true,
       "metadata": {},
       "overflow": false,
       "plotOptions": {
        "customPlotOptions": {},
        "displayType": "table",
        "pivotAggregation": null,
        "pivotColumns": null,
        "xColumns": null,
        "yColumns": null
       },
       "removedWidgets": [],
       "schema": [
        {
         "metadata": "{}",
         "name": "DateOfJoining",
         "type": "\"date\""
        },
        {
         "metadata": "{}",
         "name": "EName",
         "type": "\"string\""
        },
        {
         "metadata": "{}",
         "name": "City",
         "type": "\"string\""
        },
        {
         "metadata": "{}",
         "name": "YOE",
         "type": "\"integer\""
        }
       ],
       "type": "table"
      }
     },
     "output_type": "display_data"
    }
   ],
   "source": [
    "spark.sql('select * from vw_EmployeeDF').display() # CASE INSENSITIVE"
   ]
  },
  {
   "cell_type": "code",
   "execution_count": 0,
   "metadata": {
    "application/vnd.databricks.v1+cell": {
     "cellMetadata": {
      "byteLimit": 2048000,
      "rowLimit": 10000
     },
     "inputWidgets": {},
     "nuid": "6cdd83e5-11be-42f5-a174-6f7cb9b52e6b",
     "showTitle": false,
     "title": ""
    }
   },
   "outputs": [
    {
     "output_type": "stream",
     "name": "stdout",
     "output_type": "stream",
     "text": [
      "<class 'pyspark.sql.dataframe.DataFrame'>\n<class 'pyspark.sql.dataframe.DataFrame'>\n"
     ]
    }
   ],
   "source": [
    "vw = spark.sql('select * from vw_EmployeeDF where YOE = 4')\n",
    "print(type(vw))\n",
    "print(type(df))"
   ]
  },
  {
   "cell_type": "markdown",
   "metadata": {
    "application/vnd.databricks.v1+cell": {
     "cellMetadata": {},
     "inputWidgets": {},
     "nuid": "6a88cdd4-dab4-4da5-be81-9dba864a4ed7",
     "showTitle": false,
     "title": ""
    }
   },
   "source": [
    "## Using DF as Temp View"
   ]
  },
  {
   "cell_type": "code",
   "execution_count": 0,
   "metadata": {
    "application/vnd.databricks.v1+cell": {
     "cellMetadata": {
      "byteLimit": 2048000,
      "rowLimit": 10000
     },
     "inputWidgets": {},
     "nuid": "64f5921b-97ce-4a16-9f24-4d29d9a428bb",
     "showTitle": false,
     "title": ""
    }
   },
   "outputs": [
    {
     "output_type": "display_data",
     "data": {
      "text/html": [
       "<style scoped>\n",
       "  .table-result-container {\n",
       "    max-height: 300px;\n",
       "    overflow: auto;\n",
       "  }\n",
       "  table, th, td {\n",
       "    border: 1px solid black;\n",
       "    border-collapse: collapse;\n",
       "  }\n",
       "  th, td {\n",
       "    padding: 5px;\n",
       "  }\n",
       "  th {\n",
       "    text-align: left;\n",
       "  }\n",
       "</style><div class='table-result-container'><table class='table-result'><thead style='background-color: white'><tr><th>DateOfJoining</th><th>EName</th><th>City</th><th>YOE</th></tr></thead><tbody><tr><td>2020-05-15</td><td>John</td><td>New York</td><td>2</td></tr><tr><td>2018-08-20</td><td>Alice</td><td>San Francisco</td><td>5</td></tr><tr><td>2019-02-10</td><td>Bob</td><td>Chicago</td><td>4</td></tr><tr><td>2015-11-08</td><td>Mary</td><td>Los Angeles</td><td>4</td></tr><tr><td>2017-06-25</td><td>David</td><td>Boston</td><td>5</td></tr><tr><td>2016-03-12</td><td>Emily</td><td>Seattle</td><td>3</td></tr><tr><td>2018-09-05</td><td>Michael</td><td>Austin</td><td>5</td></tr></tbody></table></div>"
      ]
     },
     "metadata": {
      "application/vnd.databricks.v1+output": {
       "addedWidgets": {},
       "aggData": [],
       "aggError": "",
       "aggOverflow": false,
       "aggSchema": [],
       "aggSeriesLimitReached": false,
       "aggType": "",
       "arguments": {},
       "columnCustomDisplayInfos": {},
       "data": [
        [
         "2020-05-15",
         "John",
         "New York",
         2
        ],
        [
         "2018-08-20",
         "Alice",
         "San Francisco",
         5
        ],
        [
         "2019-02-10",
         "Bob",
         "Chicago",
         4
        ],
        [
         "2015-11-08",
         "Mary",
         "Los Angeles",
         4
        ],
        [
         "2017-06-25",
         "David",
         "Boston",
         5
        ],
        [
         "2016-03-12",
         "Emily",
         "Seattle",
         3
        ],
        [
         "2018-09-05",
         "Michael",
         "Austin",
         5
        ]
       ],
       "datasetInfos": [],
       "dbfsResultPath": null,
       "isJsonSchema": true,
       "metadata": {},
       "overflow": false,
       "plotOptions": {
        "customPlotOptions": {},
        "displayType": "table",
        "pivotAggregation": null,
        "pivotColumns": null,
        "xColumns": null,
        "yColumns": null
       },
       "removedWidgets": [],
       "schema": [
        {
         "metadata": "{}",
         "name": "DateOfJoining",
         "type": "\"date\""
        },
        {
         "metadata": "{}",
         "name": "EName",
         "type": "\"string\""
        },
        {
         "metadata": "{}",
         "name": "City",
         "type": "\"string\""
        },
        {
         "metadata": "{}",
         "name": "YOE",
         "type": "\"integer\""
        }
       ],
       "type": "table"
      }
     },
     "output_type": "display_data"
    }
   ],
   "source": [
    "spark.sql('select * from {DF_TempVw}', DF_TempVw = df).display()"
   ]
  },
  {
   "cell_type": "code",
   "execution_count": 0,
   "metadata": {
    "application/vnd.databricks.v1+cell": {
     "cellMetadata": {
      "byteLimit": 2048000,
      "rowLimit": 10000
     },
     "inputWidgets": {},
     "nuid": "e8143a66-7024-4555-9b90-0e9dff6b03e8",
     "showTitle": false,
     "title": ""
    }
   },
   "outputs": [
    {
     "output_type": "stream",
     "name": "stdout",
     "output_type": "stream",
     "text": [
      "Out[90]: pyspark.sql.dataframe.DataFrame"
     ]
    }
   ],
   "source": [
    "DFvw = spark.sql('select * from {DF_TempVw}', DF_TempVw = df)\n",
    "type(DFvw)"
   ]
  },
  {
   "cell_type": "code",
   "execution_count": 0,
   "metadata": {
    "application/vnd.databricks.v1+cell": {
     "cellMetadata": {},
     "inputWidgets": {},
     "nuid": "ba3dec30-ccaf-490c-8ee5-f346eacb0aee",
     "showTitle": false,
     "title": ""
    }
   },
   "outputs": [],
   "source": []
  }
 ],
 "metadata": {
  "application/vnd.databricks.v1+notebook": {
   "dashboards": [],
   "language": "python",
   "notebookMetadata": {
    "mostRecentlyExecutedCommandWithImplicitDF": {
     "commandId": 3368762984621201,
     "dataframes": [
      "_sqldf"
     ]
    },
    "pythonIndentUnit": 4
   },
   "notebookName": "DF_as_TempView (1)",
   "widgets": {}
  }
 },
 "nbformat": 4,
 "nbformat_minor": 0
}
