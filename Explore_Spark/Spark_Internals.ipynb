{
 "cells": [
  {
   "cell_type": "markdown",
   "metadata": {
    "application/vnd.databricks.v1+cell": {
     "cellMetadata": {},
     "inputWidgets": {},
     "nuid": "729b531e-b490-457c-ae6f-a31b831266ec",
     "showTitle": false,
     "title": ""
    }
   },
   "source": [
    "## No. of Cores"
   ]
  },
  {
   "cell_type": "code",
   "execution_count": 0,
   "metadata": {
    "application/vnd.databricks.v1+cell": {
     "cellMetadata": {
      "byteLimit": 2048000,
      "rowLimit": 10000
     },
     "inputWidgets": {},
     "nuid": "0b16f7f3-f54a-43d9-99aa-1544756a719e",
     "showTitle": false,
     "title": ""
    }
   },
   "outputs": [
    {
     "output_type": "stream",
     "name": "stdout",
     "output_type": "stream",
     "text": [
      "Out[1]: 8"
     ]
    }
   ],
   "source": [
    "spark.sparkContext.defaultParallelism"
   ]
  },
  {
   "cell_type": "markdown",
   "metadata": {
    "application/vnd.databricks.v1+cell": {
     "cellMetadata": {},
     "inputWidgets": {},
     "nuid": "2f6d40cc-c665-4867-83d4-9a78cf04afca",
     "showTitle": false,
     "title": ""
    }
   },
   "source": [
    "## max size of Partition"
   ]
  },
  {
   "cell_type": "code",
   "execution_count": 0,
   "metadata": {
    "application/vnd.databricks.v1+cell": {
     "cellMetadata": {
      "byteLimit": 2048000,
      "rowLimit": 10000
     },
     "inputWidgets": {},
     "nuid": "46d4c092-5cfb-4c8f-ae2d-5278edd4f20c",
     "showTitle": false,
     "title": ""
    }
   },
   "outputs": [
    {
     "output_type": "stream",
     "name": "stdout",
     "output_type": "stream",
     "text": [
      "Out[2]: 128.0"
     ]
    }
   ],
   "source": [
    "import re\n",
    "\n",
    "parts = spark.conf.get(\"spark.sql.files.maxPartitionBytes\")\n",
    "parts_size = int(re.sub(re.compile('[^0-9]'), '', parts))/(1024**2)\n",
    "parts_size"
   ]
  },
  {
   "cell_type": "markdown",
   "metadata": {
    "application/vnd.databricks.v1+cell": {
     "cellMetadata": {},
     "inputWidgets": {},
     "nuid": "f91afd09-3377-4256-b413-eb84d0f54653",
     "showTitle": false,
     "title": ""
    }
   },
   "source": [
    "## Open Cost "
   ]
  },
  {
   "cell_type": "code",
   "execution_count": 0,
   "metadata": {
    "application/vnd.databricks.v1+cell": {
     "cellMetadata": {
      "byteLimit": 2048000,
      "rowLimit": 10000
     },
     "inputWidgets": {},
     "nuid": "75e5266a-deb7-4d5d-b4b2-ca9be79bfe3a",
     "showTitle": false,
     "title": ""
    }
   },
   "outputs": [
    {
     "output_type": "stream",
     "name": "stdout",
     "output_type": "stream",
     "text": [
      "Out[3]: 4.0"
     ]
    }
   ],
   "source": [
    "buff = spark.conf.get(\"spark.sql.files.openCostInBytes\")\n",
    "buff_size = int(re.sub(re.compile('[^0-9]'), '', buff))/(1024**2)\n",
    "buff_size"
   ]
  },
  {
   "cell_type": "markdown",
   "metadata": {
    "application/vnd.databricks.v1+cell": {
     "cellMetadata": {},
     "inputWidgets": {},
     "nuid": "f789b421-0047-43d8-8126-e9aad1ff93fb",
     "showTitle": false,
     "title": ""
    }
   },
   "source": [
    "## As of Spark 3.x, AQE is enabled by default\n",
    "**Automatically solves data skewness in partitions, also it provides the required kind of join strategy dynamically, also shuffling will made as less as possible dynamically**\n",
    "\n",
    "*we might use SALTING technique i.e. splitting larger partition to multiple partitions manually -- by creating a pseudo key*"
   ]
  },
  {
   "cell_type": "code",
   "execution_count": 0,
   "metadata": {
    "application/vnd.databricks.v1+cell": {
     "cellMetadata": {
      "byteLimit": 2048000,
      "rowLimit": 10000
     },
     "inputWidgets": {},
     "nuid": "01945f6b-8d9c-4d90-b5db-3acdf886746b",
     "showTitle": false,
     "title": ""
    }
   },
   "outputs": [
    {
     "output_type": "stream",
     "name": "stdout",
     "output_type": "stream",
     "text": [
      "Out[4]: 'true'"
     ]
    }
   ],
   "source": [
    "spark.conf.get(\"spark.sql.adaptive.enabled\")"
   ]
  },
  {
   "cell_type": "code",
   "execution_count": 0,
   "metadata": {
    "application/vnd.databricks.v1+cell": {
     "cellMetadata": {
      "byteLimit": 2048000,
      "rowLimit": 10000
     },
     "inputWidgets": {},
     "nuid": "926f6652-e008-41d7-964d-067b0221edef",
     "showTitle": false,
     "title": ""
    }
   },
   "outputs": [
    {
     "output_type": "stream",
     "name": "stdout",
     "output_type": "stream",
     "text": [
      "Out[5]: [FileInfo(path='dbfs:/FileStore/ExploreInternals/Calendar.csv', name='Calendar.csv', size=494637, modificationTime=1714129024000),\n FileInfo(path='dbfs:/FileStore/ExploreInternals/Customers.csv', name='Customers.csv', size=3061458, modificationTime=1714129025000),\n FileInfo(path='dbfs:/FileStore/ExploreInternals/Products.csv', name='Products.csv', size=500845, modificationTime=1714129023000),\n FileInfo(path='dbfs:/FileStore/ExploreInternals/Promotions.csv', name='Promotions.csv', size=4347, modificationTime=1714129023000),\n FileInfo(path='dbfs:/FileStore/ExploreInternals/Stores.csv', name='Stores.csv', size=29575, modificationTime=1714129024000)]"
     ]
    }
   ],
   "source": [
    "dbutils.fs.ls('dbfs:/FileStore/ExploreInternals/')"
   ]
  },
  {
   "cell_type": "markdown",
   "metadata": {
    "application/vnd.databricks.v1+cell": {
     "cellMetadata": {},
     "inputWidgets": {},
     "nuid": "a8617799-c5cf-42ab-88a8-b3c1a391b8f2",
     "showTitle": false,
     "title": ""
    }
   },
   "source": [
    "## read all csv files in a directory as a single dataframe\n",
    "***Check for the number of jobs created***"
   ]
  },
  {
   "cell_type": "code",
   "execution_count": 0,
   "metadata": {
    "application/vnd.databricks.v1+cell": {
     "cellMetadata": {
      "byteLimit": 2048000,
      "rowLimit": 10000
     },
     "inputWidgets": {},
     "nuid": "b672623f-a7c0-4d03-8a1b-3951d3c195aa",
     "showTitle": false,
     "title": ""
    }
   },
   "outputs": [],
   "source": [
    "df = spark.read.format('csv').option('header',True).load('dbfs:/FileStore/ExploreInternals/*.csv')"
   ]
  },
  {
   "cell_type": "markdown",
   "metadata": {
    "application/vnd.databricks.v1+cell": {
     "cellMetadata": {},
     "inputWidgets": {},
     "nuid": "7c44e7bb-2697-4bec-bda1-70c154501014",
     "showTitle": false,
     "title": ""
    }
   },
   "source": [
    "***by default it scans all the records and returns one single row with count of records -----> which is one job. (check in view)***\n",
    "\n",
    "**if schema is specified in the code, then no jobs are created**"
   ]
  },
  {
   "cell_type": "code",
   "execution_count": 0,
   "metadata": {
    "application/vnd.databricks.v1+cell": {
     "cellMetadata": {
      "byteLimit": 2048000,
      "rowLimit": 10000
     },
     "inputWidgets": {},
     "nuid": "45726c03-bfff-4ffa-a19f-bdeb982de76b",
     "showTitle": false,
     "title": ""
    }
   },
   "outputs": [
    {
     "output_type": "display_data",
     "data": {
      "text/html": [
       "<style scoped>\n",
       "  .table-result-container {\n",
       "    max-height: 300px;\n",
       "    overflow: auto;\n",
       "  }\n",
       "  table, th, td {\n",
       "    border: 1px solid black;\n",
       "    border-collapse: collapse;\n",
       "  }\n",
       "  th, td {\n",
       "    padding: 5px;\n",
       "  }\n",
       "  th {\n",
       "    text-align: left;\n",
       "  }\n",
       "</style><div class='table-result-container'><table class='table-result'><thead style='background-color: white'><tr><th>Customer_Key</th><th>Customer_Name</th><th>Birth_Date</th><th>Marital_Status</th><th>Gender</th><th>Yearly_Income</th><th>Total_Children</th><th>Number_of_Children_at_Home</th><th>Education</th><th>Occupation</th><th>House_Owner</th><th>Number_of_Cars_Owned</th><th>Date_of_First_Purchase</th><th>Customer_Type</th><th>Company_Name</th><th>Country</th><th>State</th></tr></thead><tbody><tr><td>25</td><td>Xie, Russell</td><td>1978-09-17 00:00:00.000</td><td>M</td><td>M</td><td>60000</td><td>0</td><td>0</td><td>Partial College</td><td>Skilled Manual</td><td>1</td><td>2</td><td>2003-12-29 00:00:00.000</td><td>Person</td><td>null</td><td>United States</td><td>California</td></tr><tr><td>37</td><td>Russell, Jennifer</td><td>1978-12-18 00:00:00.000</td><td>M</td><td>F</td><td>60000</td><td>0</td><td>0</td><td>Partial College</td><td>Skilled Manual</td><td>1</td><td>2</td><td>2003-07-26 00:00:00.000</td><td>Person</td><td>null</td><td>United States</td><td>California</td></tr><tr><td>42</td><td>Carter, Amanda</td><td>1977-10-16 00:00:00.000</td><td>M</td><td>F</td><td>60000</td><td>0</td><td>0</td><td>Partial College</td><td>Skilled Manual</td><td>1</td><td>2</td><td>2003-07-18 00:00:00.000</td><td>Person</td><td>null</td><td>United States</td><td>California</td></tr><tr><td>44</td><td>Simmons, Nathan</td><td>1976-02-24 00:00:00.000</td><td>M</td><td>M</td><td>60000</td><td>0</td><td>0</td><td>Partial College</td><td>Skilled Manual</td><td>1</td><td>2</td><td>2003-11-09 00:00:00.000</td><td>Person</td><td>null</td><td>United States</td><td>California</td></tr><tr><td>929</td><td>Morris, Isabella</td><td>1978-09-07 00:00:00.000</td><td>M</td><td>F</td><td>60000</td><td>0</td><td>0</td><td>Partial College</td><td>Skilled Manual</td><td>1</td><td>2</td><td>2003-12-02 00:00:00.000</td><td>Person</td><td>null</td><td>United States</td><td>California</td></tr></tbody></table></div>"
      ]
     },
     "metadata": {
      "application/vnd.databricks.v1+output": {
       "addedWidgets": {},
       "aggData": [],
       "aggError": "",
       "aggOverflow": false,
       "aggSchema": [],
       "aggSeriesLimitReached": false,
       "aggType": "",
       "arguments": {},
       "columnCustomDisplayInfos": {},
       "data": [
        [
         "25",
         "Xie, Russell",
         "1978-09-17 00:00:00.000",
         "M",
         "M",
         "60000",
         "0",
         "0",
         "Partial College",
         "Skilled Manual",
         "1",
         "2",
         "2003-12-29 00:00:00.000",
         "Person",
         null,
         "United States",
         "California"
        ],
        [
         "37",
         "Russell, Jennifer",
         "1978-12-18 00:00:00.000",
         "M",
         "F",
         "60000",
         "0",
         "0",
         "Partial College",
         "Skilled Manual",
         "1",
         "2",
         "2003-07-26 00:00:00.000",
         "Person",
         null,
         "United States",
         "California"
        ],
        [
         "42",
         "Carter, Amanda",
         "1977-10-16 00:00:00.000",
         "M",
         "F",
         "60000",
         "0",
         "0",
         "Partial College",
         "Skilled Manual",
         "1",
         "2",
         "2003-07-18 00:00:00.000",
         "Person",
         null,
         "United States",
         "California"
        ],
        [
         "44",
         "Simmons, Nathan",
         "1976-02-24 00:00:00.000",
         "M",
         "M",
         "60000",
         "0",
         "0",
         "Partial College",
         "Skilled Manual",
         "1",
         "2",
         "2003-11-09 00:00:00.000",
         "Person",
         null,
         "United States",
         "California"
        ],
        [
         "929",
         "Morris, Isabella",
         "1978-09-07 00:00:00.000",
         "M",
         "F",
         "60000",
         "0",
         "0",
         "Partial College",
         "Skilled Manual",
         "1",
         "2",
         "2003-12-02 00:00:00.000",
         "Person",
         null,
         "United States",
         "California"
        ]
       ],
       "datasetInfos": [],
       "dbfsResultPath": null,
       "isJsonSchema": true,
       "metadata": {},
       "overflow": false,
       "plotOptions": {
        "customPlotOptions": {},
        "displayType": "table",
        "pivotAggregation": null,
        "pivotColumns": null,
        "xColumns": null,
        "yColumns": null
       },
       "removedWidgets": [],
       "schema": [
        {
         "metadata": "{}",
         "name": "Customer_Key",
         "type": "\"string\""
        },
        {
         "metadata": "{}",
         "name": "Customer_Name",
         "type": "\"string\""
        },
        {
         "metadata": "{}",
         "name": "Birth_Date",
         "type": "\"string\""
        },
        {
         "metadata": "{}",
         "name": "Marital_Status",
         "type": "\"string\""
        },
        {
         "metadata": "{}",
         "name": "Gender",
         "type": "\"string\""
        },
        {
         "metadata": "{}",
         "name": "Yearly_Income",
         "type": "\"string\""
        },
        {
         "metadata": "{}",
         "name": "Total_Children",
         "type": "\"string\""
        },
        {
         "metadata": "{}",
         "name": "Number_of_Children_at_Home",
         "type": "\"string\""
        },
        {
         "metadata": "{}",
         "name": "Education",
         "type": "\"string\""
        },
        {
         "metadata": "{}",
         "name": "Occupation",
         "type": "\"string\""
        },
        {
         "metadata": "{}",
         "name": "House_Owner",
         "type": "\"string\""
        },
        {
         "metadata": "{}",
         "name": "Number_of_Cars_Owned",
         "type": "\"string\""
        },
        {
         "metadata": "{}",
         "name": "Date_of_First_Purchase",
         "type": "\"string\""
        },
        {
         "metadata": "{}",
         "name": "Customer_Type",
         "type": "\"string\""
        },
        {
         "metadata": "{}",
         "name": "Company_Name",
         "type": "\"string\""
        },
        {
         "metadata": "{}",
         "name": "Country",
         "type": "\"string\""
        },
        {
         "metadata": "{}",
         "name": "State",
         "type": "\"string\""
        }
       ],
       "type": "table"
      }
     },
     "output_type": "display_data"
    }
   ],
   "source": [
    "display(df.limit(5))"
   ]
  },
  {
   "cell_type": "markdown",
   "metadata": {
    "application/vnd.databricks.v1+cell": {
     "cellMetadata": {},
     "inputWidgets": {},
     "nuid": "8b770ed7-624e-4b0f-a17a-850a5e8713a3",
     "showTitle": false,
     "title": ""
    }
   },
   "source": [
    "## Rows X Columns"
   ]
  },
  {
   "cell_type": "code",
   "execution_count": 0,
   "metadata": {
    "application/vnd.databricks.v1+cell": {
     "cellMetadata": {
      "byteLimit": 2048000,
      "rowLimit": 10000
     },
     "inputWidgets": {},
     "nuid": "eab2acd6-c804-48a1-ad97-84af20703d2f",
     "showTitle": false,
     "title": ""
    }
   },
   "outputs": [
    {
     "output_type": "stream",
     "name": "stdout",
     "output_type": "stream",
     "text": [
      "24276 X 17\n"
     ]
    }
   ],
   "source": [
    "print(df.count(), 'X' ,len(df.columns))"
   ]
  },
  {
   "cell_type": "markdown",
   "metadata": {
    "application/vnd.databricks.v1+cell": {
     "cellMetadata": {},
     "inputWidgets": {},
     "nuid": "c58dc049-70c8-4014-a9f6-0eaea89c267c",
     "showTitle": false,
     "title": ""
    }
   },
   "source": [
    "## How many partitions ?"
   ]
  },
  {
   "cell_type": "code",
   "execution_count": 0,
   "metadata": {
    "application/vnd.databricks.v1+cell": {
     "cellMetadata": {
      "byteLimit": 2048000,
      "rowLimit": 10000
     },
     "inputWidgets": {},
     "nuid": "465e4d21-a573-47c6-bf01-c4b741b17111",
     "showTitle": false,
     "title": ""
    }
   },
   "outputs": [
    {
     "output_type": "stream",
     "name": "stdout",
     "output_type": "stream",
     "text": [
      "Out[10]: 5"
     ]
    }
   ],
   "source": [
    "df.rdd.getNumPartitions()"
   ]
  },
  {
   "cell_type": "markdown",
   "metadata": {
    "application/vnd.databricks.v1+cell": {
     "cellMetadata": {
      "byteLimit": 2048000,
      "rowLimit": 10000
     },
     "inputWidgets": {},
     "nuid": "669f208c-801a-4dba-8a78-4b224d8a48c3",
     "showTitle": false,
     "title": ""
    }
   },
   "source": [
    "## How many records in each partition"
   ]
  },
  {
   "cell_type": "code",
   "execution_count": 0,
   "metadata": {
    "application/vnd.databricks.v1+cell": {
     "cellMetadata": {
      "byteLimit": 2048000,
      "rowLimit": 10000
     },
     "inputWidgets": {},
     "nuid": "be2d5b07-161e-4115-911c-b73eeb0e2657",
     "showTitle": false,
     "title": ""
    }
   },
   "outputs": [
    {
     "output_type": "stream",
     "name": "stdout",
     "output_type": "stream",
     "text": [
      "+----------+---------------+\n|partitions|Partition_Count|\n+----------+---------------+\n|         0|          18869|\n|         1|           2517|\n|         2|           2556|\n|         3|            306|\n|         4|             28|\n+----------+---------------+\n\n"
     ]
    }
   ],
   "source": [
    "from pyspark.sql.functions import spark_partition_id,col\n",
    "parts_count = df.withColumn('partitions', spark_partition_id()).groupBy('partitions').count().\\\n",
    "                                                                select(col('partitions'),col('count').alias('Partition_Count'))\n",
    "parts_count.show()"
   ]
  },
  {
   "cell_type": "markdown",
   "metadata": {
    "application/vnd.databricks.v1+cell": {
     "cellMetadata": {},
     "inputWidgets": {},
     "nuid": "d2d67e5f-0c4e-4feb-9550-44f0ef2ebe49",
     "showTitle": false,
     "title": ""
    }
   },
   "source": [
    "***This is SKEWED DATA***"
   ]
  },
  {
   "cell_type": "code",
   "execution_count": 0,
   "metadata": {
    "application/vnd.databricks.v1+cell": {
     "cellMetadata": {
      "byteLimit": 2048000,
      "rowLimit": 10000
     },
     "inputWidgets": {},
     "nuid": "1c93fd53-8b87-4287-8ac0-8dff3f915364",
     "showTitle": false,
     "title": ""
    }
   },
   "outputs": [
    {
     "output_type": "stream",
     "name": "stdout",
     "output_type": "stream",
     "text": [
      "+---------+\n|TotalRecs|\n+---------+\n|    24276|\n+---------+\n\n"
     ]
    }
   ],
   "source": [
    "from pyspark.sql.functions import sum\n",
    "parts_count.select(sum(parts_count.Partition_Count).alias('TotalRecs')).show()"
   ]
  },
  {
   "cell_type": "code",
   "execution_count": 0,
   "metadata": {
    "application/vnd.databricks.v1+cell": {
     "cellMetadata": {},
     "inputWidgets": {},
     "nuid": "0d9d9fbc-b20f-4d80-b5ae-3bc901406316",
     "showTitle": false,
     "title": ""
    }
   },
   "outputs": [],
   "source": []
  }
 ],
 "metadata": {
  "application/vnd.databricks.v1+notebook": {
   "dashboards": [],
   "language": "python",
   "notebookMetadata": {
    "pythonIndentUnit": 4
   },
   "notebookName": "Spark Internals",
   "widgets": {}
  }
 },
 "nbformat": 4,
 "nbformat_minor": 0
}
