{
 "cells": [
  {
   "cell_type": "code",
   "execution_count": 0,
   "metadata": {
    "application/vnd.databricks.v1+cell": {
     "cellMetadata": {
      "byteLimit": 2048000,
      "rowLimit": 10000
     },
     "inputWidgets": {},
     "nuid": "29735886-219f-488c-8879-9689f4d96f79",
     "showTitle": false,
     "title": ""
    }
   },
   "outputs": [],
   "source": [
    "from pyspark.sql.functions import *\n",
    "from pyspark.sql.types import *"
   ]
  },
  {
   "cell_type": "code",
   "execution_count": 0,
   "metadata": {
    "application/vnd.databricks.v1+cell": {
     "cellMetadata": {
      "byteLimit": 2048000,
      "rowLimit": 10000
     },
     "inputWidgets": {},
     "nuid": "c3ce6070-f222-4e37-ad7a-aa0438cb2bcc",
     "showTitle": false,
     "title": ""
    }
   },
   "outputs": [
    {
     "output_type": "stream",
     "name": "stdout",
     "output_type": "stream",
     "text": [
      "+----------+-----+---+------+\n|     fname|lname| id|gender|\n+----------+-----+---+------+\n|     James| Bond|100|  null|\n|       Ann|Varsa|200|     F|\n|Tom Cruise|  XXX|400|      |\n| Tom Brand| null|400|     M|\n+----------+-----+---+------+\n\n"
     ]
    }
   ],
   "source": [
    "data=[(\"James\",\"Bond\",\"100\",None),\n",
    "      (\"Ann\",\"Varsa\",\"200\",'F'),\n",
    "      (\"Tom Cruise\",\"XXX\",\"400\",''),\n",
    "      (\"Tom Brand\",None,\"400\",'M')] \n",
    "columns=[\"fname\",\"lname\",\"id\",\"gender\"]\n",
    "df=spark.createDataFrame(data,columns)\n",
    "df.show()"
   ]
  },
  {
   "cell_type": "markdown",
   "metadata": {
    "application/vnd.databricks.v1+cell": {
     "cellMetadata": {},
     "inputWidgets": {},
     "nuid": "1b2ec1b2-82eb-43da-860f-c89fc9e48567",
     "showTitle": false,
     "title": ""
    }
   },
   "source": [
    "## alias usage"
   ]
  },
  {
   "cell_type": "code",
   "execution_count": 0,
   "metadata": {
    "application/vnd.databricks.v1+cell": {
     "cellMetadata": {
      "byteLimit": 2048000,
      "rowLimit": 10000
     },
     "inputWidgets": {},
     "nuid": "fa978d52-4e98-4d58-8e5f-87d5c6036971",
     "showTitle": false,
     "title": ""
    }
   },
   "outputs": [
    {
     "output_type": "stream",
     "name": "stdout",
     "output_type": "stream",
     "text": [
      "+----------+--------+--------+------+\n| FirstName|LastName|Identity|gender|\n+----------+--------+--------+------+\n|     James|    Bond|     100|  null|\n|       Ann|   Varsa|     200|     F|\n|Tom Cruise|     XXX|     400|      |\n| Tom Brand|    null|     400|     M|\n+----------+--------+--------+------+\n\n"
     ]
    }
   ],
   "source": [
    "df1 = df.select(\n",
    "        df['fname'].alias('FirstName'),\n",
    "        df.lname.alias('LastName'),\n",
    "        col('id').alias('Identity'),\n",
    "        'gender')\n",
    "df1.show()"
   ]
  },
  {
   "cell_type": "markdown",
   "metadata": {
    "application/vnd.databricks.v1+cell": {
     "cellMetadata": {},
     "inputWidgets": {},
     "nuid": "9f9ea82f-1c92-42bd-bb95-d78056dd9030",
     "showTitle": false,
     "title": ""
    }
   },
   "source": [
    "## column concatination"
   ]
  },
  {
   "cell_type": "code",
   "execution_count": 0,
   "metadata": {
    "application/vnd.databricks.v1+cell": {
     "cellMetadata": {
      "byteLimit": 2048000,
      "rowLimit": 10000
     },
     "inputWidgets": {},
     "nuid": "a508868d-e774-44bb-8637-1b48562e1d08",
     "showTitle": false,
     "title": ""
    }
   },
   "outputs": [
    {
     "output_type": "stream",
     "name": "stdout",
     "output_type": "stream",
     "text": [
      "+----------+--------+--------+------+--------------+\n| FirstName|LastName|Identity|gender|      FullName|\n+----------+--------+--------+------+--------------+\n|     James|    Bond|     100|  null|    James Bond|\n|       Ann|   Varsa|     200|     F|     Ann Varsa|\n|Tom Cruise|     XXX|     400|      |Tom Cruise XXX|\n| Tom Brand|    null|     400|     M|          null|\n+----------+--------+--------+------+--------------+\n\n"
     ]
    }
   ],
   "source": [
    "df1.selectExpr(\"*\", \"concat(FirstName, ' ', LastName) as FullName\").show()"
   ]
  },
  {
   "cell_type": "code",
   "execution_count": 0,
   "metadata": {
    "application/vnd.databricks.v1+cell": {
     "cellMetadata": {
      "byteLimit": 2048000,
      "rowLimit": 10000
     },
     "inputWidgets": {},
     "nuid": "847b6748-af33-4768-ad65-de2fd1fe0abb",
     "showTitle": false,
     "title": ""
    }
   },
   "outputs": [
    {
     "output_type": "stream",
     "name": "stdout",
     "output_type": "stream",
     "text": [
      "+--------------+---+------+\n|      FullName| ID|Gender|\n+--------------+---+------+\n|Tom Cruise XXX|400|      |\n|     Ann Varsa|200|     F|\n|    James Bond|100|  null|\n|          null|400|     M|\n+--------------+---+------+\n\nroot\n |-- FullName: string (nullable = true)\n |-- ID: string (nullable = true)\n |-- Gender: string (nullable = true)\n\n"
     ]
    }
   ],
   "source": [
    "df2 = df1.select(\n",
    "            expr(\"FirstName || ' ' || LastName\").alias('FullName'),\\\n",
    "            df1['Identity'].alias('ID'),\n",
    "            'Gender').sort(df1.LastName.desc(),\n",
    "                           df1.Identity.asc())\n",
    "df2.show()\n",
    "df2.printSchema()"
   ]
  },
  {
   "cell_type": "markdown",
   "metadata": {
    "application/vnd.databricks.v1+cell": {
     "cellMetadata": {},
     "inputWidgets": {},
     "nuid": "eb9b7b1d-5a36-471a-a00e-7260bc0d049f",
     "showTitle": false,
     "title": ""
    }
   },
   "source": [
    "***Tom Brand appears an NULL i.e. fname + null = null***"
   ]
  },
  {
   "cell_type": "markdown",
   "metadata": {
    "application/vnd.databricks.v1+cell": {
     "cellMetadata": {
      "byteLimit": 2048000,
      "rowLimit": 10000
     },
     "inputWidgets": {},
     "nuid": "90103ae5-7abb-4ebf-b5d2-d335ad5fc07e",
     "showTitle": false,
     "title": ""
    }
   },
   "source": [
    "## cast() & astype()"
   ]
  },
  {
   "cell_type": "code",
   "execution_count": 0,
   "metadata": {
    "application/vnd.databricks.v1+cell": {
     "cellMetadata": {
      "byteLimit": 2048000,
      "rowLimit": 10000
     },
     "inputWidgets": {},
     "nuid": "6cca7cbf-f9f4-4744-908c-57c3b2c7cce8",
     "showTitle": false,
     "title": ""
    }
   },
   "outputs": [
    {
     "output_type": "stream",
     "name": "stdout",
     "output_type": "stream",
     "text": [
      "root\n |-- FullName: string (nullable = true)\n |-- ID: integer (nullable = true)\n\n"
     ]
    }
   ],
   "source": [
    "df2.select('FullName', df2.ID.cast('int')).printSchema()\n",
    "# df2.select('FullName', df2.ID.cast(IntegerType())).printSchema()"
   ]
  },
  {
   "cell_type": "markdown",
   "metadata": {
    "application/vnd.databricks.v1+cell": {
     "cellMetadata": {},
     "inputWidgets": {},
     "nuid": "e60cb0cd-7a3e-4144-a366-4d3e49879619",
     "showTitle": false,
     "title": ""
    }
   },
   "source": [
    "## between()"
   ]
  },
  {
   "cell_type": "code",
   "execution_count": 0,
   "metadata": {
    "application/vnd.databricks.v1+cell": {
     "cellMetadata": {
      "byteLimit": 2048000,
      "rowLimit": 10000
     },
     "inputWidgets": {},
     "nuid": "ebcb6b36-ae73-49a4-9541-f363693aebe1",
     "showTitle": false,
     "title": ""
    }
   },
   "outputs": [
    {
     "output_type": "stream",
     "name": "stdout",
     "output_type": "stream",
     "text": [
      "+----------+---+------+\n|  FullName| ID|Gender|\n+----------+---+------+\n| Ann Varsa|200|     F|\n|James Bond|100|  null|\n+----------+---+------+\n\n"
     ]
    }
   ],
   "source": [
    "df2.filter(df2.ID.between(100,300)).show()"
   ]
  },
  {
   "cell_type": "markdown",
   "metadata": {
    "application/vnd.databricks.v1+cell": {
     "cellMetadata": {},
     "inputWidgets": {},
     "nuid": "ac4cb3bc-3f81-46a7-8ed9-280fee587fee",
     "showTitle": false,
     "title": ""
    }
   },
   "source": [
    "## contains()"
   ]
  },
  {
   "cell_type": "code",
   "execution_count": 0,
   "metadata": {
    "application/vnd.databricks.v1+cell": {
     "cellMetadata": {
      "byteLimit": 2048000,
      "rowLimit": 10000
     },
     "inputWidgets": {},
     "nuid": "89f0521a-1c29-4c0b-b6a8-18a3d958e81e",
     "showTitle": false,
     "title": ""
    }
   },
   "outputs": [
    {
     "output_type": "stream",
     "name": "stdout",
     "output_type": "stream",
     "text": [
      "+---------+---+------+\n| FullName| ID|Gender|\n+---------+---+------+\n|Ann Varsa|200|     F|\n+---------+---+------+\n\n"
     ]
    }
   ],
   "source": [
    "df2.filter(df2.FullName.contains('An')).show()"
   ]
  },
  {
   "cell_type": "markdown",
   "metadata": {
    "application/vnd.databricks.v1+cell": {
     "cellMetadata": {},
     "inputWidgets": {},
     "nuid": "f4290b57-6154-4964-8049-b03d92494995",
     "showTitle": false,
     "title": ""
    }
   },
   "source": [
    "## startswith() & endswith()"
   ]
  },
  {
   "cell_type": "code",
   "execution_count": 0,
   "metadata": {
    "application/vnd.databricks.v1+cell": {
     "cellMetadata": {
      "byteLimit": 2048000,
      "rowLimit": 10000
     },
     "inputWidgets": {},
     "nuid": "2d5b4d0a-f8b6-4308-9960-4b85f812b115",
     "showTitle": false,
     "title": ""
    }
   },
   "outputs": [
    {
     "output_type": "stream",
     "name": "stdout",
     "output_type": "stream",
     "text": [
      "+--------------+---+------+\n|      FullName| ID|Gender|\n+--------------+---+------+\n|Tom Cruise XXX|400|      |\n+--------------+---+------+\n\n+----------+---+------+\n|  FullName| ID|Gender|\n+----------+---+------+\n|James Bond|100|  null|\n+----------+---+------+\n\n"
     ]
    }
   ],
   "source": [
    "df2.filter(df2['FullName'].startswith('T')).show()\n",
    "df2.filter(df2['FullName'].endswith('ond')).show()"
   ]
  },
  {
   "cell_type": "markdown",
   "metadata": {
    "application/vnd.databricks.v1+cell": {
     "cellMetadata": {},
     "inputWidgets": {},
     "nuid": "2e5f854a-c4ea-4e09-b142-af4345831e2a",
     "showTitle": false,
     "title": ""
    }
   },
   "source": [
    "## isNull() & isNotNull()"
   ]
  },
  {
   "cell_type": "code",
   "execution_count": 0,
   "metadata": {
    "application/vnd.databricks.v1+cell": {
     "cellMetadata": {
      "byteLimit": 2048000,
      "rowLimit": 10000
     },
     "inputWidgets": {},
     "nuid": "80ad1f45-80b6-4909-b360-b9d8e311b45f",
     "showTitle": false,
     "title": ""
    }
   },
   "outputs": [
    {
     "output_type": "stream",
     "name": "stdout",
     "output_type": "stream",
     "text": [
      "+----------+---+------+\n|  FullName| ID|Gender|\n+----------+---+------+\n|James Bond|100|  null|\n+----------+---+------+\n\n+--------------+---+------+\n|      FullName| ID|Gender|\n+--------------+---+------+\n|Tom Cruise XXX|400|      |\n|     Ann Varsa|200|     F|\n|          null|400|     M|\n+--------------+---+------+\n\n"
     ]
    }
   ],
   "source": [
    "df2.filter(df2.Gender.isNull()).show()\n",
    "df2.filter(df2.Gender.isNotNull()).show()"
   ]
  },
  {
   "cell_type": "markdown",
   "metadata": {
    "application/vnd.databricks.v1+cell": {
     "cellMetadata": {},
     "inputWidgets": {},
     "nuid": "8785f1ef-ae56-455a-a955-6c63712dc052",
     "showTitle": false,
     "title": ""
    }
   },
   "source": [
    "## like()"
   ]
  },
  {
   "cell_type": "code",
   "execution_count": 0,
   "metadata": {
    "application/vnd.databricks.v1+cell": {
     "cellMetadata": {
      "byteLimit": 2048000,
      "rowLimit": 10000
     },
     "inputWidgets": {},
     "nuid": "67f1ede5-f67f-48ed-882b-5e4cb6a55cb4",
     "showTitle": false,
     "title": ""
    }
   },
   "outputs": [
    {
     "output_type": "stream",
     "name": "stdout",
     "output_type": "stream",
     "text": [
      "+--------------+---+------+\n|      FullName| ID|Gender|\n+--------------+---+------+\n|Tom Cruise XXX|400|      |\n|    James Bond|100|  null|\n+--------------+---+------+\n\n+----------+---+------+\n|  FullName| ID|Gender|\n+----------+---+------+\n|James Bond|100|  null|\n+----------+---+------+\n\n"
     ]
    }
   ],
   "source": [
    "df2.filter(col('FullName').like('__m%')).show()   ## matching 3rd letter from starting\n",
    "df2.filter(col('FullName').like('%B_nd')).show()  ## matching last letters"
   ]
  },
  {
   "cell_type": "markdown",
   "metadata": {
    "application/vnd.databricks.v1+cell": {
     "cellMetadata": {},
     "inputWidgets": {},
     "nuid": "ea4c4580-df7f-4cf2-8d45-9a1d62fc8562",
     "showTitle": false,
     "title": ""
    }
   },
   "source": [
    "## substr()"
   ]
  },
  {
   "cell_type": "code",
   "execution_count": 0,
   "metadata": {
    "application/vnd.databricks.v1+cell": {
     "cellMetadata": {
      "byteLimit": 2048000,
      "rowLimit": 10000
     },
     "inputWidgets": {},
     "nuid": "a3c131f3-5bf9-423d-bcc1-9f997e8e5d00",
     "showTitle": false,
     "title": ""
    }
   },
   "outputs": [
    {
     "output_type": "stream",
     "name": "stdout",
     "output_type": "stream",
     "text": [
      "+----------+\n|Substrings|\n+----------+\n|    m Crui|\n|    n Vars|\n|    mes Bo|\n|      null|\n+----------+\n\n"
     ]
    }
   ],
   "source": [
    "df2.select(col('FullName').substr(3,6).alias('Substrings')).show()"
   ]
  },
  {
   "cell_type": "markdown",
   "metadata": {
    "application/vnd.databricks.v1+cell": {
     "cellMetadata": {},
     "inputWidgets": {},
     "nuid": "01e9c8f4-7486-4ffd-8529-61223b24f2f8",
     "showTitle": false,
     "title": ""
    }
   },
   "source": [
    "## when() & otherwise()\n",
    "--> *similar to SQL case when*"
   ]
  },
  {
   "cell_type": "code",
   "execution_count": 0,
   "metadata": {
    "application/vnd.databricks.v1+cell": {
     "cellMetadata": {
      "byteLimit": 2048000,
      "rowLimit": 10000
     },
     "inputWidgets": {},
     "nuid": "fccd3881-6ed8-4a12-823f-df499028361d",
     "showTitle": false,
     "title": ""
    }
   },
   "outputs": [
    {
     "output_type": "stream",
     "name": "stdout",
     "output_type": "stream",
     "text": [
      "+--------+----------+---------+\n|Identity| FirstName|NewGender|\n+--------+----------+---------+\n|     100|     James|     null|\n|     200|       Ann|   FEMALE|\n|     400|Tom Cruise|         |\n|     400| Tom Brand|     MALE|\n+--------+----------+---------+\n\n"
     ]
    }
   ],
   "source": [
    "df1.select('Identity',\n",
    "           'FirstName',\n",
    "                when(col('Gender') == 'M', \"MALE\").\\\n",
    "                when(col('Gender') == 'F',\"FEMALE\").\\\n",
    "                when(col('Gender') == None, '').\\\n",
    "                otherwise(df1.gender).alias('NewGender')).show()"
   ]
  },
  {
   "cell_type": "markdown",
   "metadata": {
    "application/vnd.databricks.v1+cell": {
     "cellMetadata": {},
     "inputWidgets": {},
     "nuid": "7e4a0810-6e8b-428a-8184-90d7282ba260",
     "showTitle": false,
     "title": ""
    }
   },
   "source": [
    "## isin()"
   ]
  },
  {
   "cell_type": "code",
   "execution_count": 0,
   "metadata": {
    "application/vnd.databricks.v1+cell": {
     "cellMetadata": {
      "byteLimit": 2048000,
      "rowLimit": 10000
     },
     "inputWidgets": {},
     "nuid": "567f58a8-09ff-4d73-a4a8-8db2744a9bd1",
     "showTitle": false,
     "title": ""
    }
   },
   "outputs": [
    {
     "output_type": "stream",
     "name": "stdout",
     "output_type": "stream",
     "text": [
      "+--------+---------+--------+------+\n|Identity|FirstName|LastName|Gender|\n+--------+---------+--------+------+\n|     100|    James|    Bond|  null|\n|     200|      Ann|   Varsa|     F|\n+--------+---------+--------+------+\n\n"
     ]
    }
   ],
   "source": [
    "lst = [100,200]\n",
    "df1.select('Identity','FirstName','LastName','Gender').\\\n",
    "    filter(df1['Identity'].isin(lst)).show()"
   ]
  },
  {
   "cell_type": "markdown",
   "metadata": {
    "application/vnd.databricks.v1+cell": {
     "cellMetadata": {},
     "inputWidgets": {},
     "nuid": "5db0c300-902f-4c37-a576-b1cea2f01c47",
     "showTitle": false,
     "title": ""
    }
   },
   "source": [
    "## getField()"
   ]
  },
  {
   "cell_type": "code",
   "execution_count": 0,
   "metadata": {
    "application/vnd.databricks.v1+cell": {
     "cellMetadata": {
      "byteLimit": 2048000,
      "rowLimit": 10000
     },
     "inputWidgets": {},
     "nuid": "6166134c-a5d7-4432-99c7-3a184a4ec70a",
     "showTitle": false,
     "title": ""
    }
   },
   "outputs": [
    {
     "output_type": "stream",
     "name": "stdout",
     "output_type": "stream",
     "text": [
      "+-----------------+---------------+-----------------------------+\n|name             |languages      |properties                   |\n+-----------------+---------------+-----------------------------+\n|{James, Bond}    |[Java, C#]     |{eye -> brown, hair -> black}|\n|{Ann, Varsa}     |[.NET, Python] |{eye -> black, hair -> brown}|\n|{Tom Cruise, }   |[Python, Scala]|{eye -> grey, hair -> red}   |\n|{Tom Brand, null}|[Perl, Ruby]   |{eye -> blue, hair -> black} |\n+-----------------+---------------+-----------------------------+\n\nroot\n |-- name: struct (nullable = true)\n |    |-- fname: string (nullable = true)\n |    |-- lname: string (nullable = true)\n |-- languages: array (nullable = true)\n |    |-- element: string (containsNull = true)\n |-- properties: map (nullable = true)\n |    |-- key: string\n |    |-- value: string (valueContainsNull = true)\n\n"
     ]
    }
   ],
   "source": [
    "from pyspark.sql.types import StructType,StructField,StringType,ArrayType,MapType\n",
    "data=[((\"James\",\"Bond\"),[\"Java\",\"C#\"],{'hair':'black','eye':'brown'}),\n",
    "      ((\"Ann\",\"Varsa\"),[\".NET\",\"Python\"],{'hair':'brown','eye':'black'}),\n",
    "      ((\"Tom Cruise\",\"\"),[\"Python\",\"Scala\"],{'hair':'red','eye':'grey'}),\n",
    "      ((\"Tom Brand\",None),[\"Perl\",\"Ruby\"],{'hair':'black','eye':'blue'})]\n",
    "\n",
    "schema = StructType([\n",
    "        StructField('name', StructType([\n",
    "            StructField('fname', StringType(), True),\n",
    "            StructField('lname', StringType(), True)])),\n",
    "        StructField('languages', ArrayType(StringType()),True),\n",
    "        StructField('properties', MapType(StringType(),StringType()),True)    ## MapType\n",
    "     ])\n",
    "df=spark.createDataFrame(data,schema)\n",
    "df.show(truncate=False)\n",
    "df.printSchema()"
   ]
  },
  {
   "cell_type": "code",
   "execution_count": 0,
   "metadata": {
    "application/vnd.databricks.v1+cell": {
     "cellMetadata": {
      "byteLimit": 2048000,
      "rowLimit": 10000
     },
     "inputWidgets": {},
     "nuid": "1bf44ea9-4c6f-4201-bb53-7c90ab6e1cc1",
     "showTitle": false,
     "title": ""
    }
   },
   "outputs": [
    {
     "output_type": "stream",
     "name": "stdout",
     "output_type": "stream",
     "text": [
      "+----------------+\n|properties[hair]|\n+----------------+\n|           black|\n|           brown|\n|             red|\n|           black|\n+----------------+\n\n+----------+\n| firstName|\n+----------+\n|     James|\n|       Ann|\n|Tom Cruise|\n| Tom Brand|\n+----------+\n\n"
     ]
    }
   ],
   "source": [
    "df.select(df.properties.getField('hair')).show()                  ## from MapType\n",
    "df.select(df.name.getField('fname').alias('firstName')).show()    ## from Struct"
   ]
  },
  {
   "cell_type": "markdown",
   "metadata": {
    "application/vnd.databricks.v1+cell": {
     "cellMetadata": {},
     "inputWidgets": {},
     "nuid": "24109daa-da00-4e5e-b7c8-764a39bcdff6",
     "showTitle": false,
     "title": ""
    }
   },
   "source": [
    "## getItem()"
   ]
  },
  {
   "cell_type": "code",
   "execution_count": 0,
   "metadata": {
    "application/vnd.databricks.v1+cell": {
     "cellMetadata": {
      "byteLimit": 2048000,
      "rowLimit": 10000
     },
     "inputWidgets": {},
     "nuid": "8e002a33-910b-4279-a3b9-7acbdec67a41",
     "showTitle": false,
     "title": ""
    }
   },
   "outputs": [
    {
     "output_type": "stream",
     "name": "stdout",
     "output_type": "stream",
     "text": [
      "+----------------+\n|properties[hair]|\n+----------------+\n|           black|\n|           brown|\n|             red|\n|           black|\n+----------------+\n\n+------------+\n|languages[1]|\n+------------+\n|          C#|\n|      Python|\n|       Scala|\n|        Ruby|\n+------------+\n\n"
     ]
    }
   ],
   "source": [
    "df.select(df.properties.getItem('hair')).show()\n",
    "df.select(df.languages.getItem(1)).show()"
   ]
  },
  {
   "cell_type": "markdown",
   "metadata": {
    "application/vnd.databricks.v1+cell": {
     "cellMetadata": {},
     "inputWidgets": {},
     "nuid": "7c57a003-c73d-4590-947c-467ce472096a",
     "showTitle": false,
     "title": ""
    }
   },
   "source": [
    "## create_map()"
   ]
  },
  {
   "cell_type": "code",
   "execution_count": 0,
   "metadata": {
    "application/vnd.databricks.v1+cell": {
     "cellMetadata": {
      "byteLimit": 2048000,
      "rowLimit": 10000
     },
     "inputWidgets": {},
     "nuid": "d9079964-bbc3-4e42-af3e-9230ac6a152a",
     "showTitle": false,
     "title": ""
    }
   },
   "outputs": [
    {
     "output_type": "stream",
     "name": "stdout",
     "output_type": "stream",
     "text": [
      "+----------+--------+--------+------+-------------+\n|FirstName |LastName|Identity|gender|Mapping      |\n+----------+--------+--------+------+-------------+\n|James     |Bond    |100     |null  |{100 -> null}|\n|Ann       |Varsa   |200     |F     |{200 -> F}   |\n|Tom Cruise|XXX     |400     |      |{400 -> }    |\n|Tom Brand |null    |400     |M     |{400 -> M}   |\n+----------+--------+--------+------+-------------+\n\n"
     ]
    }
   ],
   "source": [
    "df1.withColumn('Mapping', create_map('Identity','Gender')).show(truncate=False)"
   ]
  },
  {
   "cell_type": "code",
   "execution_count": 0,
   "metadata": {
    "application/vnd.databricks.v1+cell": {
     "cellMetadata": {
      "byteLimit": 2048000,
      "rowLimit": 10000
     },
     "inputWidgets": {},
     "nuid": "c55ad203-0e80-4e30-a34d-9be71625afe8",
     "showTitle": false,
     "title": ""
    }
   },
   "outputs": [
    {
     "output_type": "stream",
     "name": "stdout",
     "output_type": "stream",
     "text": [
      "+----------+-------------+\n| FirstName|        Mapps|\n+----------+-------------+\n|     James|{100 -> null}|\n|       Ann|   {200 -> F}|\n|Tom Cruise|    {400 -> }|\n| Tom Brand|   {400 -> M}|\n+----------+-------------+\n\nroot\n |-- FirstName: string (nullable = true)\n |-- Mapps: map (nullable = false)\n |    |-- key: string\n |    |-- value: string (valueContainsNull = true)\n\n"
     ]
    }
   ],
   "source": [
    "dfMaps = df1.select('FirstName',create_map('Identity','Gender').alias('Mapps'))\n",
    "dfMaps.show()\n",
    "dfMaps.printSchema()                    # MapType(StringType(),StringType())                                               "
   ]
  },
  {
   "cell_type": "markdown",
   "metadata": {
    "application/vnd.databricks.v1+cell": {
     "cellMetadata": {},
     "inputWidgets": {},
     "nuid": "e3565a59-51a8-41fa-981a-d8d7abe63e7a",
     "showTitle": false,
     "title": ""
    }
   },
   "source": [
    "## Reversing create_map()"
   ]
  },
  {
   "cell_type": "code",
   "execution_count": 0,
   "metadata": {
    "application/vnd.databricks.v1+cell": {
     "cellMetadata": {
      "byteLimit": 2048000,
      "rowLimit": 10000
     },
     "inputWidgets": {},
     "nuid": "de0ce53a-6590-460f-99c1-9553e68c2723",
     "showTitle": false,
     "title": ""
    }
   },
   "outputs": [
    {
     "output_type": "stream",
     "name": "stdout",
     "output_type": "stream",
     "text": [
      "+----------+----+----+\n|FirstName |keys|vals|\n+----------+----+----+\n|James     |100 |null|\n|Ann       |200 |F   |\n|Tom Cruise|400 |    |\n|Tom Brand |400 |M   |\n+----------+----+----+\n\n"
     ]
    }
   ],
   "source": [
    "dfMaps.select('FirstName',explode('Mapps').alias('keys','vals')).show(truncate=False)"
   ]
  },
  {
   "cell_type": "code",
   "execution_count": 0,
   "metadata": {
    "application/vnd.databricks.v1+cell": {
     "cellMetadata": {},
     "inputWidgets": {},
     "nuid": "650f54d1-297b-467e-bbed-65099019a795",
     "showTitle": false,
     "title": ""
    }
   },
   "outputs": [],
   "source": []
  }
 ],
 "metadata": {
  "application/vnd.databricks.v1+notebook": {
   "dashboards": [],
   "language": "python",
   "notebookMetadata": {
    "pythonIndentUnit": 4
   },
   "notebookName": "Column Class",
   "widgets": {}
  }
 },
 "nbformat": 4,
 "nbformat_minor": 0
}
